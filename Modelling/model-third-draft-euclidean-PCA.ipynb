{
 "cells": [
  {
   "cell_type": "code",
   "execution_count": 35,
   "id": "02d124ee-9695-43c6-806f-2339c449c1de",
   "metadata": {},
   "outputs": [],
   "source": [
    "%matplotlib inline\n",
    "import os\n",
    "\n",
    "import numpy as np\n",
    "import pandas as pd\n",
    "import matplotlib.pyplot as plt\n",
    "import pylab \n",
    "import scipy.stats as stats\n",
    "#from dotenv import load_dotenv\n",
    "from tueplots import bundles\n",
    "from tueplots.constants.color import rgb"
   ]
  },
  {
   "cell_type": "code",
   "execution_count": 9,
   "id": "5dc4e542-0440-4f83-b57e-e623ed4264d9",
   "metadata": {},
   "outputs": [],
   "source": [
    "#final_df = pd.read_csv('../all_data/all-data-best-city.csv', index_col=0)"
   ]
  },
  {
   "cell_type": "code",
   "execution_count": 10,
   "id": "5b460bbf",
   "metadata": {},
   "outputs": [
    {
     "data": {
      "text/plain": [
       "'/Users/kayoonkim/Documents/2023-wise/data-literacy/city-recsys/all_data/all-data-best-city.csv'"
      ]
     },
     "execution_count": 10,
     "metadata": {},
     "output_type": "execute_result"
    }
   ],
   "source": [
    "os.getenv(\"DATASET_PATH\")"
   ]
  },
  {
   "cell_type": "code",
   "execution_count": 11,
   "id": "7aa9c025",
   "metadata": {},
   "outputs": [],
   "source": [
    "final_df = pd.read_csv(os.getenv(\"DATASET_PATH\"), index_col=0)"
   ]
  },
  {
   "cell_type": "code",
   "execution_count": 12,
   "id": "bfd3feba-7551-4e29-b45e-78f40ee916e9",
   "metadata": {},
   "outputs": [
    {
     "data": {
      "text/html": [
       "<div>\n",
       "<style scoped>\n",
       "    .dataframe tbody tr th:only-of-type {\n",
       "        vertical-align: middle;\n",
       "    }\n",
       "\n",
       "    .dataframe tbody tr th {\n",
       "        vertical-align: top;\n",
       "    }\n",
       "\n",
       "    .dataframe thead th {\n",
       "        text-align: right;\n",
       "    }\n",
       "</style>\n",
       "<table border=\"1\" class=\"dataframe\">\n",
       "  <thead>\n",
       "    <tr style=\"text-align: right;\">\n",
       "      <th></th>\n",
       "      <th>city_ascii</th>\n",
       "      <th>cost_live_rent_index</th>\n",
       "      <th>purchase_pow_index</th>\n",
       "      <th>country</th>\n",
       "      <th>mean_tmp</th>\n",
       "      <th>std_dev_temp</th>\n",
       "      <th>safety_index</th>\n",
       "      <th>pollution_index</th>\n",
       "      <th>trffic_min_index</th>\n",
       "      <th>lat</th>\n",
       "      <th>lng</th>\n",
       "    </tr>\n",
       "  </thead>\n",
       "  <tbody>\n",
       "    <tr>\n",
       "      <th>0</th>\n",
       "      <td>Honolulu</td>\n",
       "      <td>80.4</td>\n",
       "      <td>74.4</td>\n",
       "      <td>United States</td>\n",
       "      <td>25.441667</td>\n",
       "      <td>1.837220</td>\n",
       "      <td>52.6</td>\n",
       "      <td>37.0</td>\n",
       "      <td>41.5</td>\n",
       "      <td>21.3294</td>\n",
       "      <td>-157.8460</td>\n",
       "    </tr>\n",
       "    <tr>\n",
       "      <th>1</th>\n",
       "      <td>Seattle</td>\n",
       "      <td>83.4</td>\n",
       "      <td>108.4</td>\n",
       "      <td>United States</td>\n",
       "      <td>11.316667</td>\n",
       "      <td>5.142662</td>\n",
       "      <td>45.7</td>\n",
       "      <td>34.7</td>\n",
       "      <td>46.9</td>\n",
       "      <td>47.6211</td>\n",
       "      <td>-122.3244</td>\n",
       "    </tr>\n",
       "    <tr>\n",
       "      <th>2</th>\n",
       "      <td>Canberra</td>\n",
       "      <td>69.1</td>\n",
       "      <td>69.1</td>\n",
       "      <td>Australia</td>\n",
       "      <td>13.141667</td>\n",
       "      <td>5.418396</td>\n",
       "      <td>72.0</td>\n",
       "      <td>26.1</td>\n",
       "      <td>43.3</td>\n",
       "      <td>-35.2931</td>\n",
       "      <td>149.1269</td>\n",
       "    </tr>\n",
       "    <tr>\n",
       "      <th>3</th>\n",
       "      <td>Adelaide</td>\n",
       "      <td>64.6</td>\n",
       "      <td>67.3</td>\n",
       "      <td>Australia</td>\n",
       "      <td>17.208333</td>\n",
       "      <td>4.416798</td>\n",
       "      <td>66.7</td>\n",
       "      <td>27.1</td>\n",
       "      <td>45.1</td>\n",
       "      <td>-34.9275</td>\n",
       "      <td>138.6000</td>\n",
       "    </tr>\n",
       "    <tr>\n",
       "      <th>4</th>\n",
       "      <td>Boston</td>\n",
       "      <td>82.0</td>\n",
       "      <td>106.6</td>\n",
       "      <td>United States</td>\n",
       "      <td>12.063636</td>\n",
       "      <td>8.341855</td>\n",
       "      <td>59.6</td>\n",
       "      <td>32.3</td>\n",
       "      <td>46.5</td>\n",
       "      <td>42.3188</td>\n",
       "      <td>-71.0852</td>\n",
       "    </tr>\n",
       "  </tbody>\n",
       "</table>\n",
       "</div>"
      ],
      "text/plain": [
       "  city_ascii  cost_live_rent_index  purchase_pow_index        country  \\\n",
       "0   Honolulu                  80.4                74.4  United States   \n",
       "1    Seattle                  83.4               108.4  United States   \n",
       "2   Canberra                  69.1                69.1      Australia   \n",
       "3   Adelaide                  64.6                67.3      Australia   \n",
       "4     Boston                  82.0               106.6  United States   \n",
       "\n",
       "    mean_tmp  std_dev_temp  safety_index  pollution_index  trffic_min_index  \\\n",
       "0  25.441667      1.837220          52.6             37.0              41.5   \n",
       "1  11.316667      5.142662          45.7             34.7              46.9   \n",
       "2  13.141667      5.418396          72.0             26.1              43.3   \n",
       "3  17.208333      4.416798          66.7             27.1              45.1   \n",
       "4  12.063636      8.341855          59.6             32.3              46.5   \n",
       "\n",
       "       lat       lng  \n",
       "0  21.3294 -157.8460  \n",
       "1  47.6211 -122.3244  \n",
       "2 -35.2931  149.1269  \n",
       "3 -34.9275  138.6000  \n",
       "4  42.3188  -71.0852  "
      ]
     },
     "execution_count": 12,
     "metadata": {},
     "output_type": "execute_result"
    }
   ],
   "source": [
    "final_df.head()"
   ]
  },
  {
   "cell_type": "code",
   "execution_count": 13,
   "id": "15d39b63-1b62-4a10-8656-a975275a0643",
   "metadata": {},
   "outputs": [
    {
     "data": {
      "text/plain": [
       "Index(['city_ascii', 'cost_live_rent_index', 'purchase_pow_index', 'country',\n",
       "       'mean_tmp', 'std_dev_temp', 'safety_index', 'pollution_index',\n",
       "       'trffic_min_index', 'lat', 'lng'],\n",
       "      dtype='object')"
      ]
     },
     "execution_count": 13,
     "metadata": {},
     "output_type": "execute_result"
    }
   ],
   "source": [
    "final_df.columns"
   ]
  },
  {
   "cell_type": "code",
   "execution_count": 14,
   "id": "82a8cdae-5c43-4fd7-a5eb-e4a0cc36ff7c",
   "metadata": {},
   "outputs": [],
   "source": [
    "#final_df = final_df.drop(['rank_cost_living', 'rank_traffic','rank_safety'], axis=1)\n",
    "#final_df.head()"
   ]
  },
  {
   "cell_type": "code",
   "execution_count": 15,
   "id": "d1a645df-d0ee-41f8-966a-162ed6fd2d17",
   "metadata": {},
   "outputs": [],
   "source": [
    "# Define variables for best mean temperature and best std deviation value\n",
    "best_mean_tmp = 20\n",
    "best_std_dev_tmp = 10"
   ]
  },
  {
   "cell_type": "code",
   "execution_count": 16,
   "id": "7e2e37d9-ad73-4725-9a16-37a542e9605d",
   "metadata": {},
   "outputs": [
    {
     "data": {
      "text/plain": [
       "\"\\n# Testing for temperature \\nfinal_df['mean_tmp_diff_from_best'] = abs(best_mean_tmp - final_df['mean_tmp'])\\nfinal_df['tmp_std_dev_diff_from_best'] = abs(best_std_dev_tmp - final_df['std_dev_temp'])\\n\\nfinal_df.head()\\n\""
      ]
     },
     "execution_count": 16,
     "metadata": {},
     "output_type": "execute_result"
    }
   ],
   "source": [
    "\"\"\"\n",
    "# Testing for temperature \n",
    "final_df['mean_tmp_diff_from_best'] = abs(best_mean_tmp - final_df['mean_tmp'])\n",
    "final_df['tmp_std_dev_diff_from_best'] = abs(best_std_dev_tmp - final_df['std_dev_temp'])\n",
    "\n",
    "final_df.head()\n",
    "\"\"\""
   ]
  },
  {
   "cell_type": "code",
   "execution_count": 17,
   "id": "31395b42",
   "metadata": {},
   "outputs": [
    {
     "data": {
      "text/plain": [
       "Index(['city_ascii', 'cost_live_rent_index', 'purchase_pow_index', 'country',\n",
       "       'mean_tmp', 'std_dev_temp', 'safety_index', 'pollution_index',\n",
       "       'trffic_min_index', 'lat', 'lng'],\n",
       "      dtype='object')"
      ]
     },
     "execution_count": 17,
     "metadata": {},
     "output_type": "execute_result"
    }
   ],
   "source": [
    "final_df.columns"
   ]
  },
  {
   "cell_type": "code",
   "execution_count": 18,
   "id": "b7b1b15d-ebe1-46d4-9d8e-5f48eed9c5e4",
   "metadata": {},
   "outputs": [
    {
     "data": {
      "text/html": [
       "<div>\n",
       "<style scoped>\n",
       "    .dataframe tbody tr th:only-of-type {\n",
       "        vertical-align: middle;\n",
       "    }\n",
       "\n",
       "    .dataframe tbody tr th {\n",
       "        vertical-align: top;\n",
       "    }\n",
       "\n",
       "    .dataframe thead th {\n",
       "        text-align: right;\n",
       "    }\n",
       "</style>\n",
       "<table border=\"1\" class=\"dataframe\">\n",
       "  <thead>\n",
       "    <tr style=\"text-align: right;\">\n",
       "      <th></th>\n",
       "      <th>city_ascii</th>\n",
       "      <th>country</th>\n",
       "      <th>mean_tmp</th>\n",
       "      <th>std_dev_temp</th>\n",
       "      <th>lat</th>\n",
       "      <th>lng</th>\n",
       "      <th>scaled_cost_live_rent_index</th>\n",
       "      <th>scaled_purchase_pow_index</th>\n",
       "      <th>scaled_safety_index</th>\n",
       "      <th>scaled_pollution_index</th>\n",
       "      <th>scaled_trffic_min_index</th>\n",
       "      <th>scaled_mean_tmp</th>\n",
       "      <th>scaled_tmp_std_dev</th>\n",
       "    </tr>\n",
       "  </thead>\n",
       "  <tbody>\n",
       "    <tr>\n",
       "      <th>0</th>\n",
       "      <td>Honolulu</td>\n",
       "      <td>United States</td>\n",
       "      <td>25.441667</td>\n",
       "      <td>1.837220</td>\n",
       "      <td>21.3294</td>\n",
       "      <td>-157.8460</td>\n",
       "      <td>0.119138</td>\n",
       "      <td>0.464207</td>\n",
       "      <td>0.517190</td>\n",
       "      <td>0.730670</td>\n",
       "      <td>0.551064</td>\n",
       "      <td>0.837757</td>\n",
       "      <td>0.145254</td>\n",
       "    </tr>\n",
       "    <tr>\n",
       "      <th>1</th>\n",
       "      <td>Seattle</td>\n",
       "      <td>United States</td>\n",
       "      <td>11.316667</td>\n",
       "      <td>5.142662</td>\n",
       "      <td>47.6211</td>\n",
       "      <td>-122.3244</td>\n",
       "      <td>0.081115</td>\n",
       "      <td>0.715129</td>\n",
       "      <td>0.414051</td>\n",
       "      <td>0.760309</td>\n",
       "      <td>0.436170</td>\n",
       "      <td>0.112158</td>\n",
       "      <td>0.479235</td>\n",
       "    </tr>\n",
       "    <tr>\n",
       "      <th>2</th>\n",
       "      <td>Canberra</td>\n",
       "      <td>Australia</td>\n",
       "      <td>13.141667</td>\n",
       "      <td>5.418396</td>\n",
       "      <td>-35.2931</td>\n",
       "      <td>149.1269</td>\n",
       "      <td>0.262357</td>\n",
       "      <td>0.425092</td>\n",
       "      <td>0.807175</td>\n",
       "      <td>0.871134</td>\n",
       "      <td>0.512766</td>\n",
       "      <td>0.205908</td>\n",
       "      <td>0.507095</td>\n",
       "    </tr>\n",
       "    <tr>\n",
       "      <th>3</th>\n",
       "      <td>Adelaide</td>\n",
       "      <td>Australia</td>\n",
       "      <td>17.208333</td>\n",
       "      <td>4.416798</td>\n",
       "      <td>-34.9275</td>\n",
       "      <td>138.6000</td>\n",
       "      <td>0.319392</td>\n",
       "      <td>0.411808</td>\n",
       "      <td>0.727952</td>\n",
       "      <td>0.858247</td>\n",
       "      <td>0.474468</td>\n",
       "      <td>0.414812</td>\n",
       "      <td>0.405894</td>\n",
       "    </tr>\n",
       "    <tr>\n",
       "      <th>4</th>\n",
       "      <td>Boston</td>\n",
       "      <td>United States</td>\n",
       "      <td>12.063636</td>\n",
       "      <td>8.341855</td>\n",
       "      <td>42.3188</td>\n",
       "      <td>-71.0852</td>\n",
       "      <td>0.098859</td>\n",
       "      <td>0.701845</td>\n",
       "      <td>0.621824</td>\n",
       "      <td>0.791237</td>\n",
       "      <td>0.444681</td>\n",
       "      <td>0.150529</td>\n",
       "      <td>0.802480</td>\n",
       "    </tr>\n",
       "  </tbody>\n",
       "</table>\n",
       "</div>"
      ],
      "text/plain": [
       "  city_ascii        country   mean_tmp  std_dev_temp      lat       lng  \\\n",
       "0   Honolulu  United States  25.441667      1.837220  21.3294 -157.8460   \n",
       "1    Seattle  United States  11.316667      5.142662  47.6211 -122.3244   \n",
       "2   Canberra      Australia  13.141667      5.418396 -35.2931  149.1269   \n",
       "3   Adelaide      Australia  17.208333      4.416798 -34.9275  138.6000   \n",
       "4     Boston  United States  12.063636      8.341855  42.3188  -71.0852   \n",
       "\n",
       "   scaled_cost_live_rent_index  scaled_purchase_pow_index  \\\n",
       "0                     0.119138                   0.464207   \n",
       "1                     0.081115                   0.715129   \n",
       "2                     0.262357                   0.425092   \n",
       "3                     0.319392                   0.411808   \n",
       "4                     0.098859                   0.701845   \n",
       "\n",
       "   scaled_safety_index  scaled_pollution_index  scaled_trffic_min_index  \\\n",
       "0             0.517190                0.730670                 0.551064   \n",
       "1             0.414051                0.760309                 0.436170   \n",
       "2             0.807175                0.871134                 0.512766   \n",
       "3             0.727952                0.858247                 0.474468   \n",
       "4             0.621824                0.791237                 0.444681   \n",
       "\n",
       "   scaled_mean_tmp  scaled_tmp_std_dev  \n",
       "0         0.837757            0.145254  \n",
       "1         0.112158            0.479235  \n",
       "2         0.205908            0.507095  \n",
       "3         0.414812            0.405894  \n",
       "4         0.150529            0.802480  "
      ]
     },
     "execution_count": 18,
     "metadata": {},
     "output_type": "execute_result"
    }
   ],
   "source": [
    "# Min-Max Scaling all our indexes\n",
    "final_df['scaled_cost_live_rent_index'] = 1 - ( (final_df['cost_live_rent_index'] - final_df['cost_live_rent_index'].min()) /\n",
    "                                           (final_df['cost_live_rent_index'].max() - final_df['cost_live_rent_index'].min()) )\n",
    "final_df['scaled_purchase_pow_index'] = ( (final_df['purchase_pow_index'] - final_df['purchase_pow_index'].min()) /\n",
    "                                           (final_df['purchase_pow_index'].max() - final_df['purchase_pow_index'].min()) )\n",
    "final_df['scaled_safety_index'] = ( (final_df['safety_index'] - final_df['safety_index'].min()) /\n",
    "                                           (final_df['safety_index'].max() - final_df['safety_index'].min()) )\n",
    "final_df['scaled_pollution_index'] = 1 - ( (final_df['pollution_index'] - final_df['pollution_index'].min()) /\n",
    "                                           (final_df['pollution_index'].max() - final_df['pollution_index'].min()) )\n",
    "final_df['scaled_trffic_min_index'] = 1 - ( (final_df['trffic_min_index'] - final_df['trffic_min_index'].min()) /\n",
    "                                           (final_df['trffic_min_index'].max() - final_df['trffic_min_index'].min()) )\n",
    "final_df['scaled_mean_tmp'] = ( (final_df['mean_tmp'] - final_df['mean_tmp'].min()) /\n",
    "                                           (final_df['mean_tmp'].max() - final_df['mean_tmp'].min()) )\n",
    "final_df['scaled_tmp_std_dev'] = ( (final_df['std_dev_temp'] - final_df['std_dev_temp'].min()) /\n",
    "                                           (final_df['std_dev_temp'].max() - final_df['std_dev_temp'].min()) )\n",
    "\n",
    "final_df = final_df.drop(['cost_live_rent_index', 'purchase_pow_index', 'safety_index', 'pollution_index',\n",
    "                          'trffic_min_index'],\n",
    "                         axis=1)\n",
    "final_df.head()"
   ]
  },
  {
   "cell_type": "code",
   "execution_count": 19,
   "id": "ef29e596-ece0-4825-9ae9-562b9697ce72",
   "metadata": {},
   "outputs": [
    {
     "data": {
      "text/html": [
       "<div>\n",
       "<style scoped>\n",
       "    .dataframe tbody tr th:only-of-type {\n",
       "        vertical-align: middle;\n",
       "    }\n",
       "\n",
       "    .dataframe tbody tr th {\n",
       "        vertical-align: top;\n",
       "    }\n",
       "\n",
       "    .dataframe thead th {\n",
       "        text-align: right;\n",
       "    }\n",
       "</style>\n",
       "<table border=\"1\" class=\"dataframe\">\n",
       "  <thead>\n",
       "    <tr style=\"text-align: right;\">\n",
       "      <th></th>\n",
       "      <th>mean_tmp</th>\n",
       "      <th>std_dev_temp</th>\n",
       "      <th>lat</th>\n",
       "      <th>lng</th>\n",
       "      <th>scaled_cost_live_rent_index</th>\n",
       "      <th>scaled_purchase_pow_index</th>\n",
       "      <th>scaled_safety_index</th>\n",
       "      <th>scaled_pollution_index</th>\n",
       "      <th>scaled_trffic_min_index</th>\n",
       "      <th>scaled_mean_tmp</th>\n",
       "      <th>scaled_tmp_std_dev</th>\n",
       "    </tr>\n",
       "  </thead>\n",
       "  <tbody>\n",
       "    <tr>\n",
       "      <th>count</th>\n",
       "      <td>124.000000</td>\n",
       "      <td>124.000000</td>\n",
       "      <td>124.000000</td>\n",
       "      <td>124.000000</td>\n",
       "      <td>124.000000</td>\n",
       "      <td>124.000000</td>\n",
       "      <td>124.000000</td>\n",
       "      <td>124.000000</td>\n",
       "      <td>124.000000</td>\n",
       "      <td>124.000000</td>\n",
       "      <td>124.000000</td>\n",
       "    </tr>\n",
       "    <tr>\n",
       "      <th>mean</th>\n",
       "      <td>16.929022</td>\n",
       "      <td>5.456515</td>\n",
       "      <td>26.269406</td>\n",
       "      <td>6.210760</td>\n",
       "      <td>0.570639</td>\n",
       "      <td>0.418397</td>\n",
       "      <td>0.553281</td>\n",
       "      <td>0.540156</td>\n",
       "      <td>0.613195</td>\n",
       "      <td>0.400463</td>\n",
       "      <td>0.510946</td>\n",
       "    </tr>\n",
       "    <tr>\n",
       "      <th>std</th>\n",
       "      <td>5.668299</td>\n",
       "      <td>2.354963</td>\n",
       "      <td>28.471539</td>\n",
       "      <td>79.900214</td>\n",
       "      <td>0.238457</td>\n",
       "      <td>0.238509</td>\n",
       "      <td>0.224254</td>\n",
       "      <td>0.270383</td>\n",
       "      <td>0.194713</td>\n",
       "      <td>0.291180</td>\n",
       "      <td>0.237944</td>\n",
       "    </tr>\n",
       "    <tr>\n",
       "      <th>min</th>\n",
       "      <td>9.133333</td>\n",
       "      <td>0.399621</td>\n",
       "      <td>-41.288900</td>\n",
       "      <td>-157.846000</td>\n",
       "      <td>0.000000</td>\n",
       "      <td>0.000000</td>\n",
       "      <td>0.000000</td>\n",
       "      <td>0.000000</td>\n",
       "      <td>0.000000</td>\n",
       "      <td>0.000000</td>\n",
       "      <td>0.000000</td>\n",
       "    </tr>\n",
       "    <tr>\n",
       "      <th>25%</th>\n",
       "      <td>12.051894</td>\n",
       "      <td>3.910059</td>\n",
       "      <td>19.344000</td>\n",
       "      <td>-71.704325</td>\n",
       "      <td>0.374842</td>\n",
       "      <td>0.183948</td>\n",
       "      <td>0.414051</td>\n",
       "      <td>0.338918</td>\n",
       "      <td>0.501596</td>\n",
       "      <td>0.149926</td>\n",
       "      <td>0.354693</td>\n",
       "    </tr>\n",
       "    <tr>\n",
       "      <th>50%</th>\n",
       "      <td>15.822500</td>\n",
       "      <td>5.658067</td>\n",
       "      <td>36.896650</td>\n",
       "      <td>16.177900</td>\n",
       "      <td>0.631179</td>\n",
       "      <td>0.432472</td>\n",
       "      <td>0.546338</td>\n",
       "      <td>0.553479</td>\n",
       "      <td>0.627660</td>\n",
       "      <td>0.343622</td>\n",
       "      <td>0.531311</td>\n",
       "    </tr>\n",
       "    <tr>\n",
       "      <th>75%</th>\n",
       "      <td>20.875000</td>\n",
       "      <td>7.495350</td>\n",
       "      <td>45.477400</td>\n",
       "      <td>50.223625</td>\n",
       "      <td>0.777250</td>\n",
       "      <td>0.603321</td>\n",
       "      <td>0.732063</td>\n",
       "      <td>0.776740</td>\n",
       "      <td>0.764894</td>\n",
       "      <td>0.603168</td>\n",
       "      <td>0.716949</td>\n",
       "    </tr>\n",
       "    <tr>\n",
       "      <th>max</th>\n",
       "      <td>28.600000</td>\n",
       "      <td>10.296734</td>\n",
       "      <td>59.950000</td>\n",
       "      <td>174.777200</td>\n",
       "      <td>1.000000</td>\n",
       "      <td>1.000000</td>\n",
       "      <td>1.000000</td>\n",
       "      <td>1.000000</td>\n",
       "      <td>1.000000</td>\n",
       "      <td>1.000000</td>\n",
       "      <td>1.000000</td>\n",
       "    </tr>\n",
       "  </tbody>\n",
       "</table>\n",
       "</div>"
      ],
      "text/plain": [
       "         mean_tmp  std_dev_temp         lat         lng  \\\n",
       "count  124.000000    124.000000  124.000000  124.000000   \n",
       "mean    16.929022      5.456515   26.269406    6.210760   \n",
       "std      5.668299      2.354963   28.471539   79.900214   \n",
       "min      9.133333      0.399621  -41.288900 -157.846000   \n",
       "25%     12.051894      3.910059   19.344000  -71.704325   \n",
       "50%     15.822500      5.658067   36.896650   16.177900   \n",
       "75%     20.875000      7.495350   45.477400   50.223625   \n",
       "max     28.600000     10.296734   59.950000  174.777200   \n",
       "\n",
       "       scaled_cost_live_rent_index  scaled_purchase_pow_index  \\\n",
       "count                   124.000000                 124.000000   \n",
       "mean                      0.570639                   0.418397   \n",
       "std                       0.238457                   0.238509   \n",
       "min                       0.000000                   0.000000   \n",
       "25%                       0.374842                   0.183948   \n",
       "50%                       0.631179                   0.432472   \n",
       "75%                       0.777250                   0.603321   \n",
       "max                       1.000000                   1.000000   \n",
       "\n",
       "       scaled_safety_index  scaled_pollution_index  scaled_trffic_min_index  \\\n",
       "count           124.000000              124.000000               124.000000   \n",
       "mean              0.553281                0.540156                 0.613195   \n",
       "std               0.224254                0.270383                 0.194713   \n",
       "min               0.000000                0.000000                 0.000000   \n",
       "25%               0.414051                0.338918                 0.501596   \n",
       "50%               0.546338                0.553479                 0.627660   \n",
       "75%               0.732063                0.776740                 0.764894   \n",
       "max               1.000000                1.000000                 1.000000   \n",
       "\n",
       "       scaled_mean_tmp  scaled_tmp_std_dev  \n",
       "count       124.000000          124.000000  \n",
       "mean          0.400463            0.510946  \n",
       "std           0.291180            0.237944  \n",
       "min           0.000000            0.000000  \n",
       "25%           0.149926            0.354693  \n",
       "50%           0.343622            0.531311  \n",
       "75%           0.603168            0.716949  \n",
       "max           1.000000            1.000000  "
      ]
     },
     "execution_count": 19,
     "metadata": {},
     "output_type": "execute_result"
    }
   ],
   "source": [
    "final_df.describe()"
   ]
  },
  {
   "cell_type": "code",
   "execution_count": 20,
   "id": "7d178c0b-d70c-4a40-b887-2c107f3f5b9e",
   "metadata": {},
   "outputs": [
    {
     "data": {
      "text/plain": [
       "city_ascii                      object\n",
       "country                         object\n",
       "mean_tmp                       float64\n",
       "std_dev_temp                   float64\n",
       "lat                            float64\n",
       "lng                            float64\n",
       "scaled_cost_live_rent_index    float64\n",
       "scaled_purchase_pow_index      float64\n",
       "scaled_safety_index            float64\n",
       "scaled_pollution_index         float64\n",
       "scaled_trffic_min_index        float64\n",
       "scaled_mean_tmp                float64\n",
       "scaled_tmp_std_dev             float64\n",
       "dtype: object"
      ]
     },
     "execution_count": 20,
     "metadata": {},
     "output_type": "execute_result"
    }
   ],
   "source": [
    "final_df.dtypes"
   ]
  },
  {
   "cell_type": "code",
   "execution_count": 21,
   "id": "87b75500-1324-4a78-9554-5047a8ac6b83",
   "metadata": {},
   "outputs": [
    {
     "name": "stdout",
     "output_type": "stream",
     "text": [
      "Range of Mean temperature: 28.600000000000005 9.133333333333336\n",
      "Range of Std Dev of Temperature: 10.296733815765428 0.3996210326008498\n"
     ]
    }
   ],
   "source": [
    "print(\"Range of Mean temperature:\",final_df['mean_tmp'].max(), final_df['mean_tmp'].min())\n",
    "print(\"Range of Std Dev of Temperature:\",final_df['std_dev_temp'].max(), final_df['std_dev_temp'].min())\n",
    "\n",
    "mean_tmp_range = final_df['mean_tmp'].max() - final_df['mean_tmp'].min()\n",
    "std_dev_temp_range = final_df['std_dev_temp'].max() - final_df['std_dev_temp'].min()\n",
    "\n",
    "scaled_best_mean_tmp = (best_mean_tmp - final_df['mean_tmp'].min()) / mean_tmp_range\n",
    "sclaed_best_std_dev_tmp = (best_std_dev_tmp - final_df['std_dev_temp'].min()) / std_dev_temp_range"
   ]
  },
  {
   "cell_type": "code",
   "execution_count": 22,
   "id": "8184fc2b-91bd-4c10-92d3-38adc7885106",
   "metadata": {},
   "outputs": [],
   "source": [
    "# For a new point\n",
    "new_point = np.array([[4/5,3/5,4/5,3/5,2/5,scaled_best_mean_tmp,sclaed_best_std_dev_tmp]])"
   ]
  },
  {
   "cell_type": "code",
   "execution_count": 23,
   "id": "4b9f432d-f5f8-42cb-98a3-4f3675a15d83",
   "metadata": {},
   "outputs": [
    {
     "data": {
      "text/html": [
       "<div>\n",
       "<style scoped>\n",
       "    .dataframe tbody tr th:only-of-type {\n",
       "        vertical-align: middle;\n",
       "    }\n",
       "\n",
       "    .dataframe tbody tr th {\n",
       "        vertical-align: top;\n",
       "    }\n",
       "\n",
       "    .dataframe thead th {\n",
       "        text-align: right;\n",
       "    }\n",
       "</style>\n",
       "<table border=\"1\" class=\"dataframe\">\n",
       "  <thead>\n",
       "    <tr style=\"text-align: right;\">\n",
       "      <th></th>\n",
       "      <th>scaled_cost_live_rent_index</th>\n",
       "      <th>scaled_purchase_pow_index</th>\n",
       "      <th>scaled_safety_index</th>\n",
       "      <th>scaled_pollution_index</th>\n",
       "      <th>scaled_trffic_min_index</th>\n",
       "      <th>scaled_mean_tmp</th>\n",
       "      <th>scaled_tmp_std_dev</th>\n",
       "    </tr>\n",
       "    <tr>\n",
       "      <th>city_ascii</th>\n",
       "      <th></th>\n",
       "      <th></th>\n",
       "      <th></th>\n",
       "      <th></th>\n",
       "      <th></th>\n",
       "      <th></th>\n",
       "      <th></th>\n",
       "    </tr>\n",
       "  </thead>\n",
       "  <tbody>\n",
       "    <tr>\n",
       "      <th>Honolulu</th>\n",
       "      <td>0.119138</td>\n",
       "      <td>0.464207</td>\n",
       "      <td>0.517190</td>\n",
       "      <td>0.730670</td>\n",
       "      <td>0.551064</td>\n",
       "      <td>0.837757</td>\n",
       "      <td>0.145254</td>\n",
       "    </tr>\n",
       "    <tr>\n",
       "      <th>Seattle</th>\n",
       "      <td>0.081115</td>\n",
       "      <td>0.715129</td>\n",
       "      <td>0.414051</td>\n",
       "      <td>0.760309</td>\n",
       "      <td>0.436170</td>\n",
       "      <td>0.112158</td>\n",
       "      <td>0.479235</td>\n",
       "    </tr>\n",
       "    <tr>\n",
       "      <th>Canberra</th>\n",
       "      <td>0.262357</td>\n",
       "      <td>0.425092</td>\n",
       "      <td>0.807175</td>\n",
       "      <td>0.871134</td>\n",
       "      <td>0.512766</td>\n",
       "      <td>0.205908</td>\n",
       "      <td>0.507095</td>\n",
       "    </tr>\n",
       "    <tr>\n",
       "      <th>Adelaide</th>\n",
       "      <td>0.319392</td>\n",
       "      <td>0.411808</td>\n",
       "      <td>0.727952</td>\n",
       "      <td>0.858247</td>\n",
       "      <td>0.474468</td>\n",
       "      <td>0.414812</td>\n",
       "      <td>0.405894</td>\n",
       "    </tr>\n",
       "    <tr>\n",
       "      <th>Boston</th>\n",
       "      <td>0.098859</td>\n",
       "      <td>0.701845</td>\n",
       "      <td>0.621824</td>\n",
       "      <td>0.791237</td>\n",
       "      <td>0.444681</td>\n",
       "      <td>0.150529</td>\n",
       "      <td>0.802480</td>\n",
       "    </tr>\n",
       "  </tbody>\n",
       "</table>\n",
       "</div>"
      ],
      "text/plain": [
       "            scaled_cost_live_rent_index  scaled_purchase_pow_index  \\\n",
       "city_ascii                                                           \n",
       "Honolulu                       0.119138                   0.464207   \n",
       "Seattle                        0.081115                   0.715129   \n",
       "Canberra                       0.262357                   0.425092   \n",
       "Adelaide                       0.319392                   0.411808   \n",
       "Boston                         0.098859                   0.701845   \n",
       "\n",
       "            scaled_safety_index  scaled_pollution_index  \\\n",
       "city_ascii                                                \n",
       "Honolulu               0.517190                0.730670   \n",
       "Seattle                0.414051                0.760309   \n",
       "Canberra               0.807175                0.871134   \n",
       "Adelaide               0.727952                0.858247   \n",
       "Boston                 0.621824                0.791237   \n",
       "\n",
       "            scaled_trffic_min_index  scaled_mean_tmp  scaled_tmp_std_dev  \n",
       "city_ascii                                                                \n",
       "Honolulu                   0.551064         0.837757            0.145254  \n",
       "Seattle                    0.436170         0.112158            0.479235  \n",
       "Canberra                   0.512766         0.205908            0.507095  \n",
       "Adelaide                   0.474468         0.414812            0.405894  \n",
       "Boston                     0.444681         0.150529            0.802480  "
      ]
     },
     "execution_count": 23,
     "metadata": {},
     "output_type": "execute_result"
    }
   ],
   "source": [
    "# prep data\n",
    "train_df = final_df.drop(['mean_tmp','std_dev_temp','lat','lng','country'],axis=1)\n",
    "train_df = train_df.set_index('city_ascii')\n",
    "train_df.head()"
   ]
  },
  {
   "cell_type": "code",
   "execution_count": 24,
   "id": "f846693a-a9d2-4ce1-a558-2b8ea6ee5daf",
   "metadata": {},
   "outputs": [
    {
     "data": {
      "text/plain": [
       "Index(['scaled_cost_live_rent_index', 'scaled_purchase_pow_index',\n",
       "       'scaled_safety_index', 'scaled_pollution_index',\n",
       "       'scaled_trffic_min_index', 'scaled_mean_tmp', 'scaled_tmp_std_dev'],\n",
       "      dtype='object')"
      ]
     },
     "execution_count": 24,
     "metadata": {},
     "output_type": "execute_result"
    }
   ],
   "source": [
    "train_df.columns"
   ]
  },
  {
   "cell_type": "code",
   "execution_count": 25,
   "id": "6a3450f0-8524-41c1-81f8-10524110d68b",
   "metadata": {},
   "outputs": [
    {
     "data": {
      "text/plain": [
       "\"\\n# Calculate distances in 7D space\\n\\n# Convert new_point to a 1-D array\\nnew_point = new_point.flatten()\\n\\n# Initialize an empty list to store the distances\\ndistances = []\\n\\n# Calculate Euclidean distance for each point in the dataframe\\nfor index, row in train_df.iterrows():\\n    distance = np.sqrt(np.sum((row - new_point) ** 2))\\n    distances.append(distance)\\n\\n# Create a new dataframe with distances\\ndf_distances = pd.DataFrame(distances, columns=['Distance'], index=train_df.index)\\n\\n# Sort the dataframe by distance\\ndf_distances = df_distances.sort_values(by='Distance')\\n\\n# Print the sorted dataframe\\nprint(df_distances)\\n\""
      ]
     },
     "execution_count": 25,
     "metadata": {},
     "output_type": "execute_result"
    }
   ],
   "source": [
    "\"\"\"\n",
    "# Calculate distances in 7D space\n",
    "\n",
    "# Convert new_point to a 1-D array\n",
    "new_point = new_point.flatten()\n",
    "\n",
    "# Initialize an empty list to store the distances\n",
    "distances = []\n",
    "\n",
    "# Calculate Euclidean distance for each point in the dataframe\n",
    "for index, row in train_df.iterrows():\n",
    "    distance = np.sqrt(np.sum((row - new_point) ** 2))\n",
    "    distances.append(distance)\n",
    "\n",
    "# Create a new dataframe with distances\n",
    "df_distances = pd.DataFrame(distances, columns=['Distance'], index=train_df.index)\n",
    "\n",
    "# Sort the dataframe by distance\n",
    "df_distances = df_distances.sort_values(by='Distance')\n",
    "\n",
    "# Print the sorted dataframe\n",
    "print(df_distances)\n",
    "\"\"\""
   ]
  },
  {
   "cell_type": "code",
   "execution_count": 26,
   "id": "7b5e03d9-db11-4a29-8fbf-7c7b6fff61fb",
   "metadata": {},
   "outputs": [],
   "source": [
    "#df_distances.head(25)"
   ]
  },
  {
   "cell_type": "markdown",
   "id": "9413be19-ec66-4ec9-8534-c0a25c83df31",
   "metadata": {},
   "source": [
    "### Trying to reduce dimensions with PCA first and then calculate closest euclidean distance.\n",
    "### Doing this to avoid the \"curse of dimensionality\" which suggests, as dimensions increase the volume increases so fast that the points become sparse and the distances become very similar, hence obstructing the evaluation of actual similarities."
   ]
  },
  {
   "cell_type": "code",
   "execution_count": 46,
   "id": "3c79335c-451e-4442-ad9a-e4ccdb6c2457",
   "metadata": {},
   "outputs": [
    {
     "name": "stderr",
     "output_type": "stream",
     "text": [
      "/var/folders/g7/v0pkv9vx64n8xw87qzl85ms00000gn/T/ipykernel_85929/1791597148.py:31: UserWarning:\n",
      "\n",
      "The figure layout has changed to tight\n",
      "\n"
     ]
    },
    {
     "data": {
      "image/png": "[encoded data removed]",
      "text/plain": [
       "<Figure size 800x600 with 1 Axes>"
      ]
     },
     "metadata": {},
     "output_type": "display_data"
    }
   ],
   "source": [
    "from sklearn.decomposition import PCA\n",
    "\n",
    "# Assuming train_df is your DataFrame\n",
    "data = train_df.values\n",
    "\n",
    "# Perform PCA\n",
    "pca = PCA(n_components=7)\n",
    "X_pca = pca.fit_transform(data)\n",
    "\n",
    "# Calculate the explained variance for each principal component\n",
    "explained_variance = pca.explained_variance_ratio_\n",
    "\n",
    "# Plot the explained variance\n",
    "plt.rcParams.update(bundles.icml2022(column=\"half\", nrows=8, ncols=6, usetex=False))\n",
    "fig, ax = plt.subplots(figsize=(8,6))\n",
    "bars = ax.bar(range(7), explained_variance, alpha=0.5, align='center', label='individual explained variance', color=rgb.tue_lightblue)\n",
    "\n",
    "# Add labels on top of the bars\n",
    "for bar in bars:\n",
    "    yval = bar.get_height()\n",
    "    ax.text(bar.get_x() + bar.get_width()/2, yval + 0.01, round(yval, 2), ha='center', va='bottom')\n",
    "    \n",
    "plt.ylabel('Explained variance ratio')\n",
    "plt.xlabel('Principal components')\n",
    "plt.legend(loc='best')\n",
    "plt.tight_layout()\n",
    "plt.savefig('pca_explained_variance.pdf')\n",
    "plt.show()\n",
    "\n"
   ]
  },
  {
   "cell_type": "code",
   "execution_count": 28,
   "id": "362efa52-1ced-45a9-991d-230462c5cde2",
   "metadata": {},
   "outputs": [
    {
     "name": "stderr",
     "output_type": "stream",
     "text": [
      "/Users/kayoonkim/anaconda3/lib/python3.11/site-packages/sklearn/base.py:439: UserWarning: X does not have valid feature names, but PCA was fitted with feature names\n",
      "  warnings.warn(\n"
     ]
    },
    {
     "data": {
      "text/html": [
       "<div>\n",
       "<style scoped>\n",
       "    .dataframe tbody tr th:only-of-type {\n",
       "        vertical-align: middle;\n",
       "    }\n",
       "\n",
       "    .dataframe tbody tr th {\n",
       "        vertical-align: top;\n",
       "    }\n",
       "\n",
       "    .dataframe thead th {\n",
       "        text-align: right;\n",
       "    }\n",
       "</style>\n",
       "<table border=\"1\" class=\"dataframe\">\n",
       "  <thead>\n",
       "    <tr style=\"text-align: right;\">\n",
       "      <th></th>\n",
       "      <th>Distance</th>\n",
       "    </tr>\n",
       "    <tr>\n",
       "      <th>city_ascii</th>\n",
       "      <th></th>\n",
       "    </tr>\n",
       "  </thead>\n",
       "  <tbody>\n",
       "    <tr>\n",
       "      <th>Lisbon</th>\n",
       "      <td>0.155446</td>\n",
       "    </tr>\n",
       "    <tr>\n",
       "      <th>Porto</th>\n",
       "      <td>0.172692</td>\n",
       "    </tr>\n",
       "    <tr>\n",
       "      <th>Warsaw</th>\n",
       "      <td>0.199313</td>\n",
       "    </tr>\n",
       "    <tr>\n",
       "      <th>Tokyo</th>\n",
       "      <td>0.200160</td>\n",
       "    </tr>\n",
       "    <tr>\n",
       "      <th>Seoul</th>\n",
       "      <td>0.235008</td>\n",
       "    </tr>\n",
       "    <tr>\n",
       "      <th>Beijing</th>\n",
       "      <td>0.256015</td>\n",
       "    </tr>\n",
       "    <tr>\n",
       "      <th>Shanghai</th>\n",
       "      <td>0.264341</td>\n",
       "    </tr>\n",
       "    <tr>\n",
       "      <th>Valencia</th>\n",
       "      <td>0.303542</td>\n",
       "    </tr>\n",
       "    <tr>\n",
       "      <th>Prague</th>\n",
       "      <td>0.304543</td>\n",
       "    </tr>\n",
       "    <tr>\n",
       "      <th>Madrid</th>\n",
       "      <td>0.309544</td>\n",
       "    </tr>\n",
       "  </tbody>\n",
       "</table>\n",
       "</div>"
      ],
      "text/plain": [
       "            Distance\n",
       "city_ascii          \n",
       "Lisbon      0.155446\n",
       "Porto       0.172692\n",
       "Warsaw      0.199313\n",
       "Tokyo       0.200160\n",
       "Seoul       0.235008\n",
       "Beijing     0.256015\n",
       "Shanghai    0.264341\n",
       "Valencia    0.303542\n",
       "Prague      0.304543\n",
       "Madrid      0.309544"
      ]
     },
     "execution_count": 28,
     "metadata": {},
     "output_type": "execute_result"
    }
   ],
   "source": [
    "from sklearn.decomposition import PCA\n",
    "\n",
    "\n",
    "# Convert new_point to a 1-D array\n",
    "new_point_loc = new_point.flatten()\n",
    "\n",
    "# Initialize PCA - you can change the number of components as needed\n",
    "pca = PCA(n_components=3)\n",
    "\n",
    "# Fit PCA on your data and transform the data\n",
    "train_df_pca = pca.fit_transform(train_df)\n",
    "\n",
    "# Transform the new_point using the same PCA object\n",
    "new_point_pca = pca.transform(new_point_loc.reshape(1, -1))\n",
    "\n",
    "# Initialize an empty list to store the distances\n",
    "distances = []\n",
    "\n",
    "# Calculate Euclidean distance for each point in the dataframe\n",
    "for point in train_df_pca:\n",
    "    distance = np.sqrt(np.sum((point - new_point_pca) ** 2))\n",
    "    distances.append(distance)\n",
    "\n",
    "# Create a new dataframe with distances\n",
    "df_distances = pd.DataFrame(distances, columns=['Distance'], index=train_df.index)\n",
    "\n",
    "# Sort the dataframe by distance\n",
    "df_distances = df_distances.sort_values(by='Distance')\n",
    "\n",
    "# Print the sorted dataframe\n",
    "df_distances.head(10)\n"
   ]
  },
  {
   "cell_type": "code",
   "execution_count": 29,
   "id": "43090cf3-e416-43c0-a1b9-083c9fa7ba40",
   "metadata": {},
   "outputs": [],
   "source": [
    "# Storing PCA wieghts for use in new sample points\n",
    "train_df_pca = pd.DataFrame(train_df_pca)\n",
    "train_df_pca['city_ascii'] = train_df.index\n",
    "\n",
    "# Save DataFrame to CSV\n",
    "train_df_pca.to_csv('train_df_pca.csv', index=False)"
   ]
  },
  {
   "cell_type": "code",
   "execution_count": 30,
   "id": "5cfa30a0-cebe-4531-925f-aa456a2cb3a2",
   "metadata": {},
   "outputs": [
    {
     "data": {
      "text/plain": [
       "['pca_model.joblib']"
      ]
     },
     "execution_count": 30,
     "metadata": {},
     "output_type": "execute_result"
    }
   ],
   "source": [
    "from joblib import dump, load\n",
    "\n",
    "# Save the trained PCA model\n",
    "dump(pca, 'pca_model.joblib')"
   ]
  },
  {
   "cell_type": "code",
   "execution_count": 31,
   "id": "e5b6dd07-8cf0-475f-aece-9e6bc7e5fa25",
   "metadata": {},
   "outputs": [
    {
     "name": "stderr",
     "output_type": "stream",
     "text": [
      "/Users/kayoonkim/anaconda3/lib/python3.11/site-packages/sklearn/base.py:439: UserWarning: X does not have valid feature names, but PCA was fitted with feature names\n",
      "  warnings.warn(\n"
     ]
    },
    {
     "data": {
      "text/html": [
       "<div>\n",
       "<style scoped>\n",
       "    .dataframe tbody tr th:only-of-type {\n",
       "        vertical-align: middle;\n",
       "    }\n",
       "\n",
       "    .dataframe tbody tr th {\n",
       "        vertical-align: top;\n",
       "    }\n",
       "\n",
       "    .dataframe thead th {\n",
       "        text-align: right;\n",
       "    }\n",
       "</style>\n",
       "<table border=\"1\" class=\"dataframe\">\n",
       "  <thead>\n",
       "    <tr style=\"text-align: right;\">\n",
       "      <th></th>\n",
       "      <th>Distance</th>\n",
       "    </tr>\n",
       "  </thead>\n",
       "  <tbody>\n",
       "    <tr>\n",
       "      <th>Lisbon</th>\n",
       "      <td>0.155446</td>\n",
       "    </tr>\n",
       "    <tr>\n",
       "      <th>Porto</th>\n",
       "      <td>0.172692</td>\n",
       "    </tr>\n",
       "    <tr>\n",
       "      <th>Warsaw</th>\n",
       "      <td>0.199313</td>\n",
       "    </tr>\n",
       "    <tr>\n",
       "      <th>Tokyo</th>\n",
       "      <td>0.200160</td>\n",
       "    </tr>\n",
       "    <tr>\n",
       "      <th>Seoul</th>\n",
       "      <td>0.235008</td>\n",
       "    </tr>\n",
       "    <tr>\n",
       "      <th>Beijing</th>\n",
       "      <td>0.256015</td>\n",
       "    </tr>\n",
       "    <tr>\n",
       "      <th>Shanghai</th>\n",
       "      <td>0.264341</td>\n",
       "    </tr>\n",
       "    <tr>\n",
       "      <th>Valencia</th>\n",
       "      <td>0.303542</td>\n",
       "    </tr>\n",
       "    <tr>\n",
       "      <th>Prague</th>\n",
       "      <td>0.304543</td>\n",
       "    </tr>\n",
       "    <tr>\n",
       "      <th>Madrid</th>\n",
       "      <td>0.309544</td>\n",
       "    </tr>\n",
       "  </tbody>\n",
       "</table>\n",
       "</div>"
      ],
      "text/plain": [
       "          Distance\n",
       "Lisbon    0.155446\n",
       "Porto     0.172692\n",
       "Warsaw    0.199313\n",
       "Tokyo     0.200160\n",
       "Seoul     0.235008\n",
       "Beijing   0.256015\n",
       "Shanghai  0.264341\n",
       "Valencia  0.303542\n",
       "Prague    0.304543\n",
       "Madrid    0.309544"
      ]
     },
     "execution_count": 31,
     "metadata": {},
     "output_type": "execute_result"
    }
   ],
   "source": [
    "# trying out the stored PCA weights \n",
    "\n",
    "train_df_pca = pd.read_csv('train_df_pca.csv')\n",
    "\n",
    "city_ascii = train_df_pca['city_ascii'].to_list()\n",
    "\n",
    "train_numpy_pca = train_df_pca.drop(['city_ascii'], axis=1).values\n",
    "\n",
    "# Load the trained PCA model\n",
    "pca_loaded = load('pca_model.joblib') \n",
    "\n",
    "# Convert new_point to a 1-D array\n",
    "new_point_loc = new_point.flatten()\n",
    "\n",
    "# Transform the new_point using the same PCA object\n",
    "new_point_pca = pca_loaded.transform(new_point_loc.reshape(1, -1))\n",
    "\n",
    "# Initialize an empty list to store the distances\n",
    "distances = []\n",
    "\n",
    "# Calculate Euclidean distance for each point in the dataframe\n",
    "for point in train_numpy_pca:\n",
    "    distance = np.sqrt(np.sum((point - new_point_pca) ** 2))\n",
    "    distances.append(distance)\n",
    "\n",
    "# Create a new dataframe with distances\n",
    "df_distances = pd.DataFrame(distances, columns=['Distance'], index=city_ascii)\n",
    "\n",
    "# Sort the dataframe by distance\n",
    "df_distances = df_distances.sort_values(by='Distance')\n",
    "\n",
    "# Print the sorted dataframe\n",
    "df_distances.head(10)"
   ]
  },
  {
   "cell_type": "code",
   "execution_count": 32,
   "id": "cae6e7e1-3048-4e30-bcda-8661b64c62a3",
   "metadata": {},
   "outputs": [
    {
     "name": "stdout",
     "output_type": "stream",
     "text": [
      "[[-0.08400094 -0.16285541  0.24592992]]\n"
     ]
    }
   ],
   "source": [
    "print(new_point_pca)"
   ]
  },
  {
   "cell_type": "code",
   "execution_count": 33,
   "id": "e58d50a4-a911-4b30-ba3f-a9665a40f775",
   "metadata": {},
   "outputs": [
    {
     "data": {
      "text/html": [
       "<div>\n",
       "<style scoped>\n",
       "    .dataframe tbody tr th:only-of-type {\n",
       "        vertical-align: middle;\n",
       "    }\n",
       "\n",
       "    .dataframe tbody tr th {\n",
       "        vertical-align: top;\n",
       "    }\n",
       "\n",
       "    .dataframe thead th {\n",
       "        text-align: right;\n",
       "    }\n",
       "</style>\n",
       "<table border=\"1\" class=\"dataframe\">\n",
       "  <thead>\n",
       "    <tr style=\"text-align: right;\">\n",
       "      <th></th>\n",
       "      <th>0</th>\n",
       "      <th>1</th>\n",
       "      <th>2</th>\n",
       "      <th>city_ascii</th>\n",
       "    </tr>\n",
       "  </thead>\n",
       "  <tbody>\n",
       "    <tr>\n",
       "      <th>0</th>\n",
       "      <td>0.057916</td>\n",
       "      <td>0.700462</td>\n",
       "      <td>0.123981</td>\n",
       "      <td>Honolulu</td>\n",
       "    </tr>\n",
       "    <tr>\n",
       "      <th>1</th>\n",
       "      <td>-0.467029</td>\n",
       "      <td>0.325887</td>\n",
       "      <td>-0.362557</td>\n",
       "      <td>Seattle</td>\n",
       "    </tr>\n",
       "    <tr>\n",
       "      <th>2</th>\n",
       "      <td>-0.415673</td>\n",
       "      <td>0.116669</td>\n",
       "      <td>0.071707</td>\n",
       "      <td>Canberra</td>\n",
       "    </tr>\n",
       "    <tr>\n",
       "      <th>3</th>\n",
       "      <td>-0.224100</td>\n",
       "      <td>0.256135</td>\n",
       "      <td>0.101419</td>\n",
       "      <td>Adelaide</td>\n",
       "    </tr>\n",
       "    <tr>\n",
       "      <th>4</th>\n",
       "      <td>-0.599041</td>\n",
       "      <td>0.150882</td>\n",
       "      <td>-0.151476</td>\n",
       "      <td>Boston</td>\n",
       "    </tr>\n",
       "  </tbody>\n",
       "</table>\n",
       "</div>"
      ],
      "text/plain": [
       "          0         1         2 city_ascii\n",
       "0  0.057916  0.700462  0.123981   Honolulu\n",
       "1 -0.467029  0.325887 -0.362557    Seattle\n",
       "2 -0.415673  0.116669  0.071707   Canberra\n",
       "3 -0.224100  0.256135  0.101419   Adelaide\n",
       "4 -0.599041  0.150882 -0.151476     Boston"
      ]
     },
     "execution_count": 33,
     "metadata": {},
     "output_type": "execute_result"
    }
   ],
   "source": [
    "train_df_pca.head()"
   ]
  },
  {
   "cell_type": "code",
   "execution_count": 34,
   "id": "09219129-9b37-419f-a96b-bc259f090412",
   "metadata": {},
   "outputs": [
    {
     "data": {
      "application/vnd.plotly.v1+json": {
       "config": {
        "plotlyServerURL": "https://plot.ly"
       },
       "data": [
        {
         "hoverinfo": "text",
         "marker": {
          "color": "blue",
          "opacity": 0.1,
          "size": 6
         },
         "mode": "markers",
         "name": "Dataset Cities",
         "text": [
          "Honolulu",
          "Seattle",
          "Canberra",
          "Adelaide",
          "Boston",
          "Sacramento",
          "San Diego",
          "Singapore",
          "Oslo",
          "Los Angeles",
          "Copenhagen",
          "London",
          "Chicago",
          "Brisbane",
          "Miami",
          "Sydney",
          "Perth",
          "Denver",
          "Minneapolis",
          "Tampa",
          "Tucson",
          "Melbourne",
          "Atlanta",
          "Dallas",
          "Paris",
          "Dublin",
          "Austin",
          "Seoul",
          "Auckland",
          "Wellington",
          "Phoenix",
          "Vancouver",
          "Ottawa",
          "Las Vegas",
          "Calgary",
          "Toronto",
          "Milan",
          "Hamburg",
          "Hong Kong",
          "Columbus",
          "Frankfurt",
          "Edmonton",
          "Berlin",
          "Brussels",
          "Halifax",
          "Houston",
          "Stockholm",
          "Saint Petersburg",
          "Amsterdam",
          "Winnipeg",
          "San Antonio",
          "Montreal",
          "Dubai",
          "Rome",
          "Vienna",
          "Edinburgh",
          "Prague",
          "Montevideo",
          "Athens",
          "Tallinn",
          "Barcelona",
          "Tokyo",
          "Taipei",
          "Riga",
          "Thessaloniki",
          "Ljubljana",
          "Beirut",
          "Zagreb",
          "Santiago",
          "Riyadh",
          "Madrid",
          "Lisbon",
          "Vilnius",
          "Budapest",
          "Muscat",
          "Panama City",
          "Valencia",
          "Monterrey",
          "Warsaw",
          "Mexico City",
          "Porto",
          "Sofia",
          "Bucharest",
          "Bangkok",
          "Guadalajara",
          "Belgrade",
          "Yerevan",
          "Shanghai",
          "Rio de Janeiro",
          "Tbilisi",
          "Beijing",
          "Manila",
          "Sarajevo",
          "Porto Alegre",
          "Johannesburg",
          "Curitiba",
          "Minsk",
          "Belo Horizonte",
          "Skopje",
          "Lima",
          "Ho Chi Minh City",
          "Moscow",
          "Kuala Lumpur",
          "Colombo",
          "Jakarta",
          "Pretoria",
          "Almaty",
          "Hanoi",
          "Cape Town",
          "Durban",
          "Istanbul",
          "Baku",
          "Nairobi",
          "Tehran",
          "Buenos Aires",
          "Lviv",
          "Dhaka",
          "Ankara",
          "Mumbai",
          "Lagos",
          "Cairo",
          "Kolkata",
          "Lahore",
          "Karachi"
         ],
         "type": "scatter3d",
         "x": [
          0.0579159456652612,
          -0.4670290787175283,
          -0.4156731578898228,
          -0.2241003766541009,
          -0.5990414762007482,
          -0.3196186494153428,
          -0.264751803461248,
          -0.0474824681089808,
          -0.6337861916134458,
          0.026998790834579,
          -0.6819152252574749,
          -0.2137374753827281,
          -0.3740346014030226,
          -0.0970611821708371,
          0.0374668963901573,
          -0.2431878398705357,
          -0.1667729906612466,
          -0.5239962816986762,
          -0.5237981847969152,
          -0.1957801611730126,
          -0.301708339515089,
          -0.2427666981251071,
          -0.2767945272342619,
          -0.3080817884059893,
          -0.0831993549955449,
          -0.2848417730302089,
          -0.2958259306907683,
          -0.2834958220888451,
          -0.1962922252000113,
          -0.2988967885057409,
          -0.1258800103005509,
          -0.4635675319958619,
          -0.4850734832245949,
          -0.1809807666971337,
          -0.4801862679944627,
          -0.3476135044795409,
          -0.0579493876816142,
          -0.5172316231701994,
          0.1118803267330723,
          -0.5107299093134443,
          -0.5478367636604354,
          -0.398836549426707,
          -0.4509046747717354,
          -0.1862587179125306,
          -0.4247085888870868,
          -0.1156481261830057,
          -0.5571203655057964,
          -0.3163214703436514,
          -0.6593392496674669,
          -0.250078713301397,
          -0.2206989949327951,
          -0.3943067256037226,
          -0.105348516374368,
          0.0360135757084963,
          -0.7132735499758558,
          -0.4817092868771281,
          -0.3759104168256181,
          0.1235910673271186,
          0.1873716958616277,
          -0.4992999185532008,
          0.1032925052728259,
          -0.2611328698633812,
          0.0318267718041527,
          -0.2647337375244926,
          0.1066375238738892,
          -0.5037205028509775,
          0.5949776866302201,
          -0.3817915732613999,
          0.3053818385043611,
          0.0779561569219277,
          -0.3863828777041435,
          -0.0894610847374646,
          -0.404606379887967,
          -0.1413256677591456,
          0.0027297065435655,
          0.5915853876158863,
          -0.2783506140375901,
          0.3386007141818147,
          -0.1357393276569054,
          0.6143847519478229,
          -0.2045595650143817,
          -0.0398414563128369,
          0.0206691832373882,
          0.7712413947903777,
          0.4719210824910306,
          0.0430955872170588,
          -0.0504270811626949,
          0.1073818076461425,
          0.773764757513528,
          0.0626409333831495,
          0.033057359840126,
          1.021858626306127,
          0.0020599590074292,
          0.4094462350163464,
          0.2561872614584071,
          0.1653241234451742,
          -0.1086208431178669,
          0.5372691032200041,
          0.1432420252933212,
          0.7381554192088857,
          0.8538487210144629,
          0.0745009717524456,
          0.6629713893357018,
          0.8271839126630155,
          0.9221424751204024,
          0.3137647845427219,
          0.2617999979910608,
          0.5417859876603249,
          0.1525899086921523,
          0.3316668060504339,
          0.2850574227549913,
          0.1811235107589353,
          0.6842309414068132,
          0.4107676584954411,
          0.3914474934542548,
          -0.0346746624820575,
          0.9921507393024214,
          0.0683271474577267,
          0.809070169613414,
          1.1321142204681187,
          0.7427936443379529,
          0.7740953758927748,
          0.534771750528384,
          0.861720519115222
         ],
         "y": [
          0.7004615119235971,
          0.3258869868218915,
          0.1166693264168317,
          0.2561352359820559,
          0.1508820356655194,
          0.2107740495236269,
          0.4922247760185104,
          0.85857444603262,
          0.0172919113768926,
          0.5189991601473833,
          -0.0519849810968799,
          0.1279328058128886,
          0.2478844821184457,
          0.4327546881402175,
          0.6320793092240999,
          0.4029855677567248,
          0.3432024340163456,
          0.0929515085858938,
          0.0661642866622262,
          0.5229198924625778,
          0.2742300462146662,
          0.2863500560935966,
          0.2533812081169587,
          0.2165108332047804,
          -0.022153121563336,
          0.104918820963314,
          0.3193709791088854,
          -0.2289383032768216,
          0.2803692949782793,
          0.1987217323284638,
          0.3080154883320966,
          0.0570210144072835,
          0.0078382848616127,
          0.0422876564949242,
          0.0704208957816886,
          0.0167399577764442,
          -0.2313262587523891,
          -0.0355955838677561,
          0.2451435366533678,
          -0.0349659724298424,
          -0.0531577502282468,
          0.0359487384521321,
          -0.1067009030290909,
          -0.0736069306576471,
          0.020815561149893,
          0.3909653796272592,
          -0.0192609032780531,
          0.0275309022931264,
          0.0211064213062486,
          -0.0511577838731923,
          0.2692029737659501,
          -0.0358776686750245,
          0.4100393480122254,
          -0.1108080371026457,
          -0.1422517742580649,
          -0.0395869993835889,
          -0.1663579760701698,
          -0.0128161870904871,
          -0.1316950091785188,
          -0.2120131655991469,
          -0.0204913649049653,
          -0.0940260943012781,
          0.0921502019296555,
          -0.3227925608847939,
          -0.3329439824891583,
          -0.3327379045011495,
          -0.2276096783318397,
          -0.3805669885767812,
          -0.2124441357361297,
          0.0305293186115803,
          -0.0966986677548995,
          -0.0110949714881045,
          -0.2369047213617249,
          -0.398395796981316,
          0.2306712570786094,
          0.3307370801482365,
          0.0609666194262222,
          -0.0425317507906379,
          -0.3127275787384751,
          0.0529947711085936,
          -0.0398428643684923,
          -0.4573410261148278,
          -0.5204784014404755,
          0.2667770791475503,
          0.1119310690860442,
          -0.4889465097874649,
          -0.5050866406776392,
          -0.3131069747019667,
          0.1908592848138271,
          -0.5598947053553494,
          -0.3749348713884121,
          0.2706690950207691,
          -0.4958005103661694,
          -0.0810210548913863,
          0.0558587231283964,
          -0.0119402480300957,
          -0.4366381440893917,
          0.1015253933598586,
          -0.6428137778644087,
          -0.0373259192661106,
          0.1206910014758473,
          -0.2226021661790943,
          0.4105172449888975,
          0.2655697136336854,
          0.2267233557737815,
          0.1248998673539567,
          -0.4624954371407119,
          -0.1954247908103118,
          0.1212816349566483,
          0.1320714544129566,
          -0.3660410876840929,
          -0.5563105027302474,
          -0.0322175270939894,
          -0.5392702739149557,
          -0.1241300060591881,
          -0.4562849202838632,
          0.0156316419759638,
          -0.5977950920673407,
          0.2193379524170963,
          0.1939248796363133,
          -0.278022728371209,
          0.083723741095653,
          -0.3556465096725478,
          -0.1501117285897839
         ],
         "z": [
          0.1239806905970562,
          -0.3625572054181705,
          0.0717073495856132,
          0.1014191612081159,
          -0.1514758312006666,
          -0.0634858634133467,
          0.0075203988528449,
          0.4383433823153892,
          0.0164431167945707,
          -0.2586722945940994,
          0.0795732241652106,
          -0.345544187953386,
          -0.401504741418337,
          0.1536477855194191,
          0.0347558716543563,
          0.0603441077256311,
          0.0108880619232339,
          -0.1655569700335316,
          -0.2334917274689842,
          0.1071093308683615,
          0.034671374550035,
          -0.0996588183625449,
          -0.2786800213490874,
          -0.0433902102427257,
          -0.3164971564392519,
          -0.3177195402462509,
          0.122827468874536,
          0.140745253103336,
          -0.1349574704322367,
          -0.0097442467587442,
          0.0629128522702642,
          -0.1328510815656284,
          0.0864896783968458,
          0.016458865382756,
          -0.0566695163111726,
          -0.1119157841364776,
          -0.1659373977375269,
          -0.1272705964551615,
          0.3764052512651967,
          -0.1312637241064535,
          -0.1024455965575956,
          -0.1140619878743295,
          -0.1354774321571432,
          -0.3034538363013912,
          -0.0368018555500068,
          -0.2054994515498815,
          -0.1623106343894698,
          -0.2075281259690091,
          0.0954159019403631,
          -0.2339864105914324,
          0.0548970969949489,
          0.0572301046990041,
          0.567736508882696,
          -0.1193274976674449,
          0.1349075745557122,
          0.0169290112934406,
          0.159195828729163,
          -0.1214561302185657,
          -0.0430028888794302,
          0.2163186797015381,
          -0.0038918799678567,
          0.1830731048716632,
          0.5408885496376808,
          -0.0298975852401967,
          -0.0417144602331274,
          0.2478276323172221,
          0.0886671262193259,
          0.2110913153667842,
          -0.2440204754532076,
          0.4931176724218137,
          0.2435258624642475,
          0.2791316788696456,
          0.1608013480894051,
          0.0094189130236354,
          0.7218563231747769,
          0.2527806002546663,
          0.3112706606960205,
          0.1498097325608477,
          0.1251530745973335,
          -0.3583900068055338,
          0.233444276863074,
          -0.028739833170139,
          0.0814586430942451,
          0.3100717950624982,
          -0.1143782069993842,
          0.0122470043656656,
          0.3366481353447709,
          0.1426181261387756,
          -0.275263074968924,
          0.1629216921307041,
          0.1630844402452317,
          -0.0458418488207825,
          -0.0509157675735457,
          -0.1663648342087502,
          -0.4917103702402225,
          -0.128019023355562,
          -0.1567424898708507,
          -0.1157016202559311,
          -0.031634712829289,
          -0.3247095245647101,
          0.2158669576138513,
          -0.0516524758745852,
          0.0224830127499451,
          0.1983753528551005,
          0.0691367995654315,
          -0.4572178478891584,
          -0.1401196359641641,
          0.3511400331671302,
          -0.3730257396538626,
          -0.2523693694008149,
          -0.1547063290298186,
          0.1824096353378962,
          -0.2367045416987058,
          -0.1663384905106924,
          -0.2153207178790791,
          0.0225701375282986,
          -0.1130182945376126,
          0.0135314800128498,
          0.1481185331677291,
          -0.1888527698155498,
          0.0113359403716959,
          0.1280234368780653,
          0.3682425478414485,
          0.1104426534124346
         ]
        },
        {
         "marker": {
          "color": "red",
          "size": 10
         },
         "mode": "markers",
         "name": "Ideal City",
         "type": "scatter3d",
         "x": [
          -0.08400094463792161
         ],
         "y": [
          -0.1628554117540544
         ],
         "z": [
          0.2459299174911415
         ]
        }
       ],
       "layout": {
        "margin": {
         "b": 0,
         "l": 0,
         "r": 0,
         "t": 0
        },
        "scene": {
         "xaxis": {
          "title": {
           "text": "PC1"
          }
         },
         "yaxis": {
          "title": {
           "text": "PC2"
          }
         },
         "zaxis": {
          "title": {
           "text": "PC3"
          }
         }
        },
        "template": {
         "data": {
          "bar": [
           {
            "error_x": {
             "color": "#2a3f5f"
            },
            "error_y": {
             "color": "#2a3f5f"
            },
            "marker": {
             "line": {
              "color": "#E5ECF6",
              "width": 0.5
             },
             "pattern": {
              "fillmode": "overlay",
              "size": 10,
              "solidity": 0.2
             }
            },
            "type": "bar"
           }
          ],
          "barpolar": [
           {
            "marker": {
             "line": {
              "color": "#E5ECF6",
              "width": 0.5
             },
             "pattern": {
              "fillmode": "overlay",
              "size": 10,
              "solidity": 0.2
             }
            },
            "type": "barpolar"
           }
          ],
          "carpet": [
           {
            "aaxis": {
             "endlinecolor": "#2a3f5f",
             "gridcolor": "white",
             "linecolor": "white",
             "minorgridcolor": "white",
             "startlinecolor": "#2a3f5f"
            },
            "baxis": {
             "endlinecolor": "#2a3f5f",
             "gridcolor": "white",
             "linecolor": "white",
             "minorgridcolor": "white",
             "startlinecolor": "#2a3f5f"
            },
            "type": "carpet"
           }
          ],
          "choropleth": [
           {
            "colorbar": {
             "outlinewidth": 0,
             "ticks": ""
            },
            "type": "choropleth"
           }
          ],
          "contour": [
           {
            "colorbar": {
             "outlinewidth": 0,
             "ticks": ""
            },
            "colorscale": [
             [
              0,
              "#0d0887"
             ],
             [
              0.1111111111111111,
              "#46039f"
             ],
             [
              0.2222222222222222,
              "#7201a8"
             ],
             [
              0.3333333333333333,
              "#9c179e"
             ],
             [
              0.4444444444444444,
              "#bd3786"
             ],
             [
              0.5555555555555556,
              "#d8576b"
             ],
             [
              0.6666666666666666,
              "#ed7953"
             ],
             [
              0.7777777777777778,
              "#fb9f3a"
             ],
             [
              0.8888888888888888,
              "#fdca26"
             ],
             [
              1,
              "#f0f921"
             ]
            ],
            "type": "contour"
           }
          ],
          "contourcarpet": [
           {
            "colorbar": {
             "outlinewidth": 0,
             "ticks": ""
            },
            "type": "contourcarpet"
           }
          ],
          "heatmap": [
           {
            "colorbar": {
             "outlinewidth": 0,
             "ticks": ""
            },
            "colorscale": [
             [
              0,
              "#0d0887"
             ],
             [
              0.1111111111111111,
              "#46039f"
             ],
             [
              0.2222222222222222,
              "#7201a8"
             ],
             [
              0.3333333333333333,
              "#9c179e"
             ],
             [
              0.4444444444444444,
              "#bd3786"
             ],
             [
              0.5555555555555556,
              "#d8576b"
             ],
             [
              0.6666666666666666,
              "#ed7953"
             ],
             [
              0.7777777777777778,
              "#fb9f3a"
             ],
             [
              0.8888888888888888,
              "#fdca26"
             ],
             [
              1,
              "#f0f921"
             ]
            ],
            "type": "heatmap"
           }
          ],
          "heatmapgl": [
           {
            "colorbar": {
             "outlinewidth": 0,
             "ticks": ""
            },
            "colorscale": [
             [
              0,
              "#0d0887"
             ],
             [
              0.1111111111111111,
              "#46039f"
             ],
             [
              0.2222222222222222,
              "#7201a8"
             ],
             [
              0.3333333333333333,
              "#9c179e"
             ],
             [
              0.4444444444444444,
              "#bd3786"
             ],
             [
              0.5555555555555556,
              "#d8576b"
             ],
             [
              0.6666666666666666,
              "#ed7953"
             ],
             [
              0.7777777777777778,
              "#fb9f3a"
             ],
             [
              0.8888888888888888,
              "#fdca26"
             ],
             [
              1,
              "#f0f921"
             ]
            ],
            "type": "heatmapgl"
           }
          ],
          "histogram": [
           {
            "marker": {
             "pattern": {
              "fillmode": "overlay",
              "size": 10,
              "solidity": 0.2
             }
            },
            "type": "histogram"
           }
          ],
          "histogram2d": [
           {
            "colorbar": {
             "outlinewidth": 0,
             "ticks": ""
            },
            "colorscale": [
             [
              0,
              "#0d0887"
             ],
             [
              0.1111111111111111,
              "#46039f"
             ],
             [
              0.2222222222222222,
              "#7201a8"
             ],
             [
              0.3333333333333333,
              "#9c179e"
             ],
             [
              0.4444444444444444,
              "#bd3786"
             ],
             [
              0.5555555555555556,
              "#d8576b"
             ],
             [
              0.6666666666666666,
              "#ed7953"
             ],
             [
              0.7777777777777778,
              "#fb9f3a"
             ],
             [
              0.8888888888888888,
              "#fdca26"
             ],
             [
              1,
              "#f0f921"
             ]
            ],
            "type": "histogram2d"
           }
          ],
          "histogram2dcontour": [
           {
            "colorbar": {
             "outlinewidth": 0,
             "ticks": ""
            },
            "colorscale": [
             [
              0,
              "#0d0887"
             ],
             [
              0.1111111111111111,
              "#46039f"
             ],
             [
              0.2222222222222222,
              "#7201a8"
             ],
             [
              0.3333333333333333,
              "#9c179e"
             ],
             [
              0.4444444444444444,
              "#bd3786"
             ],
             [
              0.5555555555555556,
              "#d8576b"
             ],
             [
              0.6666666666666666,
              "#ed7953"
             ],
             [
              0.7777777777777778,
              "#fb9f3a"
             ],
             [
              0.8888888888888888,
              "#fdca26"
             ],
             [
              1,
              "#f0f921"
             ]
            ],
            "type": "histogram2dcontour"
           }
          ],
          "mesh3d": [
           {
            "colorbar": {
             "outlinewidth": 0,
             "ticks": ""
            },
            "type": "mesh3d"
           }
          ],
          "parcoords": [
           {
            "line": {
             "colorbar": {
              "outlinewidth": 0,
              "ticks": ""
             }
            },
            "type": "parcoords"
           }
          ],
          "pie": [
           {
            "automargin": true,
            "type": "pie"
           }
          ],
          "scatter": [
           {
            "fillpattern": {
             "fillmode": "overlay",
             "size": 10,
             "solidity": 0.2
            },
            "type": "scatter"
           }
          ],
          "scatter3d": [
           {
            "line": {
             "colorbar": {
              "outlinewidth": 0,
              "ticks": ""
             }
            },
            "marker": {
             "colorbar": {
              "outlinewidth": 0,
              "ticks": ""
             }
            },
            "type": "scatter3d"
           }
          ],
          "scattercarpet": [
           {
            "marker": {
             "colorbar": {
              "outlinewidth": 0,
              "ticks": ""
             }
            },
            "type": "scattercarpet"
           }
          ],
          "scattergeo": [
           {
            "marker": {
             "colorbar": {
              "outlinewidth": 0,
              "ticks": ""
             }
            },
            "type": "scattergeo"
           }
          ],
          "scattergl": [
           {
            "marker": {
             "colorbar": {
              "outlinewidth": 0,
              "ticks": ""
             }
            },
            "type": "scattergl"
           }
          ],
          "scattermapbox": [
           {
            "marker": {
             "colorbar": {
              "outlinewidth": 0,
              "ticks": ""
             }
            },
            "type": "scattermapbox"
           }
          ],
          "scatterpolar": [
           {
            "marker": {
             "colorbar": {
              "outlinewidth": 0,
              "ticks": ""
             }
            },
            "type": "scatterpolar"
           }
          ],
          "scatterpolargl": [
           {
            "marker": {
             "colorbar": {
              "outlinewidth": 0,
              "ticks": ""
             }
            },
            "type": "scatterpolargl"
           }
          ],
          "scatterternary": [
           {
            "marker": {
             "colorbar": {
              "outlinewidth": 0,
              "ticks": ""
             }
            },
            "type": "scatterternary"
           }
          ],
          "surface": [
           {
            "colorbar": {
             "outlinewidth": 0,
             "ticks": ""
            },
            "colorscale": [
             [
              0,
              "#0d0887"
             ],
             [
              0.1111111111111111,
              "#46039f"
             ],
             [
              0.2222222222222222,
              "#7201a8"
             ],
             [
              0.3333333333333333,
              "#9c179e"
             ],
             [
              0.4444444444444444,
              "#bd3786"
             ],
             [
              0.5555555555555556,
              "#d8576b"
             ],
             [
              0.6666666666666666,
              "#ed7953"
             ],
             [
              0.7777777777777778,
              "#fb9f3a"
             ],
             [
              0.8888888888888888,
              "#fdca26"
             ],
             [
              1,
              "#f0f921"
             ]
            ],
            "type": "surface"
           }
          ],
          "table": [
           {
            "cells": {
             "fill": {
              "color": "#EBF0F8"
             },
             "line": {
              "color": "white"
             }
            },
            "header": {
             "fill": {
              "color": "#C8D4E3"
             },
             "line": {
              "color": "white"
             }
            },
            "type": "table"
           }
          ]
         },
         "layout": {
          "annotationdefaults": {
           "arrowcolor": "#2a3f5f",
           "arrowhead": 0,
           "arrowwidth": 1
          },
          "autotypenumbers": "strict",
          "coloraxis": {
           "colorbar": {
            "outlinewidth": 0,
            "ticks": ""
           }
          },
          "colorscale": {
           "diverging": [
            [
             0,
             "#8e0152"
            ],
            [
             0.1,
             "#c51b7d"
            ],
            [
             0.2,
             "#de77ae"
            ],
            [
             0.3,
             "#f1b6da"
            ],
            [
             0.4,
             "#fde0ef"
            ],
            [
             0.5,
             "#f7f7f7"
            ],
            [
             0.6,
             "#e6f5d0"
            ],
            [
             0.7,
             "#b8e186"
            ],
            [
             0.8,
             "#7fbc41"
            ],
            [
             0.9,
             "#4d9221"
            ],
            [
             1,
             "#276419"
            ]
           ],
           "sequential": [
            [
             0,
             "#0d0887"
            ],
            [
             0.1111111111111111,
             "#46039f"
            ],
            [
             0.2222222222222222,
             "#7201a8"
            ],
            [
             0.3333333333333333,
             "#9c179e"
            ],
            [
             0.4444444444444444,
             "#bd3786"
            ],
            [
             0.5555555555555556,
             "#d8576b"
            ],
            [
             0.6666666666666666,
             "#ed7953"
            ],
            [
             0.7777777777777778,
             "#fb9f3a"
            ],
            [
             0.8888888888888888,
             "#fdca26"
            ],
            [
             1,
             "#f0f921"
            ]
           ],
           "sequentialminus": [
            [
             0,
             "#0d0887"
            ],
            [
             0.1111111111111111,
             "#46039f"
            ],
            [
             0.2222222222222222,
             "#7201a8"
            ],
            [
             0.3333333333333333,
             "#9c179e"
            ],
            [
             0.4444444444444444,
             "#bd3786"
            ],
            [
             0.5555555555555556,
             "#d8576b"
            ],
            [
             0.6666666666666666,
             "#ed7953"
            ],
            [
             0.7777777777777778,
             "#fb9f3a"
            ],
            [
             0.8888888888888888,
             "#fdca26"
            ],
            [
             1,
             "#f0f921"
            ]
           ]
          },
          "colorway": [
           "#636efa",
           "#EF553B",
           "#00cc96",
           "#ab63fa",
           "#FFA15A",
           "#19d3f3",
           "#FF6692",
           "#B6E880",
           "#FF97FF",
           "#FECB52"
          ],
          "font": {
           "color": "#2a3f5f"
          },
          "geo": {
           "bgcolor": "white",
           "lakecolor": "white",
           "landcolor": "#E5ECF6",
           "showlakes": true,
           "showland": true,
           "subunitcolor": "white"
          },
          "hoverlabel": {
           "align": "left"
          },
          "hovermode": "closest",
          "mapbox": {
           "style": "light"
          },
          "paper_bgcolor": "white",
          "plot_bgcolor": "#E5ECF6",
          "polar": {
           "angularaxis": {
            "gridcolor": "white",
            "linecolor": "white",
            "ticks": ""
           },
           "bgcolor": "#E5ECF6",
           "radialaxis": {
            "gridcolor": "white",
            "linecolor": "white",
            "ticks": ""
           }
          },
          "scene": {
           "xaxis": {
            "backgroundcolor": "#E5ECF6",
            "gridcolor": "white",
            "gridwidth": 2,
            "linecolor": "white",
            "showbackground": true,
            "ticks": "",
            "zerolinecolor": "white"
           },
           "yaxis": {
            "backgroundcolor": "#E5ECF6",
            "gridcolor": "white",
            "gridwidth": 2,
            "linecolor": "white",
            "showbackground": true,
            "ticks": "",
            "zerolinecolor": "white"
           },
           "zaxis": {
            "backgroundcolor": "#E5ECF6",
            "gridcolor": "white",
            "gridwidth": 2,
            "linecolor": "white",
            "showbackground": true,
            "ticks": "",
            "zerolinecolor": "white"
           }
          },
          "shapedefaults": {
           "line": {
            "color": "#2a3f5f"
           }
          },
          "ternary": {
           "aaxis": {
            "gridcolor": "white",
            "linecolor": "white",
            "ticks": ""
           },
           "baxis": {
            "gridcolor": "white",
            "linecolor": "white",
            "ticks": ""
           },
           "bgcolor": "#E5ECF6",
           "caxis": {
            "gridcolor": "white",
            "linecolor": "white",
            "ticks": ""
           }
          },
          "title": {
           "x": 0.05
          },
          "xaxis": {
           "automargin": true,
           "gridcolor": "white",
           "linecolor": "white",
           "ticks": "",
           "title": {
            "standoff": 15
           },
           "zerolinecolor": "white",
           "zerolinewidth": 2
          },
          "yaxis": {
           "automargin": true,
           "gridcolor": "white",
           "linecolor": "white",
           "ticks": "",
           "title": {
            "standoff": 15
           },
           "zerolinecolor": "white",
           "zerolinewidth": 2
          }
         }
        }
       }
      }
     },
     "metadata": {},
     "output_type": "display_data"
    }
   ],
   "source": [
    "import plotly.graph_objects as go\n",
    "\n",
    "# Create a trace for the original PCA transformed points\n",
    "trace1 = go.Scatter3d(\n",
    "    x=train_df_pca.iloc[:, 0],\n",
    "    y=train_df_pca.iloc[:, 1],\n",
    "    z=train_df_pca.iloc[:, 2],\n",
    "    mode='markers',\n",
    "    marker=dict(\n",
    "        size=6,\n",
    "        color='blue',                # set color to blue\n",
    "        opacity=0.1                   # set opacity to make points faint\n",
    "    ),\n",
    "    text=train_df_pca['city_ascii'],  # add labels\n",
    "    hoverinfo='text',\n",
    "    name='Dataset Cities'\n",
    ")\n",
    "\n",
    "# Create a trace for the new point\n",
    "trace2 = go.Scatter3d(\n",
    "    x=[new_point_pca[0][0]],\n",
    "    y=[new_point_pca[0][1]],\n",
    "    z=[new_point_pca[0][2]],\n",
    "    mode='markers',\n",
    "    marker=dict(\n",
    "        size=10,\n",
    "        color='red',                 # set color to red\n",
    "    ),\n",
    "    name='Ideal City'\n",
    ")\n",
    "\n",
    "# Define the layout\n",
    "layout = go.Layout(\n",
    "    margin=dict(\n",
    "        l=0,\n",
    "        r=0,\n",
    "        b=0,\n",
    "        t=0\n",
    "    ),\n",
    "    scene=dict(\n",
    "        xaxis_title='PC1',\n",
    "        yaxis_title='PC2',\n",
    "        zaxis_title='PC3'\n",
    "    )\n",
    ")\n",
    "\n",
    "# Create the figure and add traces\n",
    "fig = go.Figure(data=[trace1, trace2], layout=layout)\n",
    "\n",
    "# Show the plot\n",
    "fig.show()\n"
   ]
  },
  {
   "cell_type": "code",
   "execution_count": null,
   "id": "9ac2dab5-98b7-4a65-8b66-1d8c1085bc86",
   "metadata": {},
   "outputs": [],
   "source": []
  }
 ],
 "metadata": {
  "kernelspec": {
   "display_name": "Python 3 (ipykernel)",
   "language": "python",
   "name": "python3"
  },
  "language_info": {
   "codemirror_mode": {
    "name": "ipython",
    "version": 3
   },
   "file_extension": ".py",
   "mimetype": "text/x-python",
   "name": "python",
   "nbconvert_exporter": "python",
   "pygments_lexer": "ipython3",
   "version": "3.11.7"
  }
 },
 "nbformat": 4,
 "nbformat_minor": 5
}
