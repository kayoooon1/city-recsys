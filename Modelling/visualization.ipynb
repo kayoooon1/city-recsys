{
 "cells": [
  {
   "cell_type": "code",
   "execution_count": 1,
   "metadata": {},
   "outputs": [],
   "source": [
    "%matplotlib inline\n",
    "import os\n",
    "\n",
    "import pandas as pd\n",
    "import matplotlib.pyplot as plt\n",
    "from dotenv import load_dotenv"
   ]
  },
  {
   "cell_type": "code",
   "execution_count": 2,
   "metadata": {},
   "outputs": [
    {
     "data": {
      "text/plain": [
       "'/Users/kayoonkim/Documents/winter-2023/data-literacy/city-recsys/streamlit/all-data-best-city.csv'"
      ]
     },
     "execution_count": 2,
     "metadata": {},
     "output_type": "execute_result"
    }
   ],
   "source": [
    "os.getenv(\"DATASET_PATH\")"
   ]
  },
  {
   "cell_type": "code",
   "execution_count": 30,
   "metadata": {},
   "outputs": [],
   "source": [
    "final_df = pd.read_csv(os.getenv(\"DATASET_PATH\"), index_col=0)"
   ]
  },
  {
   "cell_type": "code",
   "execution_count": 31,
   "metadata": {},
   "outputs": [],
   "source": [
    "final_df['city_ascii'] = final_df['city_ascii'].str.strip()"
   ]
  },
  {
   "cell_type": "code",
   "execution_count": 5,
   "metadata": {},
   "outputs": [
    {
     "data": {
      "text/html": [
       "<div>\n",
       "<style scoped>\n",
       "    .dataframe tbody tr th:only-of-type {\n",
       "        vertical-align: middle;\n",
       "    }\n",
       "\n",
       "    .dataframe tbody tr th {\n",
       "        vertical-align: top;\n",
       "    }\n",
       "\n",
       "    .dataframe thead th {\n",
       "        text-align: right;\n",
       "    }\n",
       "</style>\n",
       "<table border=\"1\" class=\"dataframe\">\n",
       "  <thead>\n",
       "    <tr style=\"text-align: right;\">\n",
       "      <th></th>\n",
       "      <th>city_ascii</th>\n",
       "      <th>cost_live_rent_index</th>\n",
       "      <th>purchase_pow_index</th>\n",
       "      <th>country</th>\n",
       "      <th>mean_tmp</th>\n",
       "      <th>std_dev_temp</th>\n",
       "      <th>safety_index</th>\n",
       "      <th>pollution_index</th>\n",
       "      <th>trffic_min_index</th>\n",
       "      <th>lat</th>\n",
       "      <th>lng</th>\n",
       "    </tr>\n",
       "  </thead>\n",
       "  <tbody>\n",
       "    <tr>\n",
       "      <th>0</th>\n",
       "      <td>Honolulu</td>\n",
       "      <td>80.4</td>\n",
       "      <td>74.4</td>\n",
       "      <td>United States</td>\n",
       "      <td>25.441667</td>\n",
       "      <td>1.837220</td>\n",
       "      <td>52.6</td>\n",
       "      <td>37.0</td>\n",
       "      <td>41.5</td>\n",
       "      <td>21.3294</td>\n",
       "      <td>-157.8460</td>\n",
       "    </tr>\n",
       "    <tr>\n",
       "      <th>1</th>\n",
       "      <td>Seattle</td>\n",
       "      <td>83.4</td>\n",
       "      <td>108.4</td>\n",
       "      <td>United States</td>\n",
       "      <td>11.316667</td>\n",
       "      <td>5.142662</td>\n",
       "      <td>45.7</td>\n",
       "      <td>34.7</td>\n",
       "      <td>46.9</td>\n",
       "      <td>47.6211</td>\n",
       "      <td>-122.3244</td>\n",
       "    </tr>\n",
       "    <tr>\n",
       "      <th>2</th>\n",
       "      <td>Canberra</td>\n",
       "      <td>69.1</td>\n",
       "      <td>69.1</td>\n",
       "      <td>Australia</td>\n",
       "      <td>13.141667</td>\n",
       "      <td>5.418396</td>\n",
       "      <td>72.0</td>\n",
       "      <td>26.1</td>\n",
       "      <td>43.3</td>\n",
       "      <td>-35.2931</td>\n",
       "      <td>149.1269</td>\n",
       "    </tr>\n",
       "    <tr>\n",
       "      <th>3</th>\n",
       "      <td>Adelaide</td>\n",
       "      <td>64.6</td>\n",
       "      <td>67.3</td>\n",
       "      <td>Australia</td>\n",
       "      <td>17.208333</td>\n",
       "      <td>4.416798</td>\n",
       "      <td>66.7</td>\n",
       "      <td>27.1</td>\n",
       "      <td>45.1</td>\n",
       "      <td>-34.9275</td>\n",
       "      <td>138.6000</td>\n",
       "    </tr>\n",
       "    <tr>\n",
       "      <th>4</th>\n",
       "      <td>Boston</td>\n",
       "      <td>82.0</td>\n",
       "      <td>106.6</td>\n",
       "      <td>United States</td>\n",
       "      <td>12.063636</td>\n",
       "      <td>8.341855</td>\n",
       "      <td>59.6</td>\n",
       "      <td>32.3</td>\n",
       "      <td>46.5</td>\n",
       "      <td>42.3188</td>\n",
       "      <td>-71.0852</td>\n",
       "    </tr>\n",
       "  </tbody>\n",
       "</table>\n",
       "</div>"
      ],
      "text/plain": [
       "  city_ascii  cost_live_rent_index  purchase_pow_index        country  \\\n",
       "0   Honolulu                  80.4                74.4  United States   \n",
       "1    Seattle                  83.4               108.4  United States   \n",
       "2   Canberra                  69.1                69.1      Australia   \n",
       "3   Adelaide                  64.6                67.3      Australia   \n",
       "4     Boston                  82.0               106.6  United States   \n",
       "\n",
       "    mean_tmp  std_dev_temp  safety_index  pollution_index  trffic_min_index  \\\n",
       "0  25.441667      1.837220          52.6             37.0              41.5   \n",
       "1  11.316667      5.142662          45.7             34.7              46.9   \n",
       "2  13.141667      5.418396          72.0             26.1              43.3   \n",
       "3  17.208333      4.416798          66.7             27.1              45.1   \n",
       "4  12.063636      8.341855          59.6             32.3              46.5   \n",
       "\n",
       "       lat       lng  \n",
       "0  21.3294 -157.8460  \n",
       "1  47.6211 -122.3244  \n",
       "2 -35.2931  149.1269  \n",
       "3 -34.9275  138.6000  \n",
       "4  42.3188  -71.0852  "
      ]
     },
     "execution_count": 5,
     "metadata": {},
     "output_type": "execute_result"
    }
   ],
   "source": [
    "final_df.head()"
   ]
  },
  {
   "cell_type": "code",
   "execution_count": 6,
   "metadata": {},
   "outputs": [
    {
     "data": {
      "text/plain": [
       "Index(['city_ascii', 'cost_live_rent_index', 'purchase_pow_index', 'country',\n",
       "       'mean_tmp', 'std_dev_temp', 'safety_index', 'pollution_index',\n",
       "       'trffic_min_index', 'lat', 'lng'],\n",
       "      dtype='object')"
      ]
     },
     "execution_count": 6,
     "metadata": {},
     "output_type": "execute_result"
    }
   ],
   "source": [
    "final_df.columns"
   ]
  },
  {
   "cell_type": "code",
   "execution_count": 7,
   "metadata": {},
   "outputs": [],
   "source": [
    "#%pip install dash"
   ]
  },
  {
   "cell_type": "code",
   "execution_count": 61,
   "metadata": {},
   "outputs": [
    {
     "data": {
      "text/html": [
       "\n",
       "        <iframe\n",
       "            width=\"100%\"\n",
       "            height=\"650\"\n",
       "            src=\"http://127.0.0.1:8000/\"\n",
       "            frameborder=\"0\"\n",
       "            allowfullscreen\n",
       "            \n",
       "        ></iframe>\n",
       "        "
      ],
      "text/plain": [
       "<IPython.lib.display.IFrame at 0x292b20890>"
      ]
     },
     "metadata": {},
     "output_type": "display_data"
    }
   ],
   "source": [
    "import dash\n",
    "from dash import dcc, html\n",
    "from dash.dependencies import Input, Output\n",
    "import plotly.express as px\n",
    "import pandas as pd\n",
    "\n",
    "# initialize\n",
    "app = dash.Dash(__name__)\n",
    "dropdown_options = [{'label': col, 'value': col} for col in final_df.drop(columns=['city_ascii', 'country', 'lat', 'lng'])]\n",
    "\n",
    "# app layout\n",
    "app.layout = html.Div([\n",
    "    dcc.Dropdown(\n",
    "        id='index-dropdown',\n",
    "        options=dropdown_options,\n",
    "        value='safety_index',  # initial index\n",
    "        style={'width': '50%', 'margin': '10px'}\n",
    "    ),\n",
    "    dcc.Graph(\n",
    "        id='world-map',\n",
    "        style={'height': '90vh', 'width': '100vw'}  # full size\n",
    "    )\n",
    "])\n",
    "\n",
    "# callback to update the visualization\n",
    "@app.callback(\n",
    "    Output('world-map', 'figure'),\n",
    "    [Input('index-dropdown', 'value')]\n",
    ")\n",
    "\n",
    "def update_plot(selected_index):\n",
    "    \n",
    "    fig = px.scatter_geo(\n",
    "        final_df, lat='lat', lon='lng', color=selected_index,\n",
    "        color_continuous_scale='blues' if selected_index in ['safety_index', 'purchase_pow_index', 'trffic_min_index'] else 'reds',\n",
    "        hover_name='city_ascii', labels={selected_index: selected_index.replace('_', ' ').title()} ,\n",
    "        title=f'{selected_index.replace(\"_\", \" \").title()} Visualization', projection='natural earth',\n",
    "    )\n",
    "\n",
    "    return fig\n",
    "\n",
    "\n",
    "if __name__ == '__main__':\n",
    "    app.run_server(port=8000, host='127.0.0.1', debug=True, use_reloader=False)\n"
   ]
  },
  {
   "cell_type": "code",
   "execution_count": null,
   "metadata": {},
   "outputs": [],
   "source": []
  }
 ],
 "metadata": {
  "kernelspec": {
   "display_name": "base",
   "language": "python",
   "name": "python3"
  },
  "language_info": {
   "codemirror_mode": {
    "name": "ipython",
    "version": 3
   },
   "file_extension": ".py",
   "mimetype": "text/x-python",
   "name": "python",
   "nbconvert_exporter": "python",
   "pygments_lexer": "ipython3",
   "version": "3.11.5"
  }
 },
 "nbformat": 4,
 "nbformat_minor": 2
}
