{
 "cells": [
  {
   "cell_type": "code",
   "execution_count": 2,
   "id": "02d124ee-9695-43c6-806f-2339c449c1de",
   "metadata": {},
   "outputs": [],
   "source": [
    "%matplotlib inline\n",
    "\n",
    "import numpy as np\n",
    "import pandas as pd\n",
    "from sklearn.decomposition import PCA\n",
    "import matplotlib.pyplot as plt\n",
    "#from dotenv import load_dotenv\n",
    "from tueplots import bundles\n",
    "from tueplots.constants.color import rgb\n",
    "import cartopy.crs as ccrs\n",
    "import cartopy.feature as cfeature\n",
    "import plotly.graph_objects as go\n"
   ]
  },
  {
   "cell_type": "code",
   "execution_count": 3,
   "id": "5dc4e542-0440-4f83-b57e-e623ed4264d9",
   "metadata": {},
   "outputs": [],
   "source": [
    "final_df = pd.read_csv('../dat/all-data-best-city.csv', index_col=0)"
   ]
  },
  {
   "cell_type": "code",
   "execution_count": 4,
   "id": "5b460bbf",
   "metadata": {},
   "outputs": [],
   "source": [
    "#os.getenv(\"DATASET_PATH\")"
   ]
  },
  {
   "cell_type": "code",
   "execution_count": 5,
   "id": "7aa9c025",
   "metadata": {},
   "outputs": [],
   "source": [
    "#final_df = pd.read_csv(os.getenv(\"DATASET_PATH\"), index_col=0)"
   ]
  },
  {
   "cell_type": "code",
   "execution_count": 6,
   "id": "bfd3feba-7551-4e29-b45e-78f40ee916e9",
   "metadata": {},
   "outputs": [
    {
     "data": {
      "text/html": [
       "<div>\n",
       "<style scoped>\n",
       "    .dataframe tbody tr th:only-of-type {\n",
       "        vertical-align: middle;\n",
       "    }\n",
       "\n",
       "    .dataframe tbody tr th {\n",
       "        vertical-align: top;\n",
       "    }\n",
       "\n",
       "    .dataframe thead th {\n",
       "        text-align: right;\n",
       "    }\n",
       "</style>\n",
       "<table border=\"1\" class=\"dataframe\">\n",
       "  <thead>\n",
       "    <tr style=\"text-align: right;\">\n",
       "      <th></th>\n",
       "      <th>city_ascii</th>\n",
       "      <th>cost_live_rent_index</th>\n",
       "      <th>purchase_pow_index</th>\n",
       "      <th>country</th>\n",
       "      <th>mean_tmp</th>\n",
       "      <th>std_dev_temp</th>\n",
       "      <th>safety_index</th>\n",
       "      <th>pollution_index</th>\n",
       "      <th>trffic_min_index</th>\n",
       "      <th>lat</th>\n",
       "      <th>lng</th>\n",
       "    </tr>\n",
       "  </thead>\n",
       "  <tbody>\n",
       "    <tr>\n",
       "      <th>0</th>\n",
       "      <td>Honolulu</td>\n",
       "      <td>80.4</td>\n",
       "      <td>74.4</td>\n",
       "      <td>United States</td>\n",
       "      <td>25.441667</td>\n",
       "      <td>1.837220</td>\n",
       "      <td>52.6</td>\n",
       "      <td>37.0</td>\n",
       "      <td>41.5</td>\n",
       "      <td>21.3294</td>\n",
       "      <td>-157.8460</td>\n",
       "    </tr>\n",
       "    <tr>\n",
       "      <th>1</th>\n",
       "      <td>Seattle</td>\n",
       "      <td>83.4</td>\n",
       "      <td>108.4</td>\n",
       "      <td>United States</td>\n",
       "      <td>11.316667</td>\n",
       "      <td>5.142662</td>\n",
       "      <td>45.7</td>\n",
       "      <td>34.7</td>\n",
       "      <td>46.9</td>\n",
       "      <td>47.6211</td>\n",
       "      <td>-122.3244</td>\n",
       "    </tr>\n",
       "    <tr>\n",
       "      <th>2</th>\n",
       "      <td>Canberra</td>\n",
       "      <td>69.1</td>\n",
       "      <td>69.1</td>\n",
       "      <td>Australia</td>\n",
       "      <td>13.141667</td>\n",
       "      <td>5.418396</td>\n",
       "      <td>72.0</td>\n",
       "      <td>26.1</td>\n",
       "      <td>43.3</td>\n",
       "      <td>-35.2931</td>\n",
       "      <td>149.1269</td>\n",
       "    </tr>\n",
       "    <tr>\n",
       "      <th>3</th>\n",
       "      <td>Adelaide</td>\n",
       "      <td>64.6</td>\n",
       "      <td>67.3</td>\n",
       "      <td>Australia</td>\n",
       "      <td>17.208333</td>\n",
       "      <td>4.416798</td>\n",
       "      <td>66.7</td>\n",
       "      <td>27.1</td>\n",
       "      <td>45.1</td>\n",
       "      <td>-34.9275</td>\n",
       "      <td>138.6000</td>\n",
       "    </tr>\n",
       "    <tr>\n",
       "      <th>4</th>\n",
       "      <td>Boston</td>\n",
       "      <td>82.0</td>\n",
       "      <td>106.6</td>\n",
       "      <td>United States</td>\n",
       "      <td>12.063636</td>\n",
       "      <td>8.341855</td>\n",
       "      <td>59.6</td>\n",
       "      <td>32.3</td>\n",
       "      <td>46.5</td>\n",
       "      <td>42.3188</td>\n",
       "      <td>-71.0852</td>\n",
       "    </tr>\n",
       "  </tbody>\n",
       "</table>\n",
       "</div>"
      ],
      "text/plain": [
       "  city_ascii  cost_live_rent_index  purchase_pow_index        country  \\\n",
       "0   Honolulu                  80.4                74.4  United States   \n",
       "1    Seattle                  83.4               108.4  United States   \n",
       "2   Canberra                  69.1                69.1      Australia   \n",
       "3   Adelaide                  64.6                67.3      Australia   \n",
       "4     Boston                  82.0               106.6  United States   \n",
       "\n",
       "    mean_tmp  std_dev_temp  safety_index  pollution_index  trffic_min_index  \\\n",
       "0  25.441667      1.837220          52.6             37.0              41.5   \n",
       "1  11.316667      5.142662          45.7             34.7              46.9   \n",
       "2  13.141667      5.418396          72.0             26.1              43.3   \n",
       "3  17.208333      4.416798          66.7             27.1              45.1   \n",
       "4  12.063636      8.341855          59.6             32.3              46.5   \n",
       "\n",
       "       lat       lng  \n",
       "0  21.3294 -157.8460  \n",
       "1  47.6211 -122.3244  \n",
       "2 -35.2931  149.1269  \n",
       "3 -34.9275  138.6000  \n",
       "4  42.3188  -71.0852  "
      ]
     },
     "execution_count": 6,
     "metadata": {},
     "output_type": "execute_result"
    }
   ],
   "source": [
    "final_df.head()"
   ]
  },
  {
   "cell_type": "code",
   "execution_count": 7,
   "id": "15d39b63-1b62-4a10-8656-a975275a0643",
   "metadata": {},
   "outputs": [
    {
     "data": {
      "text/plain": [
       "Index(['city_ascii', 'cost_live_rent_index', 'purchase_pow_index', 'country',\n",
       "       'mean_tmp', 'std_dev_temp', 'safety_index', 'pollution_index',\n",
       "       'trffic_min_index', 'lat', 'lng'],\n",
       "      dtype='object')"
      ]
     },
     "execution_count": 7,
     "metadata": {},
     "output_type": "execute_result"
    }
   ],
   "source": [
    "final_df.columns"
   ]
  },
  {
   "cell_type": "code",
   "execution_count": 8,
   "id": "82a8cdae-5c43-4fd7-a5eb-e4a0cc36ff7c",
   "metadata": {},
   "outputs": [],
   "source": [
    "#final_df = final_df.drop(['rank_cost_living', 'rank_traffic','rank_safety'], axis=1)\n",
    "#final_df.head()"
   ]
  },
  {
   "cell_type": "code",
   "execution_count": 9,
   "id": "d1a645df-d0ee-41f8-966a-162ed6fd2d17",
   "metadata": {},
   "outputs": [],
   "source": [
    "# Define variables for best mean temperature and best std deviation value\n",
    "best_mean_tmp = 15\n",
    "best_std_dev_tmp = 5"
   ]
  },
  {
   "cell_type": "code",
   "execution_count": 10,
   "id": "31395b42",
   "metadata": {},
   "outputs": [
    {
     "data": {
      "text/plain": [
       "Index(['city_ascii', 'cost_live_rent_index', 'purchase_pow_index', 'country',\n",
       "       'mean_tmp', 'std_dev_temp', 'safety_index', 'pollution_index',\n",
       "       'trffic_min_index', 'lat', 'lng'],\n",
       "      dtype='object')"
      ]
     },
     "execution_count": 10,
     "metadata": {},
     "output_type": "execute_result"
    }
   ],
   "source": [
    "final_df.columns"
   ]
  },
  {
   "cell_type": "code",
   "execution_count": 11,
   "id": "b7b1b15d-ebe1-46d4-9d8e-5f48eed9c5e4",
   "metadata": {},
   "outputs": [
    {
     "data": {
      "text/html": [
       "<div>\n",
       "<style scoped>\n",
       "    .dataframe tbody tr th:only-of-type {\n",
       "        vertical-align: middle;\n",
       "    }\n",
       "\n",
       "    .dataframe tbody tr th {\n",
       "        vertical-align: top;\n",
       "    }\n",
       "\n",
       "    .dataframe thead th {\n",
       "        text-align: right;\n",
       "    }\n",
       "</style>\n",
       "<table border=\"1\" class=\"dataframe\">\n",
       "  <thead>\n",
       "    <tr style=\"text-align: right;\">\n",
       "      <th></th>\n",
       "      <th>city_ascii</th>\n",
       "      <th>country</th>\n",
       "      <th>mean_tmp</th>\n",
       "      <th>std_dev_temp</th>\n",
       "      <th>lat</th>\n",
       "      <th>lng</th>\n",
       "      <th>scaled_cost_live_rent_index</th>\n",
       "      <th>scaled_purchase_pow_index</th>\n",
       "      <th>scaled_safety_index</th>\n",
       "      <th>scaled_pollution_index</th>\n",
       "      <th>scaled_trffic_min_index</th>\n",
       "      <th>scaled_mean_tmp</th>\n",
       "      <th>scaled_tmp_std_dev</th>\n",
       "    </tr>\n",
       "  </thead>\n",
       "  <tbody>\n",
       "    <tr>\n",
       "      <th>0</th>\n",
       "      <td>Honolulu</td>\n",
       "      <td>United States</td>\n",
       "      <td>25.441667</td>\n",
       "      <td>1.837220</td>\n",
       "      <td>21.3294</td>\n",
       "      <td>-157.8460</td>\n",
       "      <td>-1.893426</td>\n",
       "      <td>0.192068</td>\n",
       "      <td>-0.160940</td>\n",
       "      <td>0.704606</td>\n",
       "      <td>-0.319090</td>\n",
       "      <td>1.501799</td>\n",
       "      <td>-1.536880</td>\n",
       "    </tr>\n",
       "    <tr>\n",
       "      <th>1</th>\n",
       "      <td>Seattle</td>\n",
       "      <td>United States</td>\n",
       "      <td>11.316667</td>\n",
       "      <td>5.142662</td>\n",
       "      <td>47.6211</td>\n",
       "      <td>-122.3244</td>\n",
       "      <td>-2.052880</td>\n",
       "      <td>1.244113</td>\n",
       "      <td>-0.620860</td>\n",
       "      <td>0.814225</td>\n",
       "      <td>-0.909155</td>\n",
       "      <td>-0.990130</td>\n",
       "      <td>-0.133273</td>\n",
       "    </tr>\n",
       "    <tr>\n",
       "      <th>2</th>\n",
       "      <td>Canberra</td>\n",
       "      <td>Australia</td>\n",
       "      <td>13.141667</td>\n",
       "      <td>5.418396</td>\n",
       "      <td>-35.2931</td>\n",
       "      <td>149.1269</td>\n",
       "      <td>-1.292818</td>\n",
       "      <td>0.028073</td>\n",
       "      <td>1.132169</td>\n",
       "      <td>1.224105</td>\n",
       "      <td>-0.515778</td>\n",
       "      <td>-0.668164</td>\n",
       "      <td>-0.016187</td>\n",
       "    </tr>\n",
       "    <tr>\n",
       "      <th>3</th>\n",
       "      <td>Adelaide</td>\n",
       "      <td>Australia</td>\n",
       "      <td>17.208333</td>\n",
       "      <td>4.416798</td>\n",
       "      <td>-34.9275</td>\n",
       "      <td>138.6000</td>\n",
       "      <td>-1.053637</td>\n",
       "      <td>-0.027624</td>\n",
       "      <td>0.778897</td>\n",
       "      <td>1.176445</td>\n",
       "      <td>-0.712467</td>\n",
       "      <td>0.049276</td>\n",
       "      <td>-0.441500</td>\n",
       "    </tr>\n",
       "    <tr>\n",
       "      <th>4</th>\n",
       "      <td>Boston</td>\n",
       "      <td>United States</td>\n",
       "      <td>12.063636</td>\n",
       "      <td>8.341855</td>\n",
       "      <td>42.3188</td>\n",
       "      <td>-71.0852</td>\n",
       "      <td>-1.978468</td>\n",
       "      <td>1.188417</td>\n",
       "      <td>0.305646</td>\n",
       "      <td>0.928611</td>\n",
       "      <td>-0.865446</td>\n",
       "      <td>-0.858350</td>\n",
       "      <td>1.225217</td>\n",
       "    </tr>\n",
       "  </tbody>\n",
       "</table>\n",
       "</div>"
      ],
      "text/plain": [
       "  city_ascii        country   mean_tmp  std_dev_temp      lat       lng  \\\n",
       "0   Honolulu  United States  25.441667      1.837220  21.3294 -157.8460   \n",
       "1    Seattle  United States  11.316667      5.142662  47.6211 -122.3244   \n",
       "2   Canberra      Australia  13.141667      5.418396 -35.2931  149.1269   \n",
       "3   Adelaide      Australia  17.208333      4.416798 -34.9275  138.6000   \n",
       "4     Boston  United States  12.063636      8.341855  42.3188  -71.0852   \n",
       "\n",
       "   scaled_cost_live_rent_index  scaled_purchase_pow_index  \\\n",
       "0                    -1.893426                   0.192068   \n",
       "1                    -2.052880                   1.244113   \n",
       "2                    -1.292818                   0.028073   \n",
       "3                    -1.053637                  -0.027624   \n",
       "4                    -1.978468                   1.188417   \n",
       "\n",
       "   scaled_safety_index  scaled_pollution_index  scaled_trffic_min_index  \\\n",
       "0            -0.160940                0.704606                -0.319090   \n",
       "1            -0.620860                0.814225                -0.909155   \n",
       "2             1.132169                1.224105                -0.515778   \n",
       "3             0.778897                1.176445                -0.712467   \n",
       "4             0.305646                0.928611                -0.865446   \n",
       "\n",
       "   scaled_mean_tmp  scaled_tmp_std_dev  \n",
       "0         1.501799           -1.536880  \n",
       "1        -0.990130           -0.133273  \n",
       "2        -0.668164           -0.016187  \n",
       "3         0.049276           -0.441500  \n",
       "4        -0.858350            1.225217  "
      ]
     },
     "execution_count": 11,
     "metadata": {},
     "output_type": "execute_result"
    }
   ],
   "source": [
    "# Min-Max Scaling all our indexes\n",
    "final_df['scaled_cost_live_rent_index'] = 1 - ( (final_df['cost_live_rent_index'] - final_df['cost_live_rent_index'].min()) /\n",
    "                                           (final_df['cost_live_rent_index'].max() - final_df['cost_live_rent_index'].min()) )\n",
    "final_df['scaled_purchase_pow_index'] = ( (final_df['purchase_pow_index'] - final_df['purchase_pow_index'].min()) /\n",
    "                                           (final_df['purchase_pow_index'].max() - final_df['purchase_pow_index'].min()) )\n",
    "final_df['scaled_safety_index'] = ( (final_df['safety_index'] - final_df['safety_index'].min()) /\n",
    "                                           (final_df['safety_index'].max() - final_df['safety_index'].min()) )\n",
    "final_df['scaled_pollution_index'] = 1 - ( (final_df['pollution_index'] - final_df['pollution_index'].min()) /\n",
    "                                           (final_df['pollution_index'].max() - final_df['pollution_index'].min()) )\n",
    "final_df['scaled_trffic_min_index'] = 1 - ( (final_df['trffic_min_index'] - final_df['trffic_min_index'].min()) /\n",
    "                                           (final_df['trffic_min_index'].max() - final_df['trffic_min_index'].min()) )\n",
    "final_df['scaled_mean_tmp'] = ( (final_df['mean_tmp'] - final_df['mean_tmp'].min()) /\n",
    "                                           (final_df['mean_tmp'].max() - final_df['mean_tmp'].min()) )\n",
    "final_df['scaled_tmp_std_dev'] = ( (final_df['std_dev_temp'] - final_df['std_dev_temp'].min()) /\n",
    "                                           (final_df['std_dev_temp'].max() - final_df['std_dev_temp'].min()) )\n",
    "\n",
    "scaled_mean_tmp_mean_for_new_pt = final_df['scaled_mean_tmp'].mean()\n",
    "scaled_mean_tmp_stdev_for_new_pt = final_df['scaled_mean_tmp'].std()\n",
    "\n",
    "scaled_stdev_tmp_mean_for_new_pt = final_df['scaled_tmp_std_dev'].mean()\n",
    "scaled_stdev_tmp_stdev_for_new_pt = final_df['scaled_tmp_std_dev'].std()\n",
    "\n",
    "final_df = final_df.drop(['cost_live_rent_index', 'purchase_pow_index', 'safety_index', 'pollution_index',\n",
    "                          'trffic_min_index'],\n",
    "                         axis=1)\n",
    "# Standardizing = (x-mean)/std for PCA - Important as sklearn PCA only centers data\n",
    "# It does not divide by std dev, so need to do it manually so all individual feature\n",
    "# variances are set to 1, as PCA is sensitive (depends) on Variances\n",
    "final_df['scaled_cost_live_rent_index'] = ( (final_df['scaled_cost_live_rent_index'] - final_df['scaled_cost_live_rent_index'].mean()) /\n",
    "                                           final_df['scaled_cost_live_rent_index'].std() )\n",
    "final_df['scaled_purchase_pow_index'] = ( (final_df['scaled_purchase_pow_index'] - final_df['scaled_purchase_pow_index'].mean()) /\n",
    "                                           final_df['scaled_purchase_pow_index'].std() )\n",
    "final_df['scaled_safety_index'] = ( (final_df['scaled_safety_index'] - final_df['scaled_safety_index'].mean()) /\n",
    "                                           final_df['scaled_safety_index'].std() )\n",
    "final_df['scaled_pollution_index'] = ( (final_df['scaled_pollution_index'] - final_df['scaled_pollution_index'].mean()) /\n",
    "                                           final_df['scaled_pollution_index'].std() )\n",
    "final_df['scaled_trffic_min_index'] = ( (final_df['scaled_trffic_min_index'] - final_df['scaled_trffic_min_index'].mean()) /\n",
    "                                           final_df['scaled_trffic_min_index'].std() )\n",
    "final_df['scaled_mean_tmp'] = ( (final_df['scaled_mean_tmp'] - final_df['scaled_mean_tmp'].mean()) /\n",
    "                                           final_df['scaled_mean_tmp'].std() )\n",
    "final_df['scaled_tmp_std_dev'] = ( (final_df['scaled_tmp_std_dev'] - final_df['scaled_tmp_std_dev'].mean()) /\n",
    "                                           final_df['scaled_tmp_std_dev'].std() )\n",
    "final_df.head()"
   ]
  },
  {
   "cell_type": "code",
   "execution_count": 12,
   "id": "ef29e596-ece0-4825-9ae9-562b9697ce72",
   "metadata": {},
   "outputs": [
    {
     "data": {
      "text/html": [
       "<div>\n",
       "<style scoped>\n",
       "    .dataframe tbody tr th:only-of-type {\n",
       "        vertical-align: middle;\n",
       "    }\n",
       "\n",
       "    .dataframe tbody tr th {\n",
       "        vertical-align: top;\n",
       "    }\n",
       "\n",
       "    .dataframe thead th {\n",
       "        text-align: right;\n",
       "    }\n",
       "</style>\n",
       "<table border=\"1\" class=\"dataframe\">\n",
       "  <thead>\n",
       "    <tr style=\"text-align: right;\">\n",
       "      <th></th>\n",
       "      <th>mean_tmp</th>\n",
       "      <th>std_dev_temp</th>\n",
       "      <th>lat</th>\n",
       "      <th>lng</th>\n",
       "      <th>scaled_cost_live_rent_index</th>\n",
       "      <th>scaled_purchase_pow_index</th>\n",
       "      <th>scaled_safety_index</th>\n",
       "      <th>scaled_pollution_index</th>\n",
       "      <th>scaled_trffic_min_index</th>\n",
       "      <th>scaled_mean_tmp</th>\n",
       "      <th>scaled_tmp_std_dev</th>\n",
       "    </tr>\n",
       "  </thead>\n",
       "  <tbody>\n",
       "    <tr>\n",
       "      <th>count</th>\n",
       "      <td>124.000000</td>\n",
       "      <td>124.000000</td>\n",
       "      <td>124.000000</td>\n",
       "      <td>124.000000</td>\n",
       "      <td>1.240000e+02</td>\n",
       "      <td>1.240000e+02</td>\n",
       "      <td>1.240000e+02</td>\n",
       "      <td>1.240000e+02</td>\n",
       "      <td>1.240000e+02</td>\n",
       "      <td>1.240000e+02</td>\n",
       "      <td>1.240000e+02</td>\n",
       "    </tr>\n",
       "    <tr>\n",
       "      <th>mean</th>\n",
       "      <td>16.929022</td>\n",
       "      <td>5.456515</td>\n",
       "      <td>26.269406</td>\n",
       "      <td>6.210760</td>\n",
       "      <td>1.307198e-16</td>\n",
       "      <td>7.520866e-17</td>\n",
       "      <td>1.916030e-16</td>\n",
       "      <td>8.595275e-17</td>\n",
       "      <td>-2.600966e-16</td>\n",
       "      <td>2.399514e-16</td>\n",
       "      <td>-3.805200e-17</td>\n",
       "    </tr>\n",
       "    <tr>\n",
       "      <th>std</th>\n",
       "      <td>5.668299</td>\n",
       "      <td>2.354963</td>\n",
       "      <td>28.471539</td>\n",
       "      <td>79.900214</td>\n",
       "      <td>1.000000e+00</td>\n",
       "      <td>1.000000e+00</td>\n",
       "      <td>1.000000e+00</td>\n",
       "      <td>1.000000e+00</td>\n",
       "      <td>1.000000e+00</td>\n",
       "      <td>1.000000e+00</td>\n",
       "      <td>1.000000e+00</td>\n",
       "    </tr>\n",
       "    <tr>\n",
       "      <th>min</th>\n",
       "      <td>9.133333</td>\n",
       "      <td>0.399621</td>\n",
       "      <td>-41.288900</td>\n",
       "      <td>-157.846000</td>\n",
       "      <td>-2.393048e+00</td>\n",
       "      <td>-1.754215e+00</td>\n",
       "      <td>-2.467207e+00</td>\n",
       "      <td>-1.997743e+00</td>\n",
       "      <td>-3.149217e+00</td>\n",
       "      <td>-1.375314e+00</td>\n",
       "      <td>-2.147335e+00</td>\n",
       "    </tr>\n",
       "    <tr>\n",
       "      <th>25%</th>\n",
       "      <td>12.051894</td>\n",
       "      <td>3.910059</td>\n",
       "      <td>19.344000</td>\n",
       "      <td>-71.704325</td>\n",
       "      <td>-8.211006e-01</td>\n",
       "      <td>-9.829735e-01</td>\n",
       "      <td>-6.208601e-01</td>\n",
       "      <td>-7.442721e-01</td>\n",
       "      <td>-5.731456e-01</td>\n",
       "      <td>-8.604219e-01</td>\n",
       "      <td>-6.566796e-01</td>\n",
       "    </tr>\n",
       "    <tr>\n",
       "      <th>50%</th>\n",
       "      <td>15.822500</td>\n",
       "      <td>5.658067</td>\n",
       "      <td>36.896650</td>\n",
       "      <td>16.177900</td>\n",
       "      <td>2.538828e-01</td>\n",
       "      <td>5.901534e-02</td>\n",
       "      <td>-3.096238e-02</td>\n",
       "      <td>4.927478e-02</td>\n",
       "      <td>7.428686e-02</td>\n",
       "      <td>-1.952124e-01</td>\n",
       "      <td>8.558600e-02</td>\n",
       "    </tr>\n",
       "    <tr>\n",
       "      <th>75%</th>\n",
       "      <td>20.875000</td>\n",
       "      <td>7.495350</td>\n",
       "      <td>45.477400</td>\n",
       "      <td>50.223625</td>\n",
       "      <td>8.664506e-01</td>\n",
       "      <td>7.753343e-01</td>\n",
       "      <td>7.972274e-01</td>\n",
       "      <td>8.749925e-01</td>\n",
       "      <td>7.790868e-01</td>\n",
       "      <td>6.961486e-01</td>\n",
       "      <td>8.657611e-01</td>\n",
       "    </tr>\n",
       "    <tr>\n",
       "      <th>max</th>\n",
       "      <td>28.600000</td>\n",
       "      <td>10.296734</td>\n",
       "      <td>59.950000</td>\n",
       "      <td>174.777200</td>\n",
       "      <td>1.800583e+00</td>\n",
       "      <td>2.438494e+00</td>\n",
       "      <td>1.992020e+00</td>\n",
       "      <td>1.700710e+00</td>\n",
       "      <td>1.986535e+00</td>\n",
       "      <td>2.058991e+00</td>\n",
       "      <td>2.055327e+00</td>\n",
       "    </tr>\n",
       "  </tbody>\n",
       "</table>\n",
       "</div>"
      ],
      "text/plain": [
       "         mean_tmp  std_dev_temp         lat         lng  \\\n",
       "count  124.000000    124.000000  124.000000  124.000000   \n",
       "mean    16.929022      5.456515   26.269406    6.210760   \n",
       "std      5.668299      2.354963   28.471539   79.900214   \n",
       "min      9.133333      0.399621  -41.288900 -157.846000   \n",
       "25%     12.051894      3.910059   19.344000  -71.704325   \n",
       "50%     15.822500      5.658067   36.896650   16.177900   \n",
       "75%     20.875000      7.495350   45.477400   50.223625   \n",
       "max     28.600000     10.296734   59.950000  174.777200   \n",
       "\n",
       "       scaled_cost_live_rent_index  scaled_purchase_pow_index  \\\n",
       "count                 1.240000e+02               1.240000e+02   \n",
       "mean                  1.307198e-16               7.520866e-17   \n",
       "std                   1.000000e+00               1.000000e+00   \n",
       "min                  -2.393048e+00              -1.754215e+00   \n",
       "25%                  -8.211006e-01              -9.829735e-01   \n",
       "50%                   2.538828e-01               5.901534e-02   \n",
       "75%                   8.664506e-01               7.753343e-01   \n",
       "max                   1.800583e+00               2.438494e+00   \n",
       "\n",
       "       scaled_safety_index  scaled_pollution_index  scaled_trffic_min_index  \\\n",
       "count         1.240000e+02            1.240000e+02             1.240000e+02   \n",
       "mean          1.916030e-16            8.595275e-17            -2.600966e-16   \n",
       "std           1.000000e+00            1.000000e+00             1.000000e+00   \n",
       "min          -2.467207e+00           -1.997743e+00            -3.149217e+00   \n",
       "25%          -6.208601e-01           -7.442721e-01            -5.731456e-01   \n",
       "50%          -3.096238e-02            4.927478e-02             7.428686e-02   \n",
       "75%           7.972274e-01            8.749925e-01             7.790868e-01   \n",
       "max           1.992020e+00            1.700710e+00             1.986535e+00   \n",
       "\n",
       "       scaled_mean_tmp  scaled_tmp_std_dev  \n",
       "count     1.240000e+02        1.240000e+02  \n",
       "mean      2.399514e-16       -3.805200e-17  \n",
       "std       1.000000e+00        1.000000e+00  \n",
       "min      -1.375314e+00       -2.147335e+00  \n",
       "25%      -8.604219e-01       -6.566796e-01  \n",
       "50%      -1.952124e-01        8.558600e-02  \n",
       "75%       6.961486e-01        8.657611e-01  \n",
       "max       2.058991e+00        2.055327e+00  "
      ]
     },
     "execution_count": 12,
     "metadata": {},
     "output_type": "execute_result"
    }
   ],
   "source": [
    "final_df.describe()"
   ]
  },
  {
   "cell_type": "code",
   "execution_count": 13,
   "id": "7d178c0b-d70c-4a40-b887-2c107f3f5b9e",
   "metadata": {},
   "outputs": [
    {
     "data": {
      "text/plain": [
       "city_ascii                      object\n",
       "country                         object\n",
       "mean_tmp                       float64\n",
       "std_dev_temp                   float64\n",
       "lat                            float64\n",
       "lng                            float64\n",
       "scaled_cost_live_rent_index    float64\n",
       "scaled_purchase_pow_index      float64\n",
       "scaled_safety_index            float64\n",
       "scaled_pollution_index         float64\n",
       "scaled_trffic_min_index        float64\n",
       "scaled_mean_tmp                float64\n",
       "scaled_tmp_std_dev             float64\n",
       "dtype: object"
      ]
     },
     "execution_count": 13,
     "metadata": {},
     "output_type": "execute_result"
    }
   ],
   "source": [
    "final_df.dtypes"
   ]
  },
  {
   "cell_type": "code",
   "execution_count": 14,
   "id": "87b75500-1324-4a78-9554-5047a8ac6b83",
   "metadata": {},
   "outputs": [
    {
     "name": "stdout",
     "output_type": "stream",
     "text": [
      "Range of Mean temperature: 28.600000000000005 9.133333333333336\n",
      "Range of Std Dev of Temperature: 10.296733815765428 0.3996210326008498\n",
      "-0.340317642475509 -0.19385230468929138\n"
     ]
    }
   ],
   "source": [
    "print(\"Range of Mean temperature:\",final_df['mean_tmp'].max(), final_df['mean_tmp'].min())\n",
    "print(\"Range of Std Dev of Temperature:\",final_df['std_dev_temp'].max(), final_df['std_dev_temp'].min())\n",
    "\n",
    "mean_tmp_range = final_df['mean_tmp'].max() - final_df['mean_tmp'].min()\n",
    "std_dev_temp_range = final_df['std_dev_temp'].max() - final_df['std_dev_temp'].min()\n",
    "\n",
    "scaled_best_mean_tmp = (best_mean_tmp - final_df['mean_tmp'].min()) / mean_tmp_range\n",
    "scaled_best_std_dev_tmp = (best_std_dev_tmp - final_df['std_dev_temp'].min()) / std_dev_temp_range\n",
    "\n",
    "# Normalize the new point\n",
    "scaled_best_mean_tmp = ( (scaled_best_mean_tmp - scaled_mean_tmp_mean_for_new_pt) /\n",
    "                                           scaled_mean_tmp_stdev_for_new_pt )\n",
    "scaled_best_std_dev_tmp = ( (scaled_best_std_dev_tmp - scaled_stdev_tmp_mean_for_new_pt) /\n",
    "                                           scaled_stdev_tmp_stdev_for_new_pt )\n",
    "print(scaled_best_mean_tmp, scaled_best_std_dev_tmp)"
   ]
  },
  {
   "cell_type": "code",
   "execution_count": 15,
   "id": "8184fc2b-91bd-4c10-92d3-38adc7885106",
   "metadata": {},
   "outputs": [],
   "source": [
    "# For a new point\n",
    "new_point = np.array([[0.35,0.5,0.65,0.6,0.75,scaled_best_mean_tmp,scaled_best_std_dev_tmp]])"
   ]
  },
  {
   "cell_type": "code",
   "execution_count": 16,
   "id": "4b9f432d-f5f8-42cb-98a3-4f3675a15d83",
   "metadata": {},
   "outputs": [
    {
     "data": {
      "text/html": [
       "<div>\n",
       "<style scoped>\n",
       "    .dataframe tbody tr th:only-of-type {\n",
       "        vertical-align: middle;\n",
       "    }\n",
       "\n",
       "    .dataframe tbody tr th {\n",
       "        vertical-align: top;\n",
       "    }\n",
       "\n",
       "    .dataframe thead th {\n",
       "        text-align: right;\n",
       "    }\n",
       "</style>\n",
       "<table border=\"1\" class=\"dataframe\">\n",
       "  <thead>\n",
       "    <tr style=\"text-align: right;\">\n",
       "      <th></th>\n",
       "      <th>scaled_cost_live_rent_index</th>\n",
       "      <th>scaled_purchase_pow_index</th>\n",
       "      <th>scaled_safety_index</th>\n",
       "      <th>scaled_pollution_index</th>\n",
       "      <th>scaled_trffic_min_index</th>\n",
       "      <th>scaled_mean_tmp</th>\n",
       "      <th>scaled_tmp_std_dev</th>\n",
       "    </tr>\n",
       "    <tr>\n",
       "      <th>city_ascii</th>\n",
       "      <th></th>\n",
       "      <th></th>\n",
       "      <th></th>\n",
       "      <th></th>\n",
       "      <th></th>\n",
       "      <th></th>\n",
       "      <th></th>\n",
       "    </tr>\n",
       "  </thead>\n",
       "  <tbody>\n",
       "    <tr>\n",
       "      <th>Honolulu</th>\n",
       "      <td>-1.893426</td>\n",
       "      <td>0.192068</td>\n",
       "      <td>-0.160940</td>\n",
       "      <td>0.704606</td>\n",
       "      <td>-0.319090</td>\n",
       "      <td>1.501799</td>\n",
       "      <td>-1.536880</td>\n",
       "    </tr>\n",
       "    <tr>\n",
       "      <th>Seattle</th>\n",
       "      <td>-2.052880</td>\n",
       "      <td>1.244113</td>\n",
       "      <td>-0.620860</td>\n",
       "      <td>0.814225</td>\n",
       "      <td>-0.909155</td>\n",
       "      <td>-0.990130</td>\n",
       "      <td>-0.133273</td>\n",
       "    </tr>\n",
       "    <tr>\n",
       "      <th>Canberra</th>\n",
       "      <td>-1.292818</td>\n",
       "      <td>0.028073</td>\n",
       "      <td>1.132169</td>\n",
       "      <td>1.224105</td>\n",
       "      <td>-0.515778</td>\n",
       "      <td>-0.668164</td>\n",
       "      <td>-0.016187</td>\n",
       "    </tr>\n",
       "    <tr>\n",
       "      <th>Adelaide</th>\n",
       "      <td>-1.053637</td>\n",
       "      <td>-0.027624</td>\n",
       "      <td>0.778897</td>\n",
       "      <td>1.176445</td>\n",
       "      <td>-0.712467</td>\n",
       "      <td>0.049276</td>\n",
       "      <td>-0.441500</td>\n",
       "    </tr>\n",
       "    <tr>\n",
       "      <th>Boston</th>\n",
       "      <td>-1.978468</td>\n",
       "      <td>1.188417</td>\n",
       "      <td>0.305646</td>\n",
       "      <td>0.928611</td>\n",
       "      <td>-0.865446</td>\n",
       "      <td>-0.858350</td>\n",
       "      <td>1.225217</td>\n",
       "    </tr>\n",
       "  </tbody>\n",
       "</table>\n",
       "</div>"
      ],
      "text/plain": [
       "            scaled_cost_live_rent_index  scaled_purchase_pow_index  \\\n",
       "city_ascii                                                           \n",
       "Honolulu                      -1.893426                   0.192068   \n",
       "Seattle                       -2.052880                   1.244113   \n",
       "Canberra                      -1.292818                   0.028073   \n",
       "Adelaide                      -1.053637                  -0.027624   \n",
       "Boston                        -1.978468                   1.188417   \n",
       "\n",
       "            scaled_safety_index  scaled_pollution_index  \\\n",
       "city_ascii                                                \n",
       "Honolulu              -0.160940                0.704606   \n",
       "Seattle               -0.620860                0.814225   \n",
       "Canberra               1.132169                1.224105   \n",
       "Adelaide               0.778897                1.176445   \n",
       "Boston                 0.305646                0.928611   \n",
       "\n",
       "            scaled_trffic_min_index  scaled_mean_tmp  scaled_tmp_std_dev  \n",
       "city_ascii                                                                \n",
       "Honolulu                  -0.319090         1.501799           -1.536880  \n",
       "Seattle                   -0.909155        -0.990130           -0.133273  \n",
       "Canberra                  -0.515778        -0.668164           -0.016187  \n",
       "Adelaide                  -0.712467         0.049276           -0.441500  \n",
       "Boston                    -0.865446        -0.858350            1.225217  "
      ]
     },
     "execution_count": 16,
     "metadata": {},
     "output_type": "execute_result"
    }
   ],
   "source": [
    "# prep data\n",
    "train_df = final_df.drop(['mean_tmp','std_dev_temp','lat','lng','country'],axis=1)\n",
    "train_df = train_df.set_index('city_ascii')\n",
    "train_df.head()"
   ]
  },
  {
   "cell_type": "code",
   "execution_count": 17,
   "id": "f846693a-a9d2-4ce1-a558-2b8ea6ee5daf",
   "metadata": {},
   "outputs": [
    {
     "data": {
      "text/plain": [
       "Index(['scaled_cost_live_rent_index', 'scaled_purchase_pow_index',\n",
       "       'scaled_safety_index', 'scaled_pollution_index',\n",
       "       'scaled_trffic_min_index', 'scaled_mean_tmp', 'scaled_tmp_std_dev'],\n",
       "      dtype='object')"
      ]
     },
     "execution_count": 17,
     "metadata": {},
     "output_type": "execute_result"
    }
   ],
   "source": [
    "train_df.columns"
   ]
  },
  {
   "cell_type": "code",
   "execution_count": 18,
   "id": "6a3450f0-8524-41c1-81f8-10524110d68b",
   "metadata": {},
   "outputs": [
    {
     "data": {
      "text/plain": [
       "\"\\n# Function to calculate Euclidean distance in 7D space\\n# Method drop bc of Curse of Dimensionality\\n# Calculate distances in 7D space\\n\\n# Convert new_point to a 1-D array\\nnew_point = new_point.flatten()\\n\\n# Initialize an empty list to store the distances\\ndistances = []\\n\\n# Calculate Euclidean distance for each point in the dataframe\\nfor index, row in train_df.iterrows():\\n    distance = np.sqrt(np.sum((row - new_point) ** 2))\\n    distances.append(distance)\\n\\n# Create a new dataframe with distances\\ndf_distances = pd.DataFrame(distances, columns=['Distance'], index=train_df.index)\\n\\n# Sort the dataframe by distance\\ndf_distances = df_distances.sort_values(by='Distance')\\n\\n# Print the sorted dataframe\\nprint(df_distances)\\n\""
      ]
     },
     "execution_count": 18,
     "metadata": {},
     "output_type": "execute_result"
    }
   ],
   "source": [
    "\"\"\"\n",
    "# Function to calculate Euclidean distance in 7D space\n",
    "# Method drop bc of Curse of Dimensionality\n",
    "# Calculate distances in 7D space\n",
    "\n",
    "# Convert new_point to a 1-D array\n",
    "new_point = new_point.flatten()\n",
    "\n",
    "# Initialize an empty list to store the distances\n",
    "distances = []\n",
    "\n",
    "# Calculate Euclidean distance for each point in the dataframe\n",
    "for index, row in train_df.iterrows():\n",
    "    distance = np.sqrt(np.sum((row - new_point) ** 2))\n",
    "    distances.append(distance)\n",
    "\n",
    "# Create a new dataframe with distances\n",
    "df_distances = pd.DataFrame(distances, columns=['Distance'], index=train_df.index)\n",
    "\n",
    "# Sort the dataframe by distance\n",
    "df_distances = df_distances.sort_values(by='Distance')\n",
    "\n",
    "# Print the sorted dataframe\n",
    "print(df_distances)\n",
    "\"\"\""
   ]
  },
  {
   "cell_type": "markdown",
   "id": "9413be19-ec66-4ec9-8534-c0a25c83df31",
   "metadata": {},
   "source": [
    "### Trying to reduce dimensions with PCA first and then calculate closest euclidean distance.\n",
    "### Doing this to avoid the \"curse of dimensionality\" which suggests, as dimensions increase the volume increases so fast that the points become sparse and the distances become very similar, hence obstructing the evaluation of actual similarities."
   ]
  },
  {
   "cell_type": "code",
   "execution_count": 19,
   "id": "3c79335c-451e-4442-ad9a-e4ccdb6c2457",
   "metadata": {},
   "outputs": [
    {
     "name": "stderr",
     "output_type": "stream",
     "text": [
      "No artists with labels found to put in legend.  Note that artists whose label start with an underscore are ignored when legend() is called with no argument.\n",
      "/var/folders/g7/v0pkv9vx64n8xw87qzl85ms00000gn/T/ipykernel_54590/3351324750.py:23: UserWarning: The figure layout has changed to tight\n",
      "  plt.tight_layout()\n"
     ]
    },
    {
     "data": {
      "image/png": "[encoded data removed]",
      "text/plain": [
       "<Figure size 800x600 with 1 Axes>"
      ]
     },
     "metadata": {},
     "output_type": "display_data"
    }
   ],
   "source": [
    "data = train_df.values\n",
    "\n",
    "\n",
    "pca = PCA(n_components=7)\n",
    "X_pca = pca.fit_transform(data)\n",
    "\n",
    "# Calculate the explained variance for each principal component\n",
    "explained_variance = pca.explained_variance_ratio_\n",
    "\n",
    "\n",
    "plt.rcParams.update(bundles.icml2022(column=\"half\", nrows=8, ncols=6, usetex=False))\n",
    "fig, ax = plt.subplots(figsize=(8,6))\n",
    "bars = ax.bar(range(1,8), explained_variance, alpha=0.5, align='center', color='blue')\n",
    "\n",
    "# Add labels on top of the bars\n",
    "for bar in bars:\n",
    "    yval = bar.get_height()\n",
    "    ax.text(bar.get_x() + bar.get_width()/2, yval + 0.01, round(yval, 2), ha='center', va='bottom')\n",
    "    \n",
    "plt.ylabel('Explained variance ratio')\n",
    "plt.xlabel('Principal components')\n",
    "plt.legend(loc='best')\n",
    "plt.tight_layout()\n",
    "plt.savefig('pca_explained_variance.pdf')\n",
    "plt.show()\n"
   ]
  },
  {
   "cell_type": "code",
   "execution_count": 36,
   "id": "5e251345-eca5-4d84-a9ef-0c171352847d",
   "metadata": {},
   "outputs": [
    {
     "data": {
      "image/png": "[encoded data removed]",
      "text/plain": [
       "<Figure size 800x600 with 1 Axes>"
      ]
     },
     "metadata": {},
     "output_type": "display_data"
    },
    {
     "data": {
      "image/png": "[encoded data removed]",
      "text/plain": [
       "<Figure size 800x600 with 1 Axes>"
      ]
     },
     "metadata": {},
     "output_type": "display_data"
    }
   ],
   "source": [
    "data = train_df.values\n",
    "\n",
    "\n",
    "pca = PCA(n_components=7)\n",
    "X_pca = pca.fit_transform(data)\n",
    "\n",
    "# Calculate the explained variance for each principal component\n",
    "explained_variance = pca.explained_variance_ratio_\n",
    "\n",
    "# Calculate the contribution of each feature to each principal component\n",
    "feature_contribution = np.abs(pca.components_)\n",
    "\n",
    "# Normalize the feature contributions so they sum to 1\n",
    "normalized_feature_contribution = feature_contribution / np.sum(feature_contribution, axis=1)[:, np.newaxis]\n",
    "\n",
    "# Multiply the normalized feature contributions by the explained variance\n",
    "weighted_feature_contribution = normalized_feature_contribution * explained_variance[:, np.newaxis]\n",
    "\n",
    "\n",
    "colors = [rgb.tue_blue, rgb.tue_red, rgb.tue_orange, rgb.tue_brown, rgb.tue_green, rgb.tue_dark, rgb.tue_violet]\n",
    "\n",
    "\n",
    "plt.rcParams.update(bundles.icml2022(column=\"half\", nrows=8, ncols=6, usetex=False))\n",
    "fig, ax = plt.subplots(figsize=(8,6))\n",
    "\n",
    "\n",
    "for i in range(weighted_feature_contribution.shape[1]):\n",
    "    ax.bar(range(1,8), weighted_feature_contribution[:,i], bottom=np.sum(weighted_feature_contribution[:,:i], axis=1), alpha=0.5, align='center', color=colors[i])\n",
    "\n",
    "# Add labels on top of the bars\n",
    "for i, v in enumerate(explained_variance):\n",
    "    ax.text(i+1, v+0.005, f\"{v*100:.1f}%\", ha='center', va='bottom', fontsize=12)\n",
    "\n",
    "# Define the feature name dictionary\n",
    "feature_name_dict = {'scaled_cost_live_rent_index':'Cost of Living', 'scaled_purchase_pow_index':'Purchasing Power',\n",
    "       'scaled_safety_index':'Safety', 'scaled_pollution_index':'Pollution',\n",
    "       'scaled_trffic_min_index':'Traffic', 'scaled_mean_tmp':'Mean Temperature', 'scaled_tmp_std_dev':'Mean temperature Std Dev'}\n",
    "\n",
    "# Update the legend using the feature name dictionary\n",
    "legend = plt.legend([feature_name_dict.get(col, col) for col in train_df.columns], loc='best')\n",
    "\n",
    "data = train_df.values\n",
    "\n",
    "\n",
    "pca = PCA(n_components=7)\n",
    "X_pca = pca.fit_transform(data)\n",
    "\n",
    "# Calculate the explained variance for each principal component\n",
    "explained_variance = pca.explained_variance_ratio_\n",
    "\n",
    "# Calculate the contribution of each feature to each principal component\n",
    "feature_contribution = np.abs(pca.components_)\n",
    "\n",
    "# Normalize the feature contributions so they sum to 1\n",
    "normalized_feature_contribution = feature_contribution / np.sum(feature_contribution, axis=1)[:, np.newaxis]\n",
    "\n",
    "# Multiply the normalized feature contributions by the explained variance\n",
    "weighted_feature_contribution = normalized_feature_contribution * explained_variance[:, np.newaxis]\n",
    "\n",
    "\n",
    "colors = [rgb.tue_blue, rgb.tue_red, rgb.tue_orange, rgb.tue_brown, rgb.tue_green, rgb.tue_dark, rgb.tue_violet]\n",
    "\n",
    "\n",
    "plt.rcParams.update(bundles.icml2022(column=\"half\", nrows=8, ncols=6, usetex=False))\n",
    "fig, ax = plt.subplots(figsize=(8,6))\n",
    "\n",
    "\n",
    "for i in range(weighted_feature_contribution.shape[1]):\n",
    "    ax.bar(range(1,8), weighted_feature_contribution[:,i], bottom=np.sum(weighted_feature_contribution[:,:i], axis=1), alpha=0.5, align='center', color=colors[i])\n",
    "\n",
    "# Add labels on top of the bars\n",
    "for i, v in enumerate(explained_variance):\n",
    "    ax.text(i+1, v+0.005, f\"{v*100:.1f}%\", ha='center', va='bottom', fontsize=16)\n",
    "\n",
    "# Define the feature name dictionary\n",
    "feature_name_dict = {'scaled_cost_live_rent_index':'Cost of Living', 'scaled_purchase_pow_index':'Purchasing Power',\n",
    "       'scaled_safety_index':'Safety', 'scaled_pollution_index':'Pollution',\n",
    "       'scaled_trffic_min_index':'Traffic', 'scaled_mean_tmp':'Mean Temperature', 'scaled_tmp_std_dev':'Mean temperature Std Dev'}\n",
    "\n",
    "# Update the legend using the feature name dictionary\n",
    "legend = plt.legend([feature_name_dict.get(col, col) for col in train_df.columns], loc='best')\n",
    "\n",
    "ax.tick_params(axis='x', labelsize=16)\n",
    "ax.tick_params(axis='y', labelsize=16) \n",
    "\n",
    "plt.setp(legend.get_texts(), fontsize=12)\n",
    "plt.ylabel('Explained variance ratio', fontsize=16)\n",
    "plt.xlabel('Principal components', fontsize=16)\n",
    "plt.savefig('pca_feature_contribution.pdf')\n",
    "plt.show()\n"
   ]
  },
  {
   "cell_type": "code",
   "execution_count": 21,
   "id": "362efa52-1ced-45a9-991d-230462c5cde2",
   "metadata": {},
   "outputs": [
    {
     "name": "stderr",
     "output_type": "stream",
     "text": [
      "/Users/kayoonkim/anaconda3/lib/python3.11/site-packages/sklearn/base.py:439: UserWarning: X does not have valid feature names, but PCA was fitted with feature names\n",
      "  warnings.warn(\n"
     ]
    },
    {
     "data": {
      "text/html": [
       "<div>\n",
       "<style scoped>\n",
       "    .dataframe tbody tr th:only-of-type {\n",
       "        vertical-align: middle;\n",
       "    }\n",
       "\n",
       "    .dataframe tbody tr th {\n",
       "        vertical-align: top;\n",
       "    }\n",
       "\n",
       "    .dataframe thead th {\n",
       "        text-align: right;\n",
       "    }\n",
       "</style>\n",
       "<table border=\"1\" class=\"dataframe\">\n",
       "  <thead>\n",
       "    <tr style=\"text-align: right;\">\n",
       "      <th></th>\n",
       "      <th>Distance</th>\n",
       "    </tr>\n",
       "    <tr>\n",
       "      <th>city_ascii</th>\n",
       "      <th></th>\n",
       "    </tr>\n",
       "  </thead>\n",
       "  <tbody>\n",
       "    <tr>\n",
       "      <th>Tokyo</th>\n",
       "      <td>0.362672</td>\n",
       "    </tr>\n",
       "    <tr>\n",
       "      <th>Prague</th>\n",
       "      <td>0.795473</td>\n",
       "    </tr>\n",
       "    <tr>\n",
       "      <th>Montreal</th>\n",
       "      <td>0.867076</td>\n",
       "    </tr>\n",
       "    <tr>\n",
       "      <th>Porto</th>\n",
       "      <td>0.869924</td>\n",
       "    </tr>\n",
       "    <tr>\n",
       "      <th>Riyadh</th>\n",
       "      <td>0.880478</td>\n",
       "    </tr>\n",
       "    <tr>\n",
       "      <th>Valencia</th>\n",
       "      <td>0.935892</td>\n",
       "    </tr>\n",
       "    <tr>\n",
       "      <th>Edinburgh</th>\n",
       "      <td>0.942811</td>\n",
       "    </tr>\n",
       "    <tr>\n",
       "      <th>Lisbon</th>\n",
       "      <td>0.973539</td>\n",
       "    </tr>\n",
       "    <tr>\n",
       "      <th>Halifax</th>\n",
       "      <td>0.988977</td>\n",
       "    </tr>\n",
       "    <tr>\n",
       "      <th>Warsaw</th>\n",
       "      <td>1.023940</td>\n",
       "    </tr>\n",
       "  </tbody>\n",
       "</table>\n",
       "</div>"
      ],
      "text/plain": [
       "            Distance\n",
       "city_ascii          \n",
       "Tokyo       0.362672\n",
       "Prague      0.795473\n",
       "Montreal    0.867076\n",
       "Porto       0.869924\n",
       "Riyadh      0.880478\n",
       "Valencia    0.935892\n",
       "Edinburgh   0.942811\n",
       "Lisbon      0.973539\n",
       "Halifax     0.988977\n",
       "Warsaw      1.023940"
      ]
     },
     "execution_count": 21,
     "metadata": {},
     "output_type": "execute_result"
    }
   ],
   "source": [
    "# Convert new_point to a 1-D array\n",
    "new_point_loc = new_point.flatten()\n",
    "\n",
    "\n",
    "pca = PCA(n_components=3)\n",
    "train_df_pca = pca.fit_transform(train_df)\n",
    "\n",
    "# Transform the new_point using the same PCA object\n",
    "new_point_pca = pca.transform(new_point_loc.reshape(1, -1))\n",
    "\n",
    "distances = []\n",
    "\n",
    "# Calculate Euclidean distance for each point in the dataframe\n",
    "for point in train_df_pca:\n",
    "    distance = np.sqrt(np.sum((point - new_point_pca) ** 2))\n",
    "    distances.append(distance)\n",
    "\n",
    "\n",
    "df_distances = pd.DataFrame(distances, columns=['Distance'], index=train_df.index)\n",
    "df_distances = df_distances.sort_values(by='Distance')\n",
    "df_distances.head(10)\n"
   ]
  },
  {
   "cell_type": "code",
   "execution_count": 22,
   "id": "43090cf3-e416-43c0-a1b9-083c9fa7ba40",
   "metadata": {},
   "outputs": [],
   "source": [
    "# Storing PCA weights for use in new sample points\n",
    "train_df_pca = pd.DataFrame(train_df_pca)\n",
    "train_df_pca['city_ascii'] = train_df.index\n",
    "\n",
    "\n",
    "train_df_pca.to_csv('train_df_pca.csv', index=False)"
   ]
  },
  {
   "cell_type": "code",
   "execution_count": 23,
   "id": "5cfa30a0-cebe-4531-925f-aa456a2cb3a2",
   "metadata": {},
   "outputs": [
    {
     "data": {
      "text/plain": [
       "['pca_model.joblib']"
      ]
     },
     "execution_count": 23,
     "metadata": {},
     "output_type": "execute_result"
    }
   ],
   "source": [
    "from joblib import dump, load\n",
    "\n",
    "# Save the trained PCA model\n",
    "dump(pca, 'pca_model.joblib')"
   ]
  },
  {
   "cell_type": "code",
   "execution_count": 24,
   "id": "e5b6dd07-8cf0-475f-aece-9e6bc7e5fa25",
   "metadata": {},
   "outputs": [
    {
     "data": {
      "text/html": [
       "<div>\n",
       "<style scoped>\n",
       "    .dataframe tbody tr th:only-of-type {\n",
       "        vertical-align: middle;\n",
       "    }\n",
       "\n",
       "    .dataframe tbody tr th {\n",
       "        vertical-align: top;\n",
       "    }\n",
       "\n",
       "    .dataframe thead th {\n",
       "        text-align: right;\n",
       "    }\n",
       "</style>\n",
       "<table border=\"1\" class=\"dataframe\">\n",
       "  <thead>\n",
       "    <tr style=\"text-align: right;\">\n",
       "      <th></th>\n",
       "      <th>Distance</th>\n",
       "    </tr>\n",
       "  </thead>\n",
       "  <tbody>\n",
       "    <tr>\n",
       "      <th>Tokyo</th>\n",
       "      <td>0.362672</td>\n",
       "    </tr>\n",
       "    <tr>\n",
       "      <th>Prague</th>\n",
       "      <td>0.795473</td>\n",
       "    </tr>\n",
       "    <tr>\n",
       "      <th>Montreal</th>\n",
       "      <td>0.867076</td>\n",
       "    </tr>\n",
       "    <tr>\n",
       "      <th>Porto</th>\n",
       "      <td>0.869924</td>\n",
       "    </tr>\n",
       "    <tr>\n",
       "      <th>Riyadh</th>\n",
       "      <td>0.880478</td>\n",
       "    </tr>\n",
       "    <tr>\n",
       "      <th>Valencia</th>\n",
       "      <td>0.935892</td>\n",
       "    </tr>\n",
       "    <tr>\n",
       "      <th>Edinburgh</th>\n",
       "      <td>0.942811</td>\n",
       "    </tr>\n",
       "    <tr>\n",
       "      <th>Lisbon</th>\n",
       "      <td>0.973539</td>\n",
       "    </tr>\n",
       "    <tr>\n",
       "      <th>Halifax</th>\n",
       "      <td>0.988977</td>\n",
       "    </tr>\n",
       "    <tr>\n",
       "      <th>Warsaw</th>\n",
       "      <td>1.023940</td>\n",
       "    </tr>\n",
       "  </tbody>\n",
       "</table>\n",
       "</div>"
      ],
      "text/plain": [
       "           Distance\n",
       "Tokyo      0.362672\n",
       "Prague     0.795473\n",
       "Montreal   0.867076\n",
       "Porto      0.869924\n",
       "Riyadh     0.880478\n",
       "Valencia   0.935892\n",
       "Edinburgh  0.942811\n",
       "Lisbon     0.973539\n",
       "Halifax    0.988977\n",
       "Warsaw     1.023940"
      ]
     },
     "execution_count": 24,
     "metadata": {},
     "output_type": "execute_result"
    }
   ],
   "source": [
    "# Trying out the stored PCA weights \n",
    "\n",
    "train_df_pca = pd.read_csv('train_df_pca.csv')\n",
    "\n",
    "city_ascii = train_df_pca['city_ascii'].to_list()\n",
    "\n",
    "train_numpy_pca = train_df_pca.drop(['city_ascii'], axis=1).values\n",
    "\n",
    "# Load the trained PCA model\n",
    "pca_loaded = load('pca_model.joblib') \n",
    "\n",
    "# Convert new_point to a 1-D array\n",
    "new_point_loc = new_point.flatten()\n",
    "\n",
    "feature_names = ['scaled_cost_live_rent_index', 'scaled_purchase_pow_index',\n",
    "                 'scaled_safety_index', 'scaled_pollution_index','scaled_trffic_min_index',\n",
    "                 'scaled_mean_tmp', 'scaled_tmp_std_dev']\n",
    "\n",
    "# Convert new point to dataframe with same column names as the dataframe on\n",
    "# which PCA was trained, these are obtained from the Jupyter notebook under\n",
    "# modelling section.\n",
    "new_point_df = pd.DataFrame(new_point_loc.reshape(1, -1), columns=feature_names)\n",
    "\n",
    "# Transform the new_point using the same PCA object\n",
    "new_point_pca = pca_loaded.transform(new_point_df)\n",
    "\n",
    "distances = []\n",
    "\n",
    "# Calculate Euclidean distance for each point in the dataframe\n",
    "for point in train_numpy_pca:\n",
    "    distance = np.sqrt(np.sum((point - new_point_pca) ** 2))\n",
    "    distances.append(distance)\n",
    "\n",
    "\n",
    "df_distances = pd.DataFrame(distances, columns=['Distance'], index=city_ascii)\n",
    "df_distances = df_distances.sort_values(by='Distance')\n",
    "df_distances.head(10)"
   ]
  },
  {
   "cell_type": "code",
   "execution_count": 25,
   "id": "cae6e7e1-3048-4e30-bcda-8661b64c62a3",
   "metadata": {},
   "outputs": [
    {
     "name": "stdout",
     "output_type": "stream",
     "text": [
      "[[-0.87468514 -0.31073387  0.61529508]]\n"
     ]
    }
   ],
   "source": [
    "print(new_point_pca)"
   ]
  },
  {
   "cell_type": "code",
   "execution_count": 26,
   "id": "e58d50a4-a911-4b30-ba3f-a9665a40f775",
   "metadata": {},
   "outputs": [
    {
     "data": {
      "text/html": [
       "<div>\n",
       "<style scoped>\n",
       "    .dataframe tbody tr th:only-of-type {\n",
       "        vertical-align: middle;\n",
       "    }\n",
       "\n",
       "    .dataframe tbody tr th {\n",
       "        vertical-align: top;\n",
       "    }\n",
       "\n",
       "    .dataframe thead th {\n",
       "        text-align: right;\n",
       "    }\n",
       "</style>\n",
       "<table border=\"1\" class=\"dataframe\">\n",
       "  <thead>\n",
       "    <tr style=\"text-align: right;\">\n",
       "      <th></th>\n",
       "      <th>0</th>\n",
       "      <th>1</th>\n",
       "      <th>2</th>\n",
       "      <th>city_ascii</th>\n",
       "    </tr>\n",
       "  </thead>\n",
       "  <tbody>\n",
       "    <tr>\n",
       "      <th>0</th>\n",
       "      <td>0.055315</td>\n",
       "      <td>2.557494</td>\n",
       "      <td>1.148883</td>\n",
       "      <td>Honolulu</td>\n",
       "    </tr>\n",
       "    <tr>\n",
       "      <th>1</th>\n",
       "      <td>-1.542263</td>\n",
       "      <td>1.974554</td>\n",
       "      <td>-1.225294</td>\n",
       "      <td>Seattle</td>\n",
       "    </tr>\n",
       "    <tr>\n",
       "      <th>2</th>\n",
       "      <td>-1.479851</td>\n",
       "      <td>0.582059</td>\n",
       "      <td>0.496239</td>\n",
       "      <td>Canberra</td>\n",
       "    </tr>\n",
       "    <tr>\n",
       "      <th>3</th>\n",
       "      <td>-0.767255</td>\n",
       "      <td>1.023691</td>\n",
       "      <td>0.716547</td>\n",
       "      <td>Adelaide</td>\n",
       "    </tr>\n",
       "    <tr>\n",
       "      <th>4</th>\n",
       "      <td>-2.210152</td>\n",
       "      <td>1.050126</td>\n",
       "      <td>-1.002660</td>\n",
       "      <td>Boston</td>\n",
       "    </tr>\n",
       "  </tbody>\n",
       "</table>\n",
       "</div>"
      ],
      "text/plain": [
       "          0         1         2 city_ascii\n",
       "0  0.055315  2.557494  1.148883   Honolulu\n",
       "1 -1.542263  1.974554 -1.225294    Seattle\n",
       "2 -1.479851  0.582059  0.496239   Canberra\n",
       "3 -0.767255  1.023691  0.716547   Adelaide\n",
       "4 -2.210152  1.050126 -1.002660     Boston"
      ]
     },
     "execution_count": 26,
     "metadata": {},
     "output_type": "execute_result"
    }
   ],
   "source": [
    "train_df_pca.head()"
   ]
  },
  {
   "cell_type": "code",
   "execution_count": 27,
   "id": "09219129-9b37-419f-a96b-bc259f090412",
   "metadata": {},
   "outputs": [
    {
     "data": {
      "application/vnd.plotly.v1+json": {
       "config": {
        "plotlyServerURL": "https://plot.ly"
       },
       "data": [
        {
         "hoverinfo": "text",
         "marker": {
          "color": "blue",
          "opacity": 0.1,
          "size": 6
         },
         "mode": "markers",
         "name": "Dataset Cities",
         "text": [
          "Honolulu",
          "Seattle",
          "Canberra",
          "Adelaide",
          "Boston",
          "Sacramento",
          "San Diego",
          "Singapore",
          "Oslo",
          "Los Angeles",
          "Copenhagen",
          "London",
          "Chicago",
          "Brisbane",
          "Miami",
          "Sydney",
          "Perth",
          "Denver",
          "Minneapolis",
          "Tampa",
          "Tucson",
          "Melbourne",
          "Atlanta",
          "Dallas",
          "Paris",
          "Dublin",
          "Austin",
          "Seoul",
          "Auckland",
          "Wellington",
          "Phoenix",
          "Vancouver",
          "Ottawa",
          "Las Vegas",
          "Calgary",
          "Toronto",
          "Milan",
          "Hamburg",
          "Hong Kong",
          "Columbus",
          "Frankfurt",
          "Edmonton",
          "Berlin",
          "Brussels",
          "Halifax",
          "Houston",
          "Stockholm",
          "Saint Petersburg",
          "Amsterdam",
          "Winnipeg",
          "San Antonio",
          "Montreal",
          "Dubai",
          "Rome",
          "Vienna",
          "Edinburgh",
          "Prague",
          "Montevideo",
          "Athens",
          "Tallinn",
          "Barcelona",
          "Tokyo",
          "Taipei",
          "Riga",
          "Thessaloniki",
          "Ljubljana",
          "Beirut",
          "Zagreb",
          "Santiago",
          "Riyadh",
          "Madrid",
          "Lisbon",
          "Vilnius",
          "Budapest",
          "Muscat",
          "Panama City",
          "Valencia",
          "Monterrey",
          "Warsaw",
          "Mexico City",
          "Porto",
          "Sofia",
          "Bucharest",
          "Bangkok",
          "Guadalajara",
          "Belgrade",
          "Yerevan",
          "Shanghai",
          "Rio de Janeiro",
          "Tbilisi",
          "Beijing",
          "Manila",
          "Sarajevo",
          "Porto Alegre",
          "Johannesburg",
          "Curitiba",
          "Minsk",
          "Belo Horizonte",
          "Skopje",
          "Lima",
          "Ho Chi Minh City",
          "Moscow",
          "Kuala Lumpur",
          "Colombo",
          "Jakarta",
          "Pretoria",
          "Almaty",
          "Hanoi",
          "Cape Town",
          "Durban",
          "Istanbul",
          "Baku",
          "Nairobi",
          "Tehran",
          "Buenos Aires",
          "Lviv",
          "Dhaka",
          "Ankara",
          "Mumbai",
          "Lagos",
          "Cairo",
          "Kolkata",
          "Lahore",
          "Karachi"
         ],
         "type": "scatter3d",
         "x": [
          0.0553148811273844,
          -1.542262904855066,
          -1.4798507682347206,
          -0.7672552418810555,
          -2.210151838489838,
          -1.4649837618979575,
          -1.1637460863245603,
          -0.5583886871670092,
          -2.4881759146869644,
          0.2548360302004533,
          -2.6885579023297037,
          -0.6086866228579713,
          -1.3999651600659515,
          -0.3946207918027714,
          0.0100625581413727,
          -0.861014810915543,
          -0.5275756734026849,
          -2.109103540924372,
          -1.97486059207998,
          -1.0324291091845494,
          -1.4606449060812494,
          -0.7116709543383082,
          -1.0819920474770532,
          -1.4081690600812269,
          -0.1649912999483291,
          -0.8041221630454961,
          -1.4693663685708942,
          -1.2105146413153975,
          -0.5897407580330426,
          -0.892986916370221,
          -0.9525939652410628,
          -1.604763859306351,
          -1.8885898603328872,
          -1.0997520172003947,
          -1.7648142634900834,
          -1.1978694264383196,
          -0.2095308638288075,
          -1.9073236373191584,
          0.0809026022029184,
          -2.0498177072394586,
          -2.229843481689935,
          -1.5179397614422545,
          -1.7075771130724755,
          -0.6093817291564921,
          -1.5687184464252577,
          -0.6051189562886269,
          -1.97204137384458,
          -1.0882665921944912,
          -2.7141334470525287,
          -0.8734105397233529,
          -1.1761103408871485,
          -1.4975175509022731,
          -1.0232596391984343,
          0.1768605745041451,
          -2.92430848129473,
          -1.8009186134510815,
          -1.467678038322915,
          0.6475189095439449,
          0.724009342136527,
          -1.9825995524687805,
          0.2097656749602934,
          -1.033829803542375,
          -0.2844293718921584,
          -0.8865453692329189,
          0.3201262800701247,
          -2.0352324246648172,
          2.185618436096478,
          -1.5015353918974526,
          1.3747591397211552,
          -0.3161615264666055,
          -1.814210124238682,
          -0.4537113476586307,
          -1.568229033970921,
          -0.4323060695725412,
          -0.7397283405730929,
          2.0358124716146415,
          -1.4120202337265375,
          1.0404929286968094,
          -0.5568795272496277,
          2.7969929265724622,
          -0.9378729289290014,
          -0.2009535230644232,
          0.1000854191402065,
          2.824927375888341,
          1.9609669187855572,
          0.2054573909827455,
          -0.4150697497369741,
          0.4012831882185445,
          3.342895857509299,
          0.2507511219551936,
          -0.0267560164952004,
          4.069668741615204,
          -0.0147005675947456,
          1.670513836913729,
          1.298898791819714,
          0.8740840351851744,
          -0.1994718434730577,
          2.3655689679921803,
          0.4358749913780376,
          3.210637850922453,
          2.9717940261130034,
          0.6223388664845027,
          2.5009863451784557,
          3.4606567399378885,
          3.6682112510378055,
          1.546441817590185,
          1.1250408935335718,
          1.6519063532951923,
          0.9711464019036418,
          1.2543330075532306,
          1.4785108111989378,
          0.637954047735853,
          3.084116229405637,
          1.8613142415781965,
          1.926631669235363,
          0.001111572061477,
          4.128279035081896,
          0.3580104571491597,
          3.166392979790578,
          4.846292994425202,
          3.0070195087750116,
          3.1241602248550104,
          1.757893086591022,
          3.2541211697476444
         ],
         "y": [
          2.5574938598527135,
          1.9745539024138592,
          0.5820587333748009,
          1.0236912445958717,
          1.0501261249159346,
          0.824766853327399,
          2.008645649048858,
          2.8892572508624133,
          0.0291382788570798,
          2.731949232835874,
          -0.2538239400971663,
          1.180181362086385,
          1.5424695794548466,
          1.574159676200562,
          2.397744300432505,
          1.7101812726782195,
          1.4406771825948146,
          0.6558450453380364,
          0.528012413333631,
          1.8274191619907152,
          0.7813582456783562,
          1.39870408279853,
          1.3355891144724914,
          0.8425933202302489,
          0.430889746836152,
          0.9573989584341902,
          1.074723816142512,
          -0.8397155391597872,
          1.3009715451904502,
          0.9667045033439092,
          0.9662644631781152,
          0.4939452527840723,
          -0.0106069241955178,
          -0.1117083705350672,
          0.3795200117745763,
          0.3707812612460975,
          -0.6483958534569382,
          0.0356469463958514,
          0.6562750274118898,
          -0.0569158467957381,
          -0.1936385112803308,
          0.1885179977635399,
          -0.2218197625456343,
          0.1727061567240285,
          0.1054426536658545,
          1.7644088349264009,
          0.1139166361196221,
          0.7328607299476328,
          -0.0819725911255858,
          -0.0598009905098027,
          0.8659558723145884,
          -0.1038207410950616,
          0.8955575584375116,
          -0.2515689359903498,
          -0.8674390433638933,
          -0.141381448553099,
          -0.8095390337131422,
          0.0285105275435969,
          -0.5792579810941317,
          -1.2009138937217656,
          -0.2157922499315545,
          -0.4205844273488888,
          -0.3455364350002773,
          -1.260623042945037,
          -1.4372370108931527,
          -1.6922128096005191,
          -1.0029208063527104,
          -1.7508460034870938,
          -0.5757799827501702,
          -0.6435065668591251,
          -0.7945289335814483,
          -0.4820239708796305,
          -1.2174641914989048,
          -1.4596942914751314,
          -0.3988934366559662,
          0.7188395648476086,
          -0.3939008805027006,
          -0.5458731703917679,
          -1.2599479322540863,
          0.8078377414974776,
          -0.6695784931959968,
          -1.7792318303918455,
          -1.9434752658576953,
          0.6395137320416068,
          0.4691082270944849,
          -1.888364320329091,
          -2.4252641870477896,
          -1.1679799351664493,
          1.014238787327898,
          -2.2338363978068356,
          -1.4712899477610328,
          1.1302848901306508,
          -1.979545217349873,
          -0.4367759021086392,
          0.7098881321185813,
          -0.1614300459985589,
          -1.6532831543297497,
          0.4221456833689412,
          -2.5988541048487797,
          0.3120391201547374,
          -0.0507820925752868,
          -0.5525270775131951,
          1.384494170691576,
          0.9320570045678253,
          0.8588365314879374,
          0.9409852976674598,
          -1.6272106476759651,
          -1.4029015607748498,
          0.8117100877130158,
          0.36848072787386,
          -1.033855023305264,
          -2.362280063496815,
          0.3286692560459024,
          -1.7694657252546089,
          -0.2238228308114636,
          -1.8719771195011208,
          0.3607315543382646,
          -2.3523325138020033,
          0.8016121474006652,
          1.2003815705162602,
          -1.02211964828909,
          0.3170320930936881,
          -2.0390710062482693,
          -0.8695610464517273
         ],
         "z": [
          1.148882671082754,
          -1.225293682311124,
          0.4962394386661098,
          0.7165474434490487,
          -1.002660424658237,
          -0.2629088691196198,
          0.5423394700353233,
          2.5753522884786126,
          0.3269930593118102,
          -0.8732999706837153,
          0.4827697290636207,
          -1.2381211842103796,
          -1.9835442972403257,
          0.9685386566909476,
          0.4912701131438932,
          0.6223074777626973,
          0.2899679192599567,
          -1.0754731449135009,
          -1.3479039111564242,
          0.536231270987495,
          -0.1738419974299485,
          0.0364554299408767,
          -1.511793857244354,
          -0.6942582102197834,
          -1.288562456300885,
          -0.7496209609577167,
          0.1470346056275675,
          -0.2085157318245973,
          0.0377921313497111,
          0.6507573530829531,
          -0.4504290836993117,
          -0.2392473340899539,
          0.2445668520523743,
          -0.6293487419959061,
          0.1407549887860019,
          -0.7150220717612117,
          -1.0192388890646211,
          -0.3992210456372686,
          1.4250630113915486,
          -0.971549597576488,
          -0.4501073963360537,
          -0.1892859134377013,
          -0.6905846389249451,
          -1.199143632386855,
          0.0467970775595253,
          -1.23989672522572,
          -0.48879841900912,
          -1.0808293838332572,
          0.6633730009594334,
          -0.870097513282273,
          -0.1577067723856104,
          0.0486489664459351,
          1.938896169653393,
          -0.6345385420557824,
          0.4312973548976102,
          0.5672944938358387,
          0.795101440989806,
          -0.2239983974722932,
          -0.5080823020203185,
          1.15039279759389,
          -0.0303842879823605,
          0.3084780886706882,
          2.118266385307015,
          -0.0077025892848455,
          -0.5394554070891887,
          0.8682653349071567,
          0.191129132975187,
          0.6841133000544997,
          -0.8186112879523231,
          1.2090592480347353,
          0.7481935056695987,
          1.476235920924219,
          0.8796384913228062,
          -0.3411542533511186,
          2.839704969991166,
          1.783051879270685,
          1.3770351352203296,
          0.4938741571241361,
          0.3997853073683866,
          -0.9109209603529128,
          1.4052355593013184,
          -0.4954972515776435,
          -0.2982777056777023,
          1.7018322771078234,
          0.0255982069403703,
          -0.3947797709275367,
          0.735892994937781,
          -0.1941881696874357,
          -0.6082632107287211,
          0.0678954295831438,
          -0.2950881959897914,
          0.2305295908261948,
          -0.4127305283440138,
          -0.3312965189306127,
          -1.6626644890384437,
          0.1677077623251342,
          -0.6748090836267717,
          0.1947835543861483,
          -0.7363235502952709,
          -0.9348086276838006,
          1.3860705700413474,
          -0.2078522576480251,
          0.737282729518755,
          1.4036896440012347,
          0.8508187017857244,
          -1.6619422630452645,
          -1.0986741951561296,
          1.2636966585899567,
          -1.0182454419854887,
          -0.5204175730459024,
          -0.9063629334045932,
          0.1071711821652152,
          -0.3537574660396503,
          -1.7388296605185158,
          -0.7966724603690281,
          0.1055736526731579,
          -0.6009635666896229,
          -0.4695029947289258,
          0.8097522259723576,
          -0.4012419882170774,
          -0.2429406944994507,
          0.3320047161927795,
          0.833921509443666,
          0.2393314476020202
         ]
        },
        {
         "marker": {
          "color": "red",
          "size": 10
         },
         "mode": "markers",
         "name": "Ideal City",
         "type": "scatter3d",
         "x": [
          -0.8746851410106817
         ],
         "y": [
          -0.3107338703167631
         ],
         "z": [
          0.6152950755227161
         ]
        }
       ],
       "layout": {
        "margin": {
         "b": 0,
         "l": 0,
         "r": 0,
         "t": 0
        },
        "scene": {
         "xaxis": {
          "title": {
           "text": "PC1"
          }
         },
         "yaxis": {
          "title": {
           "text": "PC2"
          }
         },
         "zaxis": {
          "title": {
           "text": "PC3"
          }
         }
        },
        "template": {
         "data": {
          "bar": [
           {
            "error_x": {
             "color": "#2a3f5f"
            },
            "error_y": {
             "color": "#2a3f5f"
            },
            "marker": {
             "line": {
              "color": "#E5ECF6",
              "width": 0.5
             },
             "pattern": {
              "fillmode": "overlay",
              "size": 10,
              "solidity": 0.2
             }
            },
            "type": "bar"
           }
          ],
          "barpolar": [
           {
            "marker": {
             "line": {
              "color": "#E5ECF6",
              "width": 0.5
             },
             "pattern": {
              "fillmode": "overlay",
              "size": 10,
              "solidity": 0.2
             }
            },
            "type": "barpolar"
           }
          ],
          "carpet": [
           {
            "aaxis": {
             "endlinecolor": "#2a3f5f",
             "gridcolor": "white",
             "linecolor": "white",
             "minorgridcolor": "white",
             "startlinecolor": "#2a3f5f"
            },
            "baxis": {
             "endlinecolor": "#2a3f5f",
             "gridcolor": "white",
             "linecolor": "white",
             "minorgridcolor": "white",
             "startlinecolor": "#2a3f5f"
            },
            "type": "carpet"
           }
          ],
          "choropleth": [
           {
            "colorbar": {
             "outlinewidth": 0,
             "ticks": ""
            },
            "type": "choropleth"
           }
          ],
          "contour": [
           {
            "colorbar": {
             "outlinewidth": 0,
             "ticks": ""
            },
            "colorscale": [
             [
              0,
              "#0d0887"
             ],
             [
              0.1111111111111111,
              "#46039f"
             ],
             [
              0.2222222222222222,
              "#7201a8"
             ],
             [
              0.3333333333333333,
              "#9c179e"
             ],
             [
              0.4444444444444444,
              "#bd3786"
             ],
             [
              0.5555555555555556,
              "#d8576b"
             ],
             [
              0.6666666666666666,
              "#ed7953"
             ],
             [
              0.7777777777777778,
              "#fb9f3a"
             ],
             [
              0.8888888888888888,
              "#fdca26"
             ],
             [
              1,
              "#f0f921"
             ]
            ],
            "type": "contour"
           }
          ],
          "contourcarpet": [
           {
            "colorbar": {
             "outlinewidth": 0,
             "ticks": ""
            },
            "type": "contourcarpet"
           }
          ],
          "heatmap": [
           {
            "colorbar": {
             "outlinewidth": 0,
             "ticks": ""
            },
            "colorscale": [
             [
              0,
              "#0d0887"
             ],
             [
              0.1111111111111111,
              "#46039f"
             ],
             [
              0.2222222222222222,
              "#7201a8"
             ],
             [
              0.3333333333333333,
              "#9c179e"
             ],
             [
              0.4444444444444444,
              "#bd3786"
             ],
             [
              0.5555555555555556,
              "#d8576b"
             ],
             [
              0.6666666666666666,
              "#ed7953"
             ],
             [
              0.7777777777777778,
              "#fb9f3a"
             ],
             [
              0.8888888888888888,
              "#fdca26"
             ],
             [
              1,
              "#f0f921"
             ]
            ],
            "type": "heatmap"
           }
          ],
          "heatmapgl": [
           {
            "colorbar": {
             "outlinewidth": 0,
             "ticks": ""
            },
            "colorscale": [
             [
              0,
              "#0d0887"
             ],
             [
              0.1111111111111111,
              "#46039f"
             ],
             [
              0.2222222222222222,
              "#7201a8"
             ],
             [
              0.3333333333333333,
              "#9c179e"
             ],
             [
              0.4444444444444444,
              "#bd3786"
             ],
             [
              0.5555555555555556,
              "#d8576b"
             ],
             [
              0.6666666666666666,
              "#ed7953"
             ],
             [
              0.7777777777777778,
              "#fb9f3a"
             ],
             [
              0.8888888888888888,
              "#fdca26"
             ],
             [
              1,
              "#f0f921"
             ]
            ],
            "type": "heatmapgl"
           }
          ],
          "histogram": [
           {
            "marker": {
             "pattern": {
              "fillmode": "overlay",
              "size": 10,
              "solidity": 0.2
             }
            },
            "type": "histogram"
           }
          ],
          "histogram2d": [
           {
            "colorbar": {
             "outlinewidth": 0,
             "ticks": ""
            },
            "colorscale": [
             [
              0,
              "#0d0887"
             ],
             [
              0.1111111111111111,
              "#46039f"
             ],
             [
              0.2222222222222222,
              "#7201a8"
             ],
             [
              0.3333333333333333,
              "#9c179e"
             ],
             [
              0.4444444444444444,
              "#bd3786"
             ],
             [
              0.5555555555555556,
              "#d8576b"
             ],
             [
              0.6666666666666666,
              "#ed7953"
             ],
             [
              0.7777777777777778,
              "#fb9f3a"
             ],
             [
              0.8888888888888888,
              "#fdca26"
             ],
             [
              1,
              "#f0f921"
             ]
            ],
            "type": "histogram2d"
           }
          ],
          "histogram2dcontour": [
           {
            "colorbar": {
             "outlinewidth": 0,
             "ticks": ""
            },
            "colorscale": [
             [
              0,
              "#0d0887"
             ],
             [
              0.1111111111111111,
              "#46039f"
             ],
             [
              0.2222222222222222,
              "#7201a8"
             ],
             [
              0.3333333333333333,
              "#9c179e"
             ],
             [
              0.4444444444444444,
              "#bd3786"
             ],
             [
              0.5555555555555556,
              "#d8576b"
             ],
             [
              0.6666666666666666,
              "#ed7953"
             ],
             [
              0.7777777777777778,
              "#fb9f3a"
             ],
             [
              0.8888888888888888,
              "#fdca26"
             ],
             [
              1,
              "#f0f921"
             ]
            ],
            "type": "histogram2dcontour"
           }
          ],
          "mesh3d": [
           {
            "colorbar": {
             "outlinewidth": 0,
             "ticks": ""
            },
            "type": "mesh3d"
           }
          ],
          "parcoords": [
           {
            "line": {
             "colorbar": {
              "outlinewidth": 0,
              "ticks": ""
             }
            },
            "type": "parcoords"
           }
          ],
          "pie": [
           {
            "automargin": true,
            "type": "pie"
           }
          ],
          "scatter": [
           {
            "fillpattern": {
             "fillmode": "overlay",
             "size": 10,
             "solidity": 0.2
            },
            "type": "scatter"
           }
          ],
          "scatter3d": [
           {
            "line": {
             "colorbar": {
              "outlinewidth": 0,
              "ticks": ""
             }
            },
            "marker": {
             "colorbar": {
              "outlinewidth": 0,
              "ticks": ""
             }
            },
            "type": "scatter3d"
           }
          ],
          "scattercarpet": [
           {
            "marker": {
             "colorbar": {
              "outlinewidth": 0,
              "ticks": ""
             }
            },
            "type": "scattercarpet"
           }
          ],
          "scattergeo": [
           {
            "marker": {
             "colorbar": {
              "outlinewidth": 0,
              "ticks": ""
             }
            },
            "type": "scattergeo"
           }
          ],
          "scattergl": [
           {
            "marker": {
             "colorbar": {
              "outlinewidth": 0,
              "ticks": ""
             }
            },
            "type": "scattergl"
           }
          ],
          "scattermapbox": [
           {
            "marker": {
             "colorbar": {
              "outlinewidth": 0,
              "ticks": ""
             }
            },
            "type": "scattermapbox"
           }
          ],
          "scatterpolar": [
           {
            "marker": {
             "colorbar": {
              "outlinewidth": 0,
              "ticks": ""
             }
            },
            "type": "scatterpolar"
           }
          ],
          "scatterpolargl": [
           {
            "marker": {
             "colorbar": {
              "outlinewidth": 0,
              "ticks": ""
             }
            },
            "type": "scatterpolargl"
           }
          ],
          "scatterternary": [
           {
            "marker": {
             "colorbar": {
              "outlinewidth": 0,
              "ticks": ""
             }
            },
            "type": "scatterternary"
           }
          ],
          "surface": [
           {
            "colorbar": {
             "outlinewidth": 0,
             "ticks": ""
            },
            "colorscale": [
             [
              0,
              "#0d0887"
             ],
             [
              0.1111111111111111,
              "#46039f"
             ],
             [
              0.2222222222222222,
              "#7201a8"
             ],
             [
              0.3333333333333333,
              "#9c179e"
             ],
             [
              0.4444444444444444,
              "#bd3786"
             ],
             [
              0.5555555555555556,
              "#d8576b"
             ],
             [
              0.6666666666666666,
              "#ed7953"
             ],
             [
              0.7777777777777778,
              "#fb9f3a"
             ],
             [
              0.8888888888888888,
              "#fdca26"
             ],
             [
              1,
              "#f0f921"
             ]
            ],
            "type": "surface"
           }
          ],
          "table": [
           {
            "cells": {
             "fill": {
              "color": "#EBF0F8"
             },
             "line": {
              "color": "white"
             }
            },
            "header": {
             "fill": {
              "color": "#C8D4E3"
             },
             "line": {
              "color": "white"
             }
            },
            "type": "table"
           }
          ]
         },
         "layout": {
          "annotationdefaults": {
           "arrowcolor": "#2a3f5f",
           "arrowhead": 0,
           "arrowwidth": 1
          },
          "autotypenumbers": "strict",
          "coloraxis": {
           "colorbar": {
            "outlinewidth": 0,
            "ticks": ""
           }
          },
          "colorscale": {
           "diverging": [
            [
             0,
             "#8e0152"
            ],
            [
             0.1,
             "#c51b7d"
            ],
            [
             0.2,
             "#de77ae"
            ],
            [
             0.3,
             "#f1b6da"
            ],
            [
             0.4,
             "#fde0ef"
            ],
            [
             0.5,
             "#f7f7f7"
            ],
            [
             0.6,
             "#e6f5d0"
            ],
            [
             0.7,
             "#b8e186"
            ],
            [
             0.8,
             "#7fbc41"
            ],
            [
             0.9,
             "#4d9221"
            ],
            [
             1,
             "#276419"
            ]
           ],
           "sequential": [
            [
             0,
             "#0d0887"
            ],
            [
             0.1111111111111111,
             "#46039f"
            ],
            [
             0.2222222222222222,
             "#7201a8"
            ],
            [
             0.3333333333333333,
             "#9c179e"
            ],
            [
             0.4444444444444444,
             "#bd3786"
            ],
            [
             0.5555555555555556,
             "#d8576b"
            ],
            [
             0.6666666666666666,
             "#ed7953"
            ],
            [
             0.7777777777777778,
             "#fb9f3a"
            ],
            [
             0.8888888888888888,
             "#fdca26"
            ],
            [
             1,
             "#f0f921"
            ]
           ],
           "sequentialminus": [
            [
             0,
             "#0d0887"
            ],
            [
             0.1111111111111111,
             "#46039f"
            ],
            [
             0.2222222222222222,
             "#7201a8"
            ],
            [
             0.3333333333333333,
             "#9c179e"
            ],
            [
             0.4444444444444444,
             "#bd3786"
            ],
            [
             0.5555555555555556,
             "#d8576b"
            ],
            [
             0.6666666666666666,
             "#ed7953"
            ],
            [
             0.7777777777777778,
             "#fb9f3a"
            ],
            [
             0.8888888888888888,
             "#fdca26"
            ],
            [
             1,
             "#f0f921"
            ]
           ]
          },
          "colorway": [
           "#636efa",
           "#EF553B",
           "#00cc96",
           "#ab63fa",
           "#FFA15A",
           "#19d3f3",
           "#FF6692",
           "#B6E880",
           "#FF97FF",
           "#FECB52"
          ],
          "font": {
           "color": "#2a3f5f"
          },
          "geo": {
           "bgcolor": "white",
           "lakecolor": "white",
           "landcolor": "#E5ECF6",
           "showlakes": true,
           "showland": true,
           "subunitcolor": "white"
          },
          "hoverlabel": {
           "align": "left"
          },
          "hovermode": "closest",
          "mapbox": {
           "style": "light"
          },
          "paper_bgcolor": "white",
          "plot_bgcolor": "#E5ECF6",
          "polar": {
           "angularaxis": {
            "gridcolor": "white",
            "linecolor": "white",
            "ticks": ""
           },
           "bgcolor": "#E5ECF6",
           "radialaxis": {
            "gridcolor": "white",
            "linecolor": "white",
            "ticks": ""
           }
          },
          "scene": {
           "xaxis": {
            "backgroundcolor": "#E5ECF6",
            "gridcolor": "white",
            "gridwidth": 2,
            "linecolor": "white",
            "showbackground": true,
            "ticks": "",
            "zerolinecolor": "white"
           },
           "yaxis": {
            "backgroundcolor": "#E5ECF6",
            "gridcolor": "white",
            "gridwidth": 2,
            "linecolor": "white",
            "showbackground": true,
            "ticks": "",
            "zerolinecolor": "white"
           },
           "zaxis": {
            "backgroundcolor": "#E5ECF6",
            "gridcolor": "white",
            "gridwidth": 2,
            "linecolor": "white",
            "showbackground": true,
            "ticks": "",
            "zerolinecolor": "white"
           }
          },
          "shapedefaults": {
           "line": {
            "color": "#2a3f5f"
           }
          },
          "ternary": {
           "aaxis": {
            "gridcolor": "white",
            "linecolor": "white",
            "ticks": ""
           },
           "baxis": {
            "gridcolor": "white",
            "linecolor": "white",
            "ticks": ""
           },
           "bgcolor": "#E5ECF6",
           "caxis": {
            "gridcolor": "white",
            "linecolor": "white",
            "ticks": ""
           }
          },
          "title": {
           "x": 0.05
          },
          "xaxis": {
           "automargin": true,
           "gridcolor": "white",
           "linecolor": "white",
           "ticks": "",
           "title": {
            "standoff": 15
           },
           "zerolinecolor": "white",
           "zerolinewidth": 2
          },
          "yaxis": {
           "automargin": true,
           "gridcolor": "white",
           "linecolor": "white",
           "ticks": "",
           "title": {
            "standoff": 15
           },
           "zerolinecolor": "white",
           "zerolinewidth": 2
          }
         }
        }
       }
      }
     },
     "metadata": {},
     "output_type": "display_data"
    }
   ],
   "source": [
    "# Create a trace for the original PCA transformed points\n",
    "trace1 = go.Scatter3d(\n",
    "    x=train_df_pca.iloc[:, 0],\n",
    "    y=train_df_pca.iloc[:, 1],\n",
    "    z=train_df_pca.iloc[:, 2],\n",
    "    mode='markers',\n",
    "    marker=dict(\n",
    "        size=6,\n",
    "        color='blue',                \n",
    "        opacity=0.1                   \n",
    "    ),\n",
    "    text=train_df_pca['city_ascii'],  \n",
    "    hoverinfo='text',\n",
    "    name='Dataset Cities'\n",
    ")\n",
    "\n",
    "# Create a trace for the new point\n",
    "trace2 = go.Scatter3d(\n",
    "    x=[new_point_pca[0][0]],\n",
    "    y=[new_point_pca[0][1]],\n",
    "    z=[new_point_pca[0][2]],\n",
    "    mode='markers',\n",
    "    marker=dict(\n",
    "        size=10,\n",
    "        color='red',                \n",
    "    ),\n",
    "    name='Ideal City'\n",
    ")\n",
    "\n",
    "# Define the layout\n",
    "layout = go.Layout(\n",
    "    margin=dict(\n",
    "        l=0,\n",
    "        r=0,\n",
    "        b=0,\n",
    "        t=0\n",
    "    ),\n",
    "    scene=dict(\n",
    "        xaxis_title='PC1',\n",
    "        yaxis_title='PC2',\n",
    "        zaxis_title='PC3'\n",
    "    )\n",
    ")\n",
    "\n",
    "\n",
    "fig = go.Figure(data=[trace1, trace2], layout=layout)\n",
    "fig.show()\n"
   ]
  },
  {
   "cell_type": "code",
   "execution_count": 28,
   "id": "ed4e9ae7-8c53-4cf9-aba5-095099eb1b8a",
   "metadata": {},
   "outputs": [
    {
     "data": {
      "text/html": [
       "<div>\n",
       "<style scoped>\n",
       "    .dataframe tbody tr th:only-of-type {\n",
       "        vertical-align: middle;\n",
       "    }\n",
       "\n",
       "    .dataframe tbody tr th {\n",
       "        vertical-align: top;\n",
       "    }\n",
       "\n",
       "    .dataframe thead th {\n",
       "        text-align: right;\n",
       "    }\n",
       "</style>\n",
       "<table border=\"1\" class=\"dataframe\">\n",
       "  <thead>\n",
       "    <tr style=\"text-align: right;\">\n",
       "      <th></th>\n",
       "      <th>city_ascii</th>\n",
       "      <th>country</th>\n",
       "      <th>mean_tmp</th>\n",
       "      <th>std_dev_temp</th>\n",
       "      <th>lat</th>\n",
       "      <th>lng</th>\n",
       "      <th>scaled_cost_live_rent_index</th>\n",
       "      <th>scaled_purchase_pow_index</th>\n",
       "      <th>scaled_safety_index</th>\n",
       "      <th>scaled_pollution_index</th>\n",
       "      <th>scaled_trffic_min_index</th>\n",
       "      <th>scaled_mean_tmp</th>\n",
       "      <th>scaled_tmp_std_dev</th>\n",
       "      <th>Distance</th>\n",
       "      <th>Rank</th>\n",
       "    </tr>\n",
       "  </thead>\n",
       "  <tbody>\n",
       "    <tr>\n",
       "      <th>61</th>\n",
       "      <td>Tokyo</td>\n",
       "      <td>Japan</td>\n",
       "      <td>15.375000</td>\n",
       "      <td>7.586846</td>\n",
       "      <td>35.6897</td>\n",
       "      <td>139.6922</td>\n",
       "      <td>0.099744</td>\n",
       "      <td>0.634546</td>\n",
       "      <td>1.378793</td>\n",
       "      <td>0.437708</td>\n",
       "      <td>-0.559487</td>\n",
       "      <td>-0.274160</td>\n",
       "      <td>0.904613</td>\n",
       "      <td>0.362672</td>\n",
       "      <td>1</td>\n",
       "    </tr>\n",
       "    <tr>\n",
       "      <th>56</th>\n",
       "      <td>Prague</td>\n",
       "      <td>Czech Republic</td>\n",
       "      <td>11.400000</td>\n",
       "      <td>5.753694</td>\n",
       "      <td>50.0755</td>\n",
       "      <td>14.4378</td>\n",
       "      <td>-0.112861</td>\n",
       "      <td>-0.092603</td>\n",
       "      <td>1.358797</td>\n",
       "      <td>0.871418</td>\n",
       "      <td>0.740842</td>\n",
       "      <td>-0.975429</td>\n",
       "      <td>0.126193</td>\n",
       "      <td>0.795473</td>\n",
       "      <td>2</td>\n",
       "    </tr>\n",
       "    <tr>\n",
       "      <th>51</th>\n",
       "      <td>Montreal</td>\n",
       "      <td>Canada</td>\n",
       "      <td>13.225000</td>\n",
       "      <td>6.945039</td>\n",
       "      <td>45.5089</td>\n",
       "      <td>-73.5617</td>\n",
       "      <td>-0.224478</td>\n",
       "      <td>0.798541</td>\n",
       "      <td>0.878880</td>\n",
       "      <td>0.861886</td>\n",
       "      <td>-0.100547</td>\n",
       "      <td>-0.653463</td>\n",
       "      <td>0.632080</td>\n",
       "      <td>0.867076</td>\n",
       "      <td>3</td>\n",
       "    </tr>\n",
       "    <tr>\n",
       "      <th>80</th>\n",
       "      <td>Porto</td>\n",
       "      <td>Portugal</td>\n",
       "      <td>15.725000</td>\n",
       "      <td>4.050393</td>\n",
       "      <td>41.1621</td>\n",
       "      <td>-8.6220</td>\n",
       "      <td>0.466488</td>\n",
       "      <td>-0.241127</td>\n",
       "      <td>0.832221</td>\n",
       "      <td>1.147849</td>\n",
       "      <td>1.593158</td>\n",
       "      <td>-0.212413</td>\n",
       "      <td>-0.597089</td>\n",
       "      <td>0.869924</td>\n",
       "      <td>4</td>\n",
       "    </tr>\n",
       "    <tr>\n",
       "      <th>69</th>\n",
       "      <td>Riyadh</td>\n",
       "      <td>Saudi Arabia</td>\n",
       "      <td>25.833333</td>\n",
       "      <td>8.043443</td>\n",
       "      <td>24.6333</td>\n",
       "      <td>46.7167</td>\n",
       "      <td>0.381446</td>\n",
       "      <td>0.773787</td>\n",
       "      <td>1.258814</td>\n",
       "      <td>-0.553630</td>\n",
       "      <td>0.740842</td>\n",
       "      <td>1.570897</td>\n",
       "      <td>1.098500</td>\n",
       "      <td>0.880478</td>\n",
       "      <td>5</td>\n",
       "    </tr>\n",
       "  </tbody>\n",
       "</table>\n",
       "</div>"
      ],
      "text/plain": [
       "   city_ascii         country   mean_tmp  std_dev_temp      lat       lng  \\\n",
       "61      Tokyo           Japan  15.375000      7.586846  35.6897  139.6922   \n",
       "56     Prague  Czech Republic  11.400000      5.753694  50.0755   14.4378   \n",
       "51   Montreal          Canada  13.225000      6.945039  45.5089  -73.5617   \n",
       "80      Porto        Portugal  15.725000      4.050393  41.1621   -8.6220   \n",
       "69     Riyadh    Saudi Arabia  25.833333      8.043443  24.6333   46.7167   \n",
       "\n",
       "    scaled_cost_live_rent_index  scaled_purchase_pow_index  \\\n",
       "61                     0.099744                   0.634546   \n",
       "56                    -0.112861                  -0.092603   \n",
       "51                    -0.224478                   0.798541   \n",
       "80                     0.466488                  -0.241127   \n",
       "69                     0.381446                   0.773787   \n",
       "\n",
       "    scaled_safety_index  scaled_pollution_index  scaled_trffic_min_index  \\\n",
       "61             1.378793                0.437708                -0.559487   \n",
       "56             1.358797                0.871418                 0.740842   \n",
       "51             0.878880                0.861886                -0.100547   \n",
       "80             0.832221                1.147849                 1.593158   \n",
       "69             1.258814               -0.553630                 0.740842   \n",
       "\n",
       "    scaled_mean_tmp  scaled_tmp_std_dev  Distance  Rank  \n",
       "61        -0.274160            0.904613  0.362672     1  \n",
       "56        -0.975429            0.126193  0.795473     2  \n",
       "51        -0.653463            0.632080  0.867076     3  \n",
       "80        -0.212413           -0.597089  0.869924     4  \n",
       "69         1.570897            1.098500  0.880478     5  "
      ]
     },
     "execution_count": 28,
     "metadata": {},
     "output_type": "execute_result"
    }
   ],
   "source": [
    "df_distances['city_ascii'] = df_distances.index\n",
    "finding_home_top_df = final_df.merge(df_distances, left_on='city_ascii', right_on='city_ascii', how='inner')\n",
    "finding_home_top_df = finding_home_top_df.sort_values(by='Distance')\n",
    "rnk = [i for i in range(1,finding_home_top_df.shape[0] + 1)]\n",
    "finding_home_top_df['Rank'] = rnk\n",
    "finding_home_top_df = finding_home_top_df.head(5)\n",
    "finding_home_top_df.head()"
   ]
  },
  {
   "cell_type": "code",
   "execution_count": 41,
   "id": "5143d96d-45d0-40a8-bfb0-675ab950defc",
   "metadata": {},
   "outputs": [
    {
     "data": {
      "image/png": "[encoded data removed]",
      "text/plain": [
       "<Figure size 1200x800 with 2 Axes>"
      ]
     },
     "metadata": {},
     "output_type": "display_data"
    }
   ],
   "source": [
    "plt.rcParams.update(bundles.icml2022(column=\"half\", nrows=12, ncols=8, usetex=False))\n",
    "fig = plt.figure(figsize=(12, 8))\n",
    "ax = fig.add_subplot(1, 1, 1, projection=ccrs.PlateCarree())\n",
    "\n",
    "\n",
    "ax.add_feature(cfeature.LAND, facecolor=(0.98, 0.98, 0.98)) \n",
    "ax.add_feature(cfeature.OCEAN, facecolor='Azure')\n",
    "ax.add_feature(cfeature.COASTLINE, edgecolor='RebeccaPurple')\n",
    "ax.add_feature(cfeature.LAKES, facecolor='LightBlue')\n",
    "ax.add_feature(cfeature.RIVERS, edgecolor='LightBlue')\n",
    "\n",
    "# Scatter plot\n",
    "sc = ax.scatter(finding_home_top_df['lng'], finding_home_top_df['lat'], \n",
    "                c=finding_home_top_df['Rank'], cmap='viridis_r', s=100, alpha=0.8, \n",
    "                transform=ccrs.PlateCarree())\n",
    "\n",
    "\n",
    "for i, txt in enumerate(finding_home_top_df['city_ascii']):\n",
    "    if txt == \"Prague\":\n",
    "        ax.text(finding_home_top_df['lng'].iloc[i] - 1, finding_home_top_df['lat'].iloc[i], txt, \n",
    "                color='black', fontsize=14, ha='left', va='center', transform=ccrs.PlateCarree())\n",
    "    elif txt == \"Tokyo\":\n",
    "        ax.text(finding_home_top_df['lng'].iloc[i] - 1, finding_home_top_df['lat'].iloc[i], txt, \n",
    "                color='black', fontsize=14, ha='left', va='center', transform=ccrs.PlateCarree())\n",
    "    else:\n",
    "        ax.text(finding_home_top_df['lng'].iloc[i] - 1, finding_home_top_df['lat'].iloc[i], txt, \n",
    "            color='black', fontsize=14, ha='right', va='center', transform=ccrs.PlateCarree())\n",
    "\n",
    "# Add colorbar\n",
    "cbar = fig.colorbar(sc, ax=ax, fraction=0.02, pad=0.04)\n",
    "cbar.set_label('City Rank Scale (1-5)', fontsize=20)  \n",
    "cbar.set_ticks(np.arange(1, 6))  \n",
    "cbar.ax.tick_params(labelsize=20)\n",
    "\n",
    "# Set the global extent\n",
    "ax.set_global()\n",
    "\n",
    "plt.show()\n",
    "fig.savefig('top_5_cities_default_params.pdf')\n"
   ]
  },
  {
   "cell_type": "code",
   "execution_count": 30,
   "id": "262ea19d",
   "metadata": {},
   "outputs": [],
   "source": [
    "def rgb_to_hex(rgb):\n",
    "    return '#%02x%02x%02x' % (int(rgb[0]*255), int(rgb[1]*255), int(rgb[2]*255))\n",
    "\n",
    "\n",
    "# Convert RGB to hexadecimal color codes\n",
    "green = rgb_to_hex(rgb.tue_darkgreen)\n",
    "red = rgb_to_hex(rgb.tue_red)"
   ]
  },
  {
   "cell_type": "code",
   "execution_count": 31,
   "id": "9ac2dab5-98b7-4a65-8b66-1d8c1085bc86",
   "metadata": {},
   "outputs": [
    {
     "data": {
      "image/png": "[encoded data removed]",
      "text/plain": [
       "<Figure size 500x500 with 1 Axes>"
      ]
     },
     "metadata": {},
     "output_type": "display_data"
    }
   ],
   "source": [
    "plt.rcParams.update(bundles.icml2022(column=\"half\", nrows=5, ncols=5, usetex=False))\n",
    "fig, ax = plt.subplots(figsize=(5, 5), subplot_kw=dict(projection='3d'))\n",
    "\n",
    "# Create a scatter plot for the original PCA transformed points\n",
    "ax.scatter(train_df_pca.iloc[:, 0], train_df_pca.iloc[:, 1], train_df_pca.iloc[:, 2], \n",
    "           color=green, alpha=0.5, s=10, label='Dataset Cities')\n",
    "\n",
    "# Create a scatter plot for the new point\n",
    "ax.scatter([new_point_pca[0][0]], [new_point_pca[0][1]], [new_point_pca[0][2]], \n",
    "           c=red, s=15, label='Ideal City')\n",
    "\n",
    "ax.set_xlabel('PC1')\n",
    "ax.set_ylabel('PC2')\n",
    "ax.set_zlabel('PC3')\n",
    "\n",
    "ax.legend()\n",
    "\n",
    "plt.savefig('3d-euclidean-pca.pdf')\n",
    "plt.show()\n"
   ]
  },
  {
   "cell_type": "code",
   "execution_count": 32,
   "id": "82cb76e9",
   "metadata": {},
   "outputs": [
    {
     "data": {
      "text/html": [
       "<div>\n",
       "<style scoped>\n",
       "    .dataframe tbody tr th:only-of-type {\n",
       "        vertical-align: middle;\n",
       "    }\n",
       "\n",
       "    .dataframe tbody tr th {\n",
       "        vertical-align: top;\n",
       "    }\n",
       "\n",
       "    .dataframe thead th {\n",
       "        text-align: right;\n",
       "    }\n",
       "</style>\n",
       "<table border=\"1\" class=\"dataframe\">\n",
       "  <thead>\n",
       "    <tr style=\"text-align: right;\">\n",
       "      <th></th>\n",
       "      <th>0</th>\n",
       "      <th>1</th>\n",
       "      <th>2</th>\n",
       "      <th>city_ascii</th>\n",
       "    </tr>\n",
       "  </thead>\n",
       "  <tbody>\n",
       "    <tr>\n",
       "      <th>0</th>\n",
       "      <td>0.055315</td>\n",
       "      <td>2.557494</td>\n",
       "      <td>1.148883</td>\n",
       "      <td>Honolulu</td>\n",
       "    </tr>\n",
       "    <tr>\n",
       "      <th>1</th>\n",
       "      <td>-1.542263</td>\n",
       "      <td>1.974554</td>\n",
       "      <td>-1.225294</td>\n",
       "      <td>Seattle</td>\n",
       "    </tr>\n",
       "    <tr>\n",
       "      <th>2</th>\n",
       "      <td>-1.479851</td>\n",
       "      <td>0.582059</td>\n",
       "      <td>0.496239</td>\n",
       "      <td>Canberra</td>\n",
       "    </tr>\n",
       "    <tr>\n",
       "      <th>3</th>\n",
       "      <td>-0.767255</td>\n",
       "      <td>1.023691</td>\n",
       "      <td>0.716547</td>\n",
       "      <td>Adelaide</td>\n",
       "    </tr>\n",
       "    <tr>\n",
       "      <th>4</th>\n",
       "      <td>-2.210152</td>\n",
       "      <td>1.050126</td>\n",
       "      <td>-1.002660</td>\n",
       "      <td>Boston</td>\n",
       "    </tr>\n",
       "  </tbody>\n",
       "</table>\n",
       "</div>"
      ],
      "text/plain": [
       "          0         1         2 city_ascii\n",
       "0  0.055315  2.557494  1.148883   Honolulu\n",
       "1 -1.542263  1.974554 -1.225294    Seattle\n",
       "2 -1.479851  0.582059  0.496239   Canberra\n",
       "3 -0.767255  1.023691  0.716547   Adelaide\n",
       "4 -2.210152  1.050126 -1.002660     Boston"
      ]
     },
     "execution_count": 32,
     "metadata": {},
     "output_type": "execute_result"
    }
   ],
   "source": [
    "train_df_pca.head()"
   ]
  },
  {
   "cell_type": "code",
   "execution_count": 33,
   "id": "13af92d6-adc2-4ad3-8995-d85fcd3c06a1",
   "metadata": {},
   "outputs": [
    {
     "data": {
      "image/png": "[encoded data removed]",
      "text/plain": [
       "<Figure size 1800x600 with 3 Axes>"
      ]
     },
     "metadata": {},
     "output_type": "display_data"
    }
   ],
   "source": [
    "train_data = train_df_pca.iloc[:, :3].values  # Select only the first three columns (PCA components)\n",
    "new_point = new_point_pca.reshape(1, -1)  # Reshape the new point to 2D array\n",
    "city_names = train_df_pca['city_ascii'].values  # Get city names\n",
    "\n",
    "distances = np.sqrt(np.sum((train_data - new_point)**2, axis=1))\n",
    "\n",
    "# Get the indices of the 5 nearest neighbors\n",
    "indices = np.argsort(distances)[:5]\n",
    "\n",
    "# Create combinations for PCA components\n",
    "combinations = [(0, 1), (0, 2), (1, 2)]\n",
    "labels = [('PC1', 'PC2'), ('PC1', 'PC3'), ('PC2', 'PC3')]\n",
    "\n",
    "plt.rcParams.update(bundles.icml2022(column=\"full\", nrows=18, ncols=6, usetex=False))\n",
    "fig, axs = plt.subplots(1, 3, figsize=(18, 6))  # Create a figure with 3 subplots arranged horizontally\n",
    "\n",
    "for i, ax in enumerate(axs):\n",
    "    ax.scatter(train_data[:, combinations[i][0]], train_data[:, combinations[i][1]], color='green', alpha=0.1, label='Other cities')\n",
    "    ax.scatter(new_point[:, combinations[i][0]], new_point[:, combinations[i][1]], color='red', alpha=0.8, label='Dummy Sample')\n",
    "    ax.scatter(train_data[indices, combinations[i][0]], train_data[indices, combinations[i][1]], color='blue', alpha=0.5, label='5 closest cities in given PCs')  # Mark the 5 closest points\n",
    "    for j in indices:\n",
    "        ax.text(train_data[j, combinations[i][0]]-0.05, train_data[j, combinations[i][1]], city_names[j], fontsize=16)\n",
    "    if i == 0:\n",
    "        ax.legend(loc='upper left', fontsize=20)  \n",
    "    ax.set_xlabel(labels[i][0], fontsize=20)\n",
    "    ax.set_ylabel(labels[i][1], fontsize=20)\n",
    "    ax.set_xticks([])  \n",
    "    ax.set_yticks([])\n",
    "\n",
    "#ax.legend(loc='best', fontsize=16) \n",
    "\n",
    "\n",
    "plt.savefig('pca-each-components-dummy.pdf')\n",
    "plt.show()\n"
   ]
  },
  {
   "cell_type": "code",
   "execution_count": null,
   "id": "493594ad",
   "metadata": {},
   "outputs": [],
   "source": []
  }
 ],
 "metadata": {
  "kernelspec": {
   "display_name": "Python 3 (ipykernel)",
   "language": "python",
   "name": "python3"
  },
  "language_info": {
   "codemirror_mode": {
    "name": "ipython",
    "version": 3
   },
   "file_extension": ".py",
   "mimetype": "text/x-python",
   "name": "python",
   "nbconvert_exporter": "python",
   "pygments_lexer": "ipython3",
   "version": "3.11.7"
  }
 },
 "nbformat": 4,
 "nbformat_minor": 5
}
